{
 "cells": [
  {
   "cell_type": "code",
   "execution_count": 2,
   "metadata": {},
   "outputs": [
    {
     "name": "stderr",
     "output_type": "stream",
     "text": [
      "[nltk_data] Downloading package averaged_perceptron_tagger to\n",
      "[nltk_data]     /Users/aarunku5/nltk_data...\n",
      "[nltk_data]   Package averaged_perceptron_tagger is already up-to-\n",
      "[nltk_data]       date!\n"
     ]
    },
    {
     "name": "stdout",
     "output_type": "stream",
     "text": [
      "Requirement already satisfied: spacy-transformers in /Users/aarunku5/opt/anaconda3/lib/python3.8/site-packages (1.0.4)\n",
      "Requirement already satisfied: transformers<4.10.0,>=3.4.0 in /Users/aarunku5/opt/anaconda3/lib/python3.8/site-packages (from spacy-transformers) (4.9.2)\n",
      "Requirement already satisfied: spacy<4.0.0,>=3.0.0 in /Users/aarunku5/opt/anaconda3/lib/python3.8/site-packages (from spacy-transformers) (3.1.2)\n",
      "Requirement already satisfied: torch>=1.5.0 in /Users/aarunku5/opt/anaconda3/lib/python3.8/site-packages (from spacy-transformers) (1.9.0)\n",
      "Requirement already satisfied: srsly<3.0.0,>=2.4.0 in /Users/aarunku5/opt/anaconda3/lib/python3.8/site-packages (from spacy-transformers) (2.4.1)\n",
      "Requirement already satisfied: spacy-alignments<1.0.0,>=0.7.2 in /Users/aarunku5/opt/anaconda3/lib/python3.8/site-packages (from spacy-transformers) (0.8.3)\n",
      "Requirement already satisfied: cymem<2.1.0,>=2.0.2 in /Users/aarunku5/opt/anaconda3/lib/python3.8/site-packages (from spacy<4.0.0,>=3.0.0->spacy-transformers) (2.0.5)\n",
      "Requirement already satisfied: typer<0.4.0,>=0.3.0 in /Users/aarunku5/opt/anaconda3/lib/python3.8/site-packages (from spacy<4.0.0,>=3.0.0->spacy-transformers) (0.3.2)\n",
      "Requirement already satisfied: wasabi<1.1.0,>=0.8.1 in /Users/aarunku5/opt/anaconda3/lib/python3.8/site-packages (from spacy<4.0.0,>=3.0.0->spacy-transformers) (0.8.2)\n",
      "Requirement already satisfied: tqdm<5.0.0,>=4.38.0 in /Users/aarunku5/opt/anaconda3/lib/python3.8/site-packages (from spacy<4.0.0,>=3.0.0->spacy-transformers) (4.59.0)\n",
      "Requirement already satisfied: spacy-legacy<3.1.0,>=3.0.7 in /Users/aarunku5/opt/anaconda3/lib/python3.8/site-packages (from spacy<4.0.0,>=3.0.0->spacy-transformers) (3.0.8)\n",
      "Requirement already satisfied: thinc<8.1.0,>=8.0.8 in /Users/aarunku5/opt/anaconda3/lib/python3.8/site-packages (from spacy<4.0.0,>=3.0.0->spacy-transformers) (8.0.8)\n",
      "Requirement already satisfied: blis<0.8.0,>=0.4.0 in /Users/aarunku5/opt/anaconda3/lib/python3.8/site-packages (from spacy<4.0.0,>=3.0.0->spacy-transformers) (0.7.4)\n",
      "Requirement already satisfied: jinja2 in /Users/aarunku5/opt/anaconda3/lib/python3.8/site-packages (from spacy<4.0.0,>=3.0.0->spacy-transformers) (2.11.3)\n",
      "Requirement already satisfied: setuptools in /Users/aarunku5/opt/anaconda3/lib/python3.8/site-packages (from spacy<4.0.0,>=3.0.0->spacy-transformers) (52.0.0.post20210125)\n",
      "Requirement already satisfied: catalogue<2.1.0,>=2.0.4 in /Users/aarunku5/opt/anaconda3/lib/python3.8/site-packages (from spacy<4.0.0,>=3.0.0->spacy-transformers) (2.0.5)\n",
      "Requirement already satisfied: numpy>=1.15.0 in /Users/aarunku5/opt/anaconda3/lib/python3.8/site-packages (from spacy<4.0.0,>=3.0.0->spacy-transformers) (1.20.1)\n",
      "Requirement already satisfied: requests<3.0.0,>=2.13.0 in /Users/aarunku5/opt/anaconda3/lib/python3.8/site-packages (from spacy<4.0.0,>=3.0.0->spacy-transformers) (2.25.1)\n",
      "Requirement already satisfied: packaging>=20.0 in /Users/aarunku5/opt/anaconda3/lib/python3.8/site-packages (from spacy<4.0.0,>=3.0.0->spacy-transformers) (20.9)\n",
      "Requirement already satisfied: pathy>=0.3.5 in /Users/aarunku5/opt/anaconda3/lib/python3.8/site-packages (from spacy<4.0.0,>=3.0.0->spacy-transformers) (0.6.0)\n",
      "Requirement already satisfied: murmurhash<1.1.0,>=0.28.0 in /Users/aarunku5/opt/anaconda3/lib/python3.8/site-packages (from spacy<4.0.0,>=3.0.0->spacy-transformers) (1.0.5)\n",
      "Requirement already satisfied: pydantic!=1.8,!=1.8.1,<1.9.0,>=1.7.4 in /Users/aarunku5/opt/anaconda3/lib/python3.8/site-packages (from spacy<4.0.0,>=3.0.0->spacy-transformers) (1.8.2)\n",
      "Requirement already satisfied: preshed<3.1.0,>=3.0.2 in /Users/aarunku5/opt/anaconda3/lib/python3.8/site-packages (from spacy<4.0.0,>=3.0.0->spacy-transformers) (3.0.5)\n",
      "Requirement already satisfied: typing_extensions in /Users/aarunku5/opt/anaconda3/lib/python3.8/site-packages (from torch>=1.5.0->spacy-transformers) (3.7.4.3)\n",
      "Requirement already satisfied: sacremoses in /Users/aarunku5/opt/anaconda3/lib/python3.8/site-packages (from transformers<4.10.0,>=3.4.0->spacy-transformers) (0.0.45)\n",
      "Requirement already satisfied: filelock in /Users/aarunku5/opt/anaconda3/lib/python3.8/site-packages (from transformers<4.10.0,>=3.4.0->spacy-transformers) (3.0.12)\n",
      "Requirement already satisfied: regex!=2019.12.17 in /Users/aarunku5/opt/anaconda3/lib/python3.8/site-packages (from transformers<4.10.0,>=3.4.0->spacy-transformers) (2021.4.4)\n",
      "Requirement already satisfied: huggingface-hub==0.0.12 in /Users/aarunku5/opt/anaconda3/lib/python3.8/site-packages (from transformers<4.10.0,>=3.4.0->spacy-transformers) (0.0.12)\n",
      "Requirement already satisfied: pyyaml>=5.1 in /Users/aarunku5/opt/anaconda3/lib/python3.8/site-packages (from transformers<4.10.0,>=3.4.0->spacy-transformers) (5.4.1)\n",
      "Requirement already satisfied: tokenizers<0.11,>=0.10.1 in /Users/aarunku5/opt/anaconda3/lib/python3.8/site-packages (from transformers<4.10.0,>=3.4.0->spacy-transformers) (0.10.3)\n",
      "Requirement already satisfied: pyparsing>=2.0.2 in /Users/aarunku5/opt/anaconda3/lib/python3.8/site-packages (from packaging>=20.0->spacy<4.0.0,>=3.0.0->spacy-transformers) (2.4.7)\n",
      "Requirement already satisfied: smart-open<6.0.0,>=5.0.0 in /Users/aarunku5/opt/anaconda3/lib/python3.8/site-packages (from pathy>=0.3.5->spacy<4.0.0,>=3.0.0->spacy-transformers) (5.2.0)\n",
      "Requirement already satisfied: idna<3,>=2.5 in /Users/aarunku5/opt/anaconda3/lib/python3.8/site-packages (from requests<3.0.0,>=2.13.0->spacy<4.0.0,>=3.0.0->spacy-transformers) (2.10)\n",
      "Requirement already satisfied: chardet<5,>=3.0.2 in /Users/aarunku5/opt/anaconda3/lib/python3.8/site-packages (from requests<3.0.0,>=2.13.0->spacy<4.0.0,>=3.0.0->spacy-transformers) (4.0.0)\n",
      "Requirement already satisfied: certifi>=2017.4.17 in /Users/aarunku5/opt/anaconda3/lib/python3.8/site-packages (from requests<3.0.0,>=2.13.0->spacy<4.0.0,>=3.0.0->spacy-transformers) (2020.12.5)\n",
      "Requirement already satisfied: urllib3<1.27,>=1.21.1 in /Users/aarunku5/opt/anaconda3/lib/python3.8/site-packages (from requests<3.0.0,>=2.13.0->spacy<4.0.0,>=3.0.0->spacy-transformers) (1.26.4)\n",
      "Requirement already satisfied: click<7.2.0,>=7.1.1 in /Users/aarunku5/opt/anaconda3/lib/python3.8/site-packages (from typer<0.4.0,>=0.3.0->spacy<4.0.0,>=3.0.0->spacy-transformers) (7.1.2)\n",
      "Requirement already satisfied: MarkupSafe>=0.23 in /Users/aarunku5/opt/anaconda3/lib/python3.8/site-packages (from jinja2->spacy<4.0.0,>=3.0.0->spacy-transformers) (1.1.1)\n",
      "Requirement already satisfied: six in /Users/aarunku5/opt/anaconda3/lib/python3.8/site-packages (from sacremoses->transformers<4.10.0,>=3.4.0->spacy-transformers) (1.15.0)\n",
      "Requirement already satisfied: joblib in /Users/aarunku5/opt/anaconda3/lib/python3.8/site-packages (from sacremoses->transformers<4.10.0,>=3.4.0->spacy-transformers) (1.0.1)\n",
      "Collecting en-core-web-trf==3.1.0\n",
      "  Downloading https://github.com/explosion/spacy-models/releases/download/en_core_web_trf-3.1.0/en_core_web_trf-3.1.0-py3-none-any.whl (460.2 MB)\n",
      "     |████████████████████████████████| 460.2 MB 20 kB/s              \n",
      "\u001b[?25hRequirement already satisfied: spacy<3.2.0,>=3.1.0 in /Users/aarunku5/opt/anaconda3/lib/python3.8/site-packages (from en-core-web-trf==3.1.0) (3.1.2)\n",
      "Requirement already satisfied: spacy-transformers<1.1.0,>=1.0.3 in /Users/aarunku5/opt/anaconda3/lib/python3.8/site-packages (from en-core-web-trf==3.1.0) (1.0.4)\n",
      "Requirement already satisfied: srsly<3.0.0,>=2.4.1 in /Users/aarunku5/opt/anaconda3/lib/python3.8/site-packages (from spacy<3.2.0,>=3.1.0->en-core-web-trf==3.1.0) (2.4.1)\n",
      "Requirement already satisfied: spacy-legacy<3.1.0,>=3.0.7 in /Users/aarunku5/opt/anaconda3/lib/python3.8/site-packages (from spacy<3.2.0,>=3.1.0->en-core-web-trf==3.1.0) (3.0.8)\n",
      "Requirement already satisfied: pathy>=0.3.5 in /Users/aarunku5/opt/anaconda3/lib/python3.8/site-packages (from spacy<3.2.0,>=3.1.0->en-core-web-trf==3.1.0) (0.6.0)\n",
      "Requirement already satisfied: preshed<3.1.0,>=3.0.2 in /Users/aarunku5/opt/anaconda3/lib/python3.8/site-packages (from spacy<3.2.0,>=3.1.0->en-core-web-trf==3.1.0) (3.0.5)\n",
      "Requirement already satisfied: typer<0.4.0,>=0.3.0 in /Users/aarunku5/opt/anaconda3/lib/python3.8/site-packages (from spacy<3.2.0,>=3.1.0->en-core-web-trf==3.1.0) (0.3.2)\n",
      "Requirement already satisfied: requests<3.0.0,>=2.13.0 in /Users/aarunku5/opt/anaconda3/lib/python3.8/site-packages (from spacy<3.2.0,>=3.1.0->en-core-web-trf==3.1.0) (2.25.1)\n",
      "Requirement already satisfied: pydantic!=1.8,!=1.8.1,<1.9.0,>=1.7.4 in /Users/aarunku5/opt/anaconda3/lib/python3.8/site-packages (from spacy<3.2.0,>=3.1.0->en-core-web-trf==3.1.0) (1.8.2)\n",
      "Requirement already satisfied: numpy>=1.15.0 in /Users/aarunku5/opt/anaconda3/lib/python3.8/site-packages (from spacy<3.2.0,>=3.1.0->en-core-web-trf==3.1.0) (1.20.1)\n",
      "Requirement already satisfied: thinc<8.1.0,>=8.0.8 in /Users/aarunku5/opt/anaconda3/lib/python3.8/site-packages (from spacy<3.2.0,>=3.1.0->en-core-web-trf==3.1.0) (8.0.8)\n",
      "Requirement already satisfied: jinja2 in /Users/aarunku5/opt/anaconda3/lib/python3.8/site-packages (from spacy<3.2.0,>=3.1.0->en-core-web-trf==3.1.0) (2.11.3)\n",
      "Requirement already satisfied: blis<0.8.0,>=0.4.0 in /Users/aarunku5/opt/anaconda3/lib/python3.8/site-packages (from spacy<3.2.0,>=3.1.0->en-core-web-trf==3.1.0) (0.7.4)\n",
      "Requirement already satisfied: tqdm<5.0.0,>=4.38.0 in /Users/aarunku5/opt/anaconda3/lib/python3.8/site-packages (from spacy<3.2.0,>=3.1.0->en-core-web-trf==3.1.0) (4.59.0)\n",
      "Requirement already satisfied: packaging>=20.0 in /Users/aarunku5/opt/anaconda3/lib/python3.8/site-packages (from spacy<3.2.0,>=3.1.0->en-core-web-trf==3.1.0) (20.9)\n",
      "Requirement already satisfied: murmurhash<1.1.0,>=0.28.0 in /Users/aarunku5/opt/anaconda3/lib/python3.8/site-packages (from spacy<3.2.0,>=3.1.0->en-core-web-trf==3.1.0) (1.0.5)\n",
      "Requirement already satisfied: catalogue<2.1.0,>=2.0.4 in /Users/aarunku5/opt/anaconda3/lib/python3.8/site-packages (from spacy<3.2.0,>=3.1.0->en-core-web-trf==3.1.0) (2.0.5)\n",
      "Requirement already satisfied: wasabi<1.1.0,>=0.8.1 in /Users/aarunku5/opt/anaconda3/lib/python3.8/site-packages (from spacy<3.2.0,>=3.1.0->en-core-web-trf==3.1.0) (0.8.2)\n",
      "Requirement already satisfied: setuptools in /Users/aarunku5/opt/anaconda3/lib/python3.8/site-packages (from spacy<3.2.0,>=3.1.0->en-core-web-trf==3.1.0) (52.0.0.post20210125)\n",
      "Requirement already satisfied: cymem<2.1.0,>=2.0.2 in /Users/aarunku5/opt/anaconda3/lib/python3.8/site-packages (from spacy<3.2.0,>=3.1.0->en-core-web-trf==3.1.0) (2.0.5)\n",
      "Requirement already satisfied: torch>=1.5.0 in /Users/aarunku5/opt/anaconda3/lib/python3.8/site-packages (from spacy-transformers<1.1.0,>=1.0.3->en-core-web-trf==3.1.0) (1.9.0)\n",
      "Requirement already satisfied: spacy-alignments<1.0.0,>=0.7.2 in /Users/aarunku5/opt/anaconda3/lib/python3.8/site-packages (from spacy-transformers<1.1.0,>=1.0.3->en-core-web-trf==3.1.0) (0.8.3)\n",
      "Requirement already satisfied: transformers<4.10.0,>=3.4.0 in /Users/aarunku5/opt/anaconda3/lib/python3.8/site-packages (from spacy-transformers<1.1.0,>=1.0.3->en-core-web-trf==3.1.0) (4.9.2)\n",
      "Requirement already satisfied: pyparsing>=2.0.2 in /Users/aarunku5/opt/anaconda3/lib/python3.8/site-packages (from packaging>=20.0->spacy<3.2.0,>=3.1.0->en-core-web-trf==3.1.0) (2.4.7)\n"
     ]
    },
    {
     "name": "stdout",
     "output_type": "stream",
     "text": [
      "Requirement already satisfied: smart-open<6.0.0,>=5.0.0 in /Users/aarunku5/opt/anaconda3/lib/python3.8/site-packages (from pathy>=0.3.5->spacy<3.2.0,>=3.1.0->en-core-web-trf==3.1.0) (5.2.0)\n",
      "Requirement already satisfied: typing-extensions>=3.7.4.3 in /Users/aarunku5/opt/anaconda3/lib/python3.8/site-packages (from pydantic!=1.8,!=1.8.1,<1.9.0,>=1.7.4->spacy<3.2.0,>=3.1.0->en-core-web-trf==3.1.0) (3.7.4.3)\n",
      "Requirement already satisfied: chardet<5,>=3.0.2 in /Users/aarunku5/opt/anaconda3/lib/python3.8/site-packages (from requests<3.0.0,>=2.13.0->spacy<3.2.0,>=3.1.0->en-core-web-trf==3.1.0) (4.0.0)\n",
      "Requirement already satisfied: urllib3<1.27,>=1.21.1 in /Users/aarunku5/opt/anaconda3/lib/python3.8/site-packages (from requests<3.0.0,>=2.13.0->spacy<3.2.0,>=3.1.0->en-core-web-trf==3.1.0) (1.26.4)\n",
      "Requirement already satisfied: certifi>=2017.4.17 in /Users/aarunku5/opt/anaconda3/lib/python3.8/site-packages (from requests<3.0.0,>=2.13.0->spacy<3.2.0,>=3.1.0->en-core-web-trf==3.1.0) (2020.12.5)\n",
      "Requirement already satisfied: idna<3,>=2.5 in /Users/aarunku5/opt/anaconda3/lib/python3.8/site-packages (from requests<3.0.0,>=2.13.0->spacy<3.2.0,>=3.1.0->en-core-web-trf==3.1.0) (2.10)\n",
      "Requirement already satisfied: sacremoses in /Users/aarunku5/opt/anaconda3/lib/python3.8/site-packages (from transformers<4.10.0,>=3.4.0->spacy-transformers<1.1.0,>=1.0.3->en-core-web-trf==3.1.0) (0.0.45)\n",
      "Requirement already satisfied: tokenizers<0.11,>=0.10.1 in /Users/aarunku5/opt/anaconda3/lib/python3.8/site-packages (from transformers<4.10.0,>=3.4.0->spacy-transformers<1.1.0,>=1.0.3->en-core-web-trf==3.1.0) (0.10.3)\n",
      "Requirement already satisfied: pyyaml>=5.1 in /Users/aarunku5/opt/anaconda3/lib/python3.8/site-packages (from transformers<4.10.0,>=3.4.0->spacy-transformers<1.1.0,>=1.0.3->en-core-web-trf==3.1.0) (5.4.1)\n",
      "Requirement already satisfied: regex!=2019.12.17 in /Users/aarunku5/opt/anaconda3/lib/python3.8/site-packages (from transformers<4.10.0,>=3.4.0->spacy-transformers<1.1.0,>=1.0.3->en-core-web-trf==3.1.0) (2021.4.4)\n",
      "Requirement already satisfied: filelock in /Users/aarunku5/opt/anaconda3/lib/python3.8/site-packages (from transformers<4.10.0,>=3.4.0->spacy-transformers<1.1.0,>=1.0.3->en-core-web-trf==3.1.0) (3.0.12)\n",
      "Requirement already satisfied: huggingface-hub==0.0.12 in /Users/aarunku5/opt/anaconda3/lib/python3.8/site-packages (from transformers<4.10.0,>=3.4.0->spacy-transformers<1.1.0,>=1.0.3->en-core-web-trf==3.1.0) (0.0.12)\n",
      "Requirement already satisfied: click<7.2.0,>=7.1.1 in /Users/aarunku5/opt/anaconda3/lib/python3.8/site-packages (from typer<0.4.0,>=0.3.0->spacy<3.2.0,>=3.1.0->en-core-web-trf==3.1.0) (7.1.2)\n",
      "Requirement already satisfied: MarkupSafe>=0.23 in /Users/aarunku5/opt/anaconda3/lib/python3.8/site-packages (from jinja2->spacy<3.2.0,>=3.1.0->en-core-web-trf==3.1.0) (1.1.1)\n",
      "Requirement already satisfied: joblib in /Users/aarunku5/opt/anaconda3/lib/python3.8/site-packages (from sacremoses->transformers<4.10.0,>=3.4.0->spacy-transformers<1.1.0,>=1.0.3->en-core-web-trf==3.1.0) (1.0.1)\n",
      "Requirement already satisfied: six in /Users/aarunku5/opt/anaconda3/lib/python3.8/site-packages (from sacremoses->transformers<4.10.0,>=3.4.0->spacy-transformers<1.1.0,>=1.0.3->en-core-web-trf==3.1.0) (1.15.0)\n",
      "\u001b[38;5;2m✔ Download and installation successful\u001b[0m\n",
      "You can now load the package via spacy.load('en_core_web_trf')\n"
     ]
    },
    {
     "ename": "OSError",
     "evalue": "[E050] Can't find model 'en_web_core_trf'. It doesn't seem to be a Python package or a valid path to a data directory.",
     "output_type": "error",
     "traceback": [
      "\u001b[0;31m---------------------------------------------------------------------------\u001b[0m",
      "\u001b[0;31mOSError\u001b[0m                                   Traceback (most recent call last)",
      "\u001b[0;32m<ipython-input-2-c2b5fbeac620>\u001b[0m in \u001b[0;36m<module>\u001b[0;34m\u001b[0m\n\u001b[1;32m     31\u001b[0m \u001b[0mget_ipython\u001b[0m\u001b[0;34m(\u001b[0m\u001b[0;34m)\u001b[0m\u001b[0;34m.\u001b[0m\u001b[0msystem\u001b[0m\u001b[0;34m(\u001b[0m\u001b[0;34m'pip install spacy-transformers'\u001b[0m\u001b[0;34m)\u001b[0m\u001b[0;34m\u001b[0m\u001b[0;34m\u001b[0m\u001b[0m\n\u001b[1;32m     32\u001b[0m \u001b[0mget_ipython\u001b[0m\u001b[0;34m(\u001b[0m\u001b[0;34m)\u001b[0m\u001b[0;34m.\u001b[0m\u001b[0msystem\u001b[0m\u001b[0;34m(\u001b[0m\u001b[0;34m'python -m spacy download en_core_web_trf'\u001b[0m\u001b[0;34m)\u001b[0m\u001b[0;34m\u001b[0m\u001b[0;34m\u001b[0m\u001b[0m\n\u001b[0;32m---> 33\u001b[0;31m \u001b[0mnlp\u001b[0m \u001b[0;34m=\u001b[0m \u001b[0mspacy\u001b[0m\u001b[0;34m.\u001b[0m\u001b[0mload\u001b[0m\u001b[0;34m(\u001b[0m\u001b[0;34m\"en_web_core_trf\"\u001b[0m\u001b[0;34m)\u001b[0m\u001b[0;34m\u001b[0m\u001b[0;34m\u001b[0m\u001b[0m\n\u001b[0m\u001b[1;32m     34\u001b[0m \u001b[0;34m\u001b[0m\u001b[0m\n",
      "\u001b[0;32m~/opt/anaconda3/lib/python3.8/site-packages/spacy/__init__.py\u001b[0m in \u001b[0;36mload\u001b[0;34m(name, vocab, disable, exclude, config)\u001b[0m\n\u001b[1;32m     49\u001b[0m     \u001b[0mRETURNS\u001b[0m \u001b[0;34m(\u001b[0m\u001b[0mLanguage\u001b[0m\u001b[0;34m)\u001b[0m\u001b[0;34m:\u001b[0m \u001b[0mThe\u001b[0m \u001b[0mloaded\u001b[0m \u001b[0mnlp\u001b[0m \u001b[0mobject\u001b[0m\u001b[0;34m.\u001b[0m\u001b[0;34m\u001b[0m\u001b[0;34m\u001b[0m\u001b[0m\n\u001b[1;32m     50\u001b[0m     \"\"\"\n\u001b[0;32m---> 51\u001b[0;31m     return util.load_model(\n\u001b[0m\u001b[1;32m     52\u001b[0m         \u001b[0mname\u001b[0m\u001b[0;34m,\u001b[0m \u001b[0mvocab\u001b[0m\u001b[0;34m=\u001b[0m\u001b[0mvocab\u001b[0m\u001b[0;34m,\u001b[0m \u001b[0mdisable\u001b[0m\u001b[0;34m=\u001b[0m\u001b[0mdisable\u001b[0m\u001b[0;34m,\u001b[0m \u001b[0mexclude\u001b[0m\u001b[0;34m=\u001b[0m\u001b[0mexclude\u001b[0m\u001b[0;34m,\u001b[0m \u001b[0mconfig\u001b[0m\u001b[0;34m=\u001b[0m\u001b[0mconfig\u001b[0m\u001b[0;34m\u001b[0m\u001b[0;34m\u001b[0m\u001b[0m\n\u001b[1;32m     53\u001b[0m     )\n",
      "\u001b[0;32m~/opt/anaconda3/lib/python3.8/site-packages/spacy/util.py\u001b[0m in \u001b[0;36mload_model\u001b[0;34m(name, vocab, disable, exclude, config)\u001b[0m\n\u001b[1;32m    326\u001b[0m     \u001b[0;32mif\u001b[0m \u001b[0mname\u001b[0m \u001b[0;32min\u001b[0m \u001b[0mOLD_MODEL_SHORTCUTS\u001b[0m\u001b[0;34m:\u001b[0m\u001b[0;34m\u001b[0m\u001b[0;34m\u001b[0m\u001b[0m\n\u001b[1;32m    327\u001b[0m         \u001b[0;32mraise\u001b[0m \u001b[0mIOError\u001b[0m\u001b[0;34m(\u001b[0m\u001b[0mErrors\u001b[0m\u001b[0;34m.\u001b[0m\u001b[0mE941\u001b[0m\u001b[0;34m.\u001b[0m\u001b[0mformat\u001b[0m\u001b[0;34m(\u001b[0m\u001b[0mname\u001b[0m\u001b[0;34m=\u001b[0m\u001b[0mname\u001b[0m\u001b[0;34m,\u001b[0m \u001b[0mfull\u001b[0m\u001b[0;34m=\u001b[0m\u001b[0mOLD_MODEL_SHORTCUTS\u001b[0m\u001b[0;34m[\u001b[0m\u001b[0mname\u001b[0m\u001b[0;34m]\u001b[0m\u001b[0;34m)\u001b[0m\u001b[0;34m)\u001b[0m\u001b[0;34m\u001b[0m\u001b[0;34m\u001b[0m\u001b[0m\n\u001b[0;32m--> 328\u001b[0;31m     \u001b[0;32mraise\u001b[0m \u001b[0mIOError\u001b[0m\u001b[0;34m(\u001b[0m\u001b[0mErrors\u001b[0m\u001b[0;34m.\u001b[0m\u001b[0mE050\u001b[0m\u001b[0;34m.\u001b[0m\u001b[0mformat\u001b[0m\u001b[0;34m(\u001b[0m\u001b[0mname\u001b[0m\u001b[0;34m=\u001b[0m\u001b[0mname\u001b[0m\u001b[0;34m)\u001b[0m\u001b[0;34m)\u001b[0m\u001b[0;34m\u001b[0m\u001b[0;34m\u001b[0m\u001b[0m\n\u001b[0m\u001b[1;32m    329\u001b[0m \u001b[0;34m\u001b[0m\u001b[0m\n\u001b[1;32m    330\u001b[0m \u001b[0;34m\u001b[0m\u001b[0m\n",
      "\u001b[0;31mOSError\u001b[0m: [E050] Can't find model 'en_web_core_trf'. It doesn't seem to be a Python package or a valid path to a data directory."
     ]
    }
   ],
   "source": [
    "import pandas as pd\n",
    "import numpy as np \n",
    "import json\n",
    "import csv\n",
    "\n",
    "\n",
    "import matplotlib.pyplot as plt\n",
    "import seaborn as sns\n",
    "\n",
    "from tqdm import tqdm_notebook as tqdm\n",
    "\n",
    "from nltk.corpus import stopwords\n",
    "from nltk.tokenize import word_tokenize\n",
    "from nltk.tokenize import sent_tokenize\n",
    "from nltk.stem import WordNetLemmatizer \n",
    "import nltk\n",
    "nltk.download('averaged_perceptron_tagger')\n",
    "\n",
    "import spacy\n",
    "import math\n",
    "\n",
    "import string\n",
    "import sys\n",
    "import random\n",
    "\n",
    "from collections import Counter\n",
    "from itertools import chain\n",
    "\n",
    "stop_words = set(stopwords.words('english'))\n",
    "lemmatizer = WordNetLemmatizer()\n",
    "!pip install spacy-transformers\n",
    "!python -m spacy download en_core_web_trf\n",
    "nlp = spacy.load(\"en_web_core_trf\")\n",
    "\n"
   ]
  },
  {
   "cell_type": "code",
   "execution_count": 5,
   "metadata": {},
   "outputs": [
    {
     "data": {
      "application/vnd.jupyter.widget-view+json": {
       "model_id": "5f08c3236a8b4d618bbe015e4234d753",
       "version_major": 2,
       "version_minor": 0
      },
      "text/plain": [
       "HBox(children=(IntProgress(value=0, max=202), HTML(value='')))"
      ]
     },
     "metadata": {},
     "output_type": "display_data"
    },
    {
     "name": "stdout",
     "output_type": "stream",
     "text": [
      "\n"
     ]
    },
    {
     "data": {
      "application/vnd.jupyter.widget-view+json": {
       "model_id": "2917ba91ff6f48baadaba9f50795cc9e",
       "version_major": 2,
       "version_minor": 0
      },
      "text/plain": [
       "HBox(children=(IntProgress(value=0, max=101), HTML(value='')))"
      ]
     },
     "metadata": {},
     "output_type": "display_data"
    },
    {
     "name": "stdout",
     "output_type": "stream",
     "text": [
      "\n"
     ]
    },
    {
     "data": {
      "application/vnd.jupyter.widget-view+json": {
       "model_id": "ae6034f31f5343b787468416834b2816",
       "version_major": 2,
       "version_minor": 0
      },
      "text/plain": [
       "HBox(children=(IntProgress(value=0, max=202), HTML(value='')))"
      ]
     },
     "metadata": {},
     "output_type": "display_data"
    },
    {
     "name": "stdout",
     "output_type": "stream",
     "text": [
      "\n"
     ]
    }
   ],
   "source": [
    "df_wino = pd.read_csv('./Data/TF_Old.csv')\n",
    "nlp = spacy.load(\"en_trf_bertbaseuncased_lg\")\n",
    "words=pd.DataFrame()\n",
    "frames=[df_wino['sentence1'],df_wino['sentence2']]\n",
    "words['full'] = pd.concat(frames)\n",
    "words.reset_index(inplace = True) \n",
    "words['casewords'] = words['full'].str.lower()\n",
    "words['wsw'] = words['casewords'].apply(lambda x: ' '.join([word for word in x.split() if word not in (stop_words)]))\n",
    "words['nopunc'] = words['wsw'].str.replace(\"'\", \"\")\n",
    "words['nopunc'] = words['nopunc'].str.replace(\".\", \"\")\n",
    "words['nopunc'] = words['nopunc'].str.replace(\",\", \"\")\n",
    "w_tokenizer = nltk.tokenize.WhitespaceTokenizer()\n",
    "lemmatizer = nltk.stem.WordNetLemmatizer()\n",
    "def lemmatize_text(text):\n",
    "    return [lemmatizer.lemmatize(w) for w in w_tokenizer.tokenize(text)]\n",
    "words['text_lemmatized'] = words.nopunc.apply(lemmatize_text)\n",
    "words['final']=\"NaN\"\n",
    "def final(x):\n",
    "    makeitastring = ' '.join(map(str, x))\n",
    "    makeitastring=makeitastring.replace(\",\",\"\")\n",
    "    makeitastring=makeitastring.replace(\"'\",\"\")\n",
    "    makeitastring=makeitastring.replace(\"[\",\"\")\n",
    "    makeitastring=makeitastring.replace(\"]\",\"\")\n",
    "    return makeitastring\n",
    "for i in tqdm(range(len(words))):    \n",
    "    column=['text_lemmatized']\n",
    "    row=[i]\n",
    "    words.loc[i,'final']=final(words.loc[i,'text_lemmatized'])\n",
    "words['fullnopunc'] = words['full'].str.replace(\"'\", \"\")\n",
    "words['fullnopunc'] = words['fullnopunc'].str.replace(\".\", \"\")\n",
    "words['fullnopunc'] = words['fullnopunc'].str.replace(\",\", \"\")\n",
    "words['label']='NaN'\n",
    "for i in tqdm(range(len(df_wino))):\n",
    "    words.loc[i,'label']=df_wino.loc[i,'gold_label']\n",
    "    words.loc[(i+len(df_wino)),'label']=df_wino.loc[i,'gold_label']\n",
    "words.to_csv('./test_good_101_1_words.csv', index = False)\n",
    "e=pd.DataFrame(columns=['label','final','fullnopunc'])\n",
    "n=pd.DataFrame(columns=['label','final','fullnopunc'])\n",
    "c=pd.DataFrame(columns=['label','final','fullnopunc'])\n",
    "#split test labels\n",
    "for i in tqdm(range(len(words))):\n",
    "    l=words.loc[i,'label']\n",
    "    new_row={'label':words.loc[i,'label'],'final':words.loc[i,'final'],'fullnopunc':words.loc[i,'fullnopunc']}\n",
    "    if(l=='entailment'):\n",
    "        e=e.append(new_row, ignore_index=True)\n",
    "    elif(l=='neutral'):\n",
    "        n=n.append(new_row, ignore_index=True)\n",
    "    else:\n",
    "        c=c.append(new_row,ignore_index=True)\n",
    "e.to_csv('./test_good_101_1_wordse.csv', index = False)\n",
    "n.to_csv('./test_good_101_1_wordsn.csv', index = False)\n",
    "c.to_csv('./test_good_101_1_wordsc.csv', index = False)\n",
    "\n",
    "\n",
    "\n",
    "\n",
    "\n",
    "\n",
    "\n",
    "\n",
    "\n"
   ]
  },
  {
   "cell_type": "code",
   "execution_count": 6,
   "metadata": {},
   "outputs": [
    {
     "name": "stdout",
     "output_type": "stream",
     "text": [
      "48\n",
      "104\n",
      "50\n",
      "101\n",
      "202\n"
     ]
    }
   ],
   "source": [
    "print(len(e))\n",
    "print(len(n))\n",
    "print(len(c))\n",
    "print(len(df_wino))\n",
    "print(len(words))"
   ]
  },
  {
   "cell_type": "code",
   "execution_count": 7,
   "metadata": {},
   "outputs": [
    {
     "data": {
      "application/vnd.jupyter.widget-view+json": {
       "model_id": "920e0afeaa9a4096965fbf8d8205987b",
       "version_major": 2,
       "version_minor": 0
      },
      "text/plain": [
       "HBox(children=(IntProgress(value=0, max=202), HTML(value='')))"
      ]
     },
     "metadata": {},
     "output_type": "display_data"
    },
    {
     "ename": "KeyboardInterrupt",
     "evalue": "",
     "output_type": "error",
     "traceback": [
      "\u001b[0;31m---------------------------------------------------------------------------\u001b[0m",
      "\u001b[0;31mKeyboardInterrupt\u001b[0m                         Traceback (most recent call last)",
      "\u001b[0;32m<ipython-input-7-8c5a62d94aa7>\u001b[0m in \u001b[0;36m<module>\u001b[0;34m\u001b[0m\n\u001b[1;32m     15\u001b[0m         \u001b[0;32mfor\u001b[0m \u001b[0mj\u001b[0m \u001b[0;32min\u001b[0m \u001b[0;34m(\u001b[0m\u001b[0mrange\u001b[0m\u001b[0;34m(\u001b[0m\u001b[0mlength\u001b[0m\u001b[0;34m)\u001b[0m\u001b[0;34m)\u001b[0m\u001b[0;34m:\u001b[0m\u001b[0;34m\u001b[0m\u001b[0;34m\u001b[0m\u001b[0m\n\u001b[1;32m     16\u001b[0m             \u001b[0;32mif\u001b[0m\u001b[0;34m(\u001b[0m\u001b[0mi\u001b[0m\u001b[0;34m!=\u001b[0m\u001b[0mj\u001b[0m\u001b[0;34m)\u001b[0m\u001b[0;34m:\u001b[0m\u001b[0;34m\u001b[0m\u001b[0;34m\u001b[0m\u001b[0m\n\u001b[0;32m---> 17\u001b[0;31m                 \u001b[0msm\u001b[0m\u001b[0;34m=\u001b[0m\u001b[0msm\u001b[0m\u001b[0;34m+\u001b[0m\u001b[0mnlp\u001b[0m\u001b[0;34m(\u001b[0m\u001b[0mword\u001b[0m\u001b[0;34m[\u001b[0m\u001b[0mi\u001b[0m\u001b[0;34m]\u001b[0m\u001b[0;34m)\u001b[0m\u001b[0;34m.\u001b[0m\u001b[0msimilarity\u001b[0m\u001b[0;34m(\u001b[0m\u001b[0mnlp\u001b[0m\u001b[0;34m(\u001b[0m\u001b[0mword\u001b[0m\u001b[0;34m[\u001b[0m\u001b[0mj\u001b[0m\u001b[0;34m]\u001b[0m\u001b[0;34m)\u001b[0m\u001b[0;34m)\u001b[0m\u001b[0;34m\u001b[0m\u001b[0;34m\u001b[0m\u001b[0m\n\u001b[0m\u001b[1;32m     18\u001b[0m         \u001b[0msm\u001b[0m\u001b[0;34m=\u001b[0m\u001b[0msm\u001b[0m\u001b[0;34m/\u001b[0m\u001b[0mlength\u001b[0m\u001b[0;34m\u001b[0m\u001b[0;34m\u001b[0m\u001b[0m\n\u001b[1;32m     19\u001b[0m         \u001b[0marr\u001b[0m\u001b[0;34m.\u001b[0m\u001b[0mappend\u001b[0m\u001b[0;34m(\u001b[0m\u001b[0msm\u001b[0m\u001b[0;34m)\u001b[0m\u001b[0;34m\u001b[0m\u001b[0;34m\u001b[0m\u001b[0m\n",
      "\u001b[0;32m/opt/anaconda3/lib/python3.7/site-packages/spacy/language.py\u001b[0m in \u001b[0;36m__call__\u001b[0;34m(self, text, disable, component_cfg)\u001b[0m\n\u001b[1;32m    433\u001b[0m             \u001b[0;32mif\u001b[0m \u001b[0;32mnot\u001b[0m \u001b[0mhasattr\u001b[0m\u001b[0;34m(\u001b[0m\u001b[0mproc\u001b[0m\u001b[0;34m,\u001b[0m \u001b[0;34m\"__call__\"\u001b[0m\u001b[0;34m)\u001b[0m\u001b[0;34m:\u001b[0m\u001b[0;34m\u001b[0m\u001b[0;34m\u001b[0m\u001b[0m\n\u001b[1;32m    434\u001b[0m                 \u001b[0;32mraise\u001b[0m \u001b[0mValueError\u001b[0m\u001b[0;34m(\u001b[0m\u001b[0mErrors\u001b[0m\u001b[0;34m.\u001b[0m\u001b[0mE003\u001b[0m\u001b[0;34m.\u001b[0m\u001b[0mformat\u001b[0m\u001b[0;34m(\u001b[0m\u001b[0mcomponent\u001b[0m\u001b[0;34m=\u001b[0m\u001b[0mtype\u001b[0m\u001b[0;34m(\u001b[0m\u001b[0mproc\u001b[0m\u001b[0;34m)\u001b[0m\u001b[0;34m,\u001b[0m \u001b[0mname\u001b[0m\u001b[0;34m=\u001b[0m\u001b[0mname\u001b[0m\u001b[0;34m)\u001b[0m\u001b[0;34m)\u001b[0m\u001b[0;34m\u001b[0m\u001b[0;34m\u001b[0m\u001b[0m\n\u001b[0;32m--> 435\u001b[0;31m             \u001b[0mdoc\u001b[0m \u001b[0;34m=\u001b[0m \u001b[0mproc\u001b[0m\u001b[0;34m(\u001b[0m\u001b[0mdoc\u001b[0m\u001b[0;34m,\u001b[0m \u001b[0;34m**\u001b[0m\u001b[0mcomponent_cfg\u001b[0m\u001b[0;34m.\u001b[0m\u001b[0mget\u001b[0m\u001b[0;34m(\u001b[0m\u001b[0mname\u001b[0m\u001b[0;34m,\u001b[0m \u001b[0;34m{\u001b[0m\u001b[0;34m}\u001b[0m\u001b[0;34m)\u001b[0m\u001b[0;34m)\u001b[0m\u001b[0;34m\u001b[0m\u001b[0;34m\u001b[0m\u001b[0m\n\u001b[0m\u001b[1;32m    436\u001b[0m             \u001b[0;32mif\u001b[0m \u001b[0mdoc\u001b[0m \u001b[0;32mis\u001b[0m \u001b[0;32mNone\u001b[0m\u001b[0;34m:\u001b[0m\u001b[0;34m\u001b[0m\u001b[0;34m\u001b[0m\u001b[0m\n\u001b[1;32m    437\u001b[0m                 \u001b[0;32mraise\u001b[0m \u001b[0mValueError\u001b[0m\u001b[0;34m(\u001b[0m\u001b[0mErrors\u001b[0m\u001b[0;34m.\u001b[0m\u001b[0mE005\u001b[0m\u001b[0;34m.\u001b[0m\u001b[0mformat\u001b[0m\u001b[0;34m(\u001b[0m\u001b[0mname\u001b[0m\u001b[0;34m=\u001b[0m\u001b[0mname\u001b[0m\u001b[0;34m)\u001b[0m\u001b[0;34m)\u001b[0m\u001b[0;34m\u001b[0m\u001b[0;34m\u001b[0m\u001b[0m\n",
      "\u001b[0;32m/opt/anaconda3/lib/python3.7/site-packages/spacy_transformers/pipeline/tok2vec.py\u001b[0m in \u001b[0;36m__call__\u001b[0;34m(self, doc)\u001b[0m\n\u001b[1;32m    103\u001b[0m         \"\"\"\n\u001b[1;32m    104\u001b[0m         \u001b[0mself\u001b[0m\u001b[0;34m.\u001b[0m\u001b[0mrequire_model\u001b[0m\u001b[0;34m(\u001b[0m\u001b[0;34m)\u001b[0m\u001b[0;34m\u001b[0m\u001b[0;34m\u001b[0m\u001b[0m\n\u001b[0;32m--> 105\u001b[0;31m         \u001b[0moutputs\u001b[0m \u001b[0;34m=\u001b[0m \u001b[0mself\u001b[0m\u001b[0;34m.\u001b[0m\u001b[0mpredict\u001b[0m\u001b[0;34m(\u001b[0m\u001b[0;34m[\u001b[0m\u001b[0mdoc\u001b[0m\u001b[0;34m]\u001b[0m\u001b[0;34m)\u001b[0m\u001b[0;34m\u001b[0m\u001b[0;34m\u001b[0m\u001b[0m\n\u001b[0m\u001b[1;32m    106\u001b[0m         \u001b[0mself\u001b[0m\u001b[0;34m.\u001b[0m\u001b[0mset_annotations\u001b[0m\u001b[0;34m(\u001b[0m\u001b[0;34m[\u001b[0m\u001b[0mdoc\u001b[0m\u001b[0;34m]\u001b[0m\u001b[0;34m,\u001b[0m \u001b[0moutputs\u001b[0m\u001b[0;34m)\u001b[0m\u001b[0;34m\u001b[0m\u001b[0;34m\u001b[0m\u001b[0m\n\u001b[1;32m    107\u001b[0m         \u001b[0;32mreturn\u001b[0m \u001b[0mdoc\u001b[0m\u001b[0;34m\u001b[0m\u001b[0;34m\u001b[0m\u001b[0m\n",
      "\u001b[0;32m/opt/anaconda3/lib/python3.7/site-packages/spacy_transformers/pipeline/tok2vec.py\u001b[0m in \u001b[0;36mpredict\u001b[0;34m(self, docs)\u001b[0m\n\u001b[1;32m    158\u001b[0m         \u001b[0mRETURNS\u001b[0m \u001b[0;34m(\u001b[0m\u001b[0mlist\u001b[0m\u001b[0;34m)\u001b[0m\u001b[0;34m:\u001b[0m \u001b[0mA\u001b[0m \u001b[0mlist\u001b[0m \u001b[0mof\u001b[0m \u001b[0mActivations\u001b[0m \u001b[0mobjects\u001b[0m\u001b[0;34m,\u001b[0m \u001b[0mone\u001b[0m \u001b[0mper\u001b[0m \u001b[0mdoc\u001b[0m\u001b[0;34m.\u001b[0m\u001b[0;34m\u001b[0m\u001b[0;34m\u001b[0m\u001b[0m\n\u001b[1;32m    159\u001b[0m         \"\"\"\n\u001b[0;32m--> 160\u001b[0;31m         \u001b[0;32mreturn\u001b[0m \u001b[0mself\u001b[0m\u001b[0;34m.\u001b[0m\u001b[0mmodel\u001b[0m\u001b[0;34m.\u001b[0m\u001b[0mpredict\u001b[0m\u001b[0;34m(\u001b[0m\u001b[0mdocs\u001b[0m\u001b[0;34m)\u001b[0m\u001b[0;34m\u001b[0m\u001b[0;34m\u001b[0m\u001b[0m\n\u001b[0m\u001b[1;32m    161\u001b[0m \u001b[0;34m\u001b[0m\u001b[0m\n\u001b[1;32m    162\u001b[0m     \u001b[0;32mdef\u001b[0m \u001b[0mset_annotations\u001b[0m\u001b[0;34m(\u001b[0m\u001b[0mself\u001b[0m\u001b[0;34m,\u001b[0m \u001b[0mdocs\u001b[0m\u001b[0;34m:\u001b[0m \u001b[0mList\u001b[0m\u001b[0;34m[\u001b[0m\u001b[0mDoc\u001b[0m\u001b[0;34m]\u001b[0m\u001b[0;34m,\u001b[0m \u001b[0mactivations\u001b[0m\u001b[0;34m:\u001b[0m \u001b[0mActivations\u001b[0m\u001b[0;34m)\u001b[0m\u001b[0;34m:\u001b[0m\u001b[0;34m\u001b[0m\u001b[0;34m\u001b[0m\u001b[0m\n",
      "\u001b[0;32m/opt/anaconda3/lib/python3.7/site-packages/thinc/neural/_classes/model.py\u001b[0m in \u001b[0;36mpredict\u001b[0;34m(self, X)\u001b[0m\n\u001b[1;32m    131\u001b[0m \u001b[0;34m\u001b[0m\u001b[0m\n\u001b[1;32m    132\u001b[0m     \u001b[0;32mdef\u001b[0m \u001b[0mpredict\u001b[0m\u001b[0;34m(\u001b[0m\u001b[0mself\u001b[0m\u001b[0;34m,\u001b[0m \u001b[0mX\u001b[0m\u001b[0;34m)\u001b[0m\u001b[0;34m:\u001b[0m\u001b[0;34m\u001b[0m\u001b[0;34m\u001b[0m\u001b[0m\n\u001b[0;32m--> 133\u001b[0;31m         \u001b[0my\u001b[0m\u001b[0;34m,\u001b[0m \u001b[0m_\u001b[0m \u001b[0;34m=\u001b[0m \u001b[0mself\u001b[0m\u001b[0;34m.\u001b[0m\u001b[0mbegin_update\u001b[0m\u001b[0;34m(\u001b[0m\u001b[0mX\u001b[0m\u001b[0;34m,\u001b[0m \u001b[0mdrop\u001b[0m\u001b[0;34m=\u001b[0m\u001b[0;32mNone\u001b[0m\u001b[0;34m)\u001b[0m\u001b[0;34m\u001b[0m\u001b[0;34m\u001b[0m\u001b[0m\n\u001b[0m\u001b[1;32m    134\u001b[0m         \u001b[0;32mreturn\u001b[0m \u001b[0my\u001b[0m\u001b[0;34m\u001b[0m\u001b[0;34m\u001b[0m\u001b[0m\n\u001b[1;32m    135\u001b[0m \u001b[0;34m\u001b[0m\u001b[0m\n",
      "\u001b[0;32m/opt/anaconda3/lib/python3.7/site-packages/spacy_transformers/model_registry.py\u001b[0m in \u001b[0;36msentence_fwd\u001b[0;34m(docs, drop)\u001b[0m\n\u001b[1;32m    406\u001b[0m         \u001b[0msents_per_doc\u001b[0m \u001b[0;34m=\u001b[0m \u001b[0;34m[\u001b[0m\u001b[0mlen\u001b[0m\u001b[0;34m(\u001b[0m\u001b[0mlist\u001b[0m\u001b[0;34m(\u001b[0m\u001b[0md\u001b[0m\u001b[0;34m.\u001b[0m\u001b[0msents\u001b[0m\u001b[0;34m)\u001b[0m\u001b[0;34m)\u001b[0m \u001b[0;32mfor\u001b[0m \u001b[0md\u001b[0m \u001b[0;32min\u001b[0m \u001b[0mdocs\u001b[0m\u001b[0;34m]\u001b[0m\u001b[0;34m\u001b[0m\u001b[0;34m\u001b[0m\u001b[0m\n\u001b[1;32m    407\u001b[0m         \u001b[0;32massert\u001b[0m \u001b[0msum\u001b[0m\u001b[0;34m(\u001b[0m\u001b[0mwords_per_doc\u001b[0m\u001b[0;34m)\u001b[0m \u001b[0;34m==\u001b[0m \u001b[0msum\u001b[0m\u001b[0;34m(\u001b[0m\u001b[0mwords_per_sent\u001b[0m\u001b[0;34m)\u001b[0m\u001b[0;34m\u001b[0m\u001b[0;34m\u001b[0m\u001b[0m\n\u001b[0;32m--> 408\u001b[0;31m         \u001b[0macts\u001b[0m\u001b[0;34m,\u001b[0m \u001b[0mbp_acts\u001b[0m \u001b[0;34m=\u001b[0m \u001b[0mlayer\u001b[0m\u001b[0;34m.\u001b[0m\u001b[0mbegin_update\u001b[0m\u001b[0;34m(\u001b[0m\u001b[0msents\u001b[0m\u001b[0;34m,\u001b[0m \u001b[0mdrop\u001b[0m\u001b[0;34m=\u001b[0m\u001b[0mdrop\u001b[0m\u001b[0;34m)\u001b[0m\u001b[0;34m\u001b[0m\u001b[0;34m\u001b[0m\u001b[0m\n\u001b[0m\u001b[1;32m    409\u001b[0m         \u001b[0;31m# To go from \"per sentence\" activations to \"per doc\" activations, we\u001b[0m\u001b[0;34m\u001b[0m\u001b[0;34m\u001b[0m\u001b[0;34m\u001b[0m\u001b[0m\n\u001b[1;32m    410\u001b[0m         \u001b[0;31m# just have to tell it where the sequences end.\u001b[0m\u001b[0;34m\u001b[0m\u001b[0;34m\u001b[0m\u001b[0;34m\u001b[0m\u001b[0m\n",
      "\u001b[0;32m/opt/anaconda3/lib/python3.7/site-packages/thinc/neural/_classes/feed_forward.py\u001b[0m in \u001b[0;36mbegin_update\u001b[0;34m(self, X, drop)\u001b[0m\n\u001b[1;32m     44\u001b[0m         \u001b[0mcallbacks\u001b[0m \u001b[0;34m=\u001b[0m \u001b[0;34m[\u001b[0m\u001b[0;34m]\u001b[0m\u001b[0;34m\u001b[0m\u001b[0;34m\u001b[0m\u001b[0m\n\u001b[1;32m     45\u001b[0m         \u001b[0;32mfor\u001b[0m \u001b[0mlayer\u001b[0m \u001b[0;32min\u001b[0m \u001b[0mself\u001b[0m\u001b[0;34m.\u001b[0m\u001b[0m_layers\u001b[0m\u001b[0;34m:\u001b[0m\u001b[0;34m\u001b[0m\u001b[0;34m\u001b[0m\u001b[0m\n\u001b[0;32m---> 46\u001b[0;31m             \u001b[0mX\u001b[0m\u001b[0;34m,\u001b[0m \u001b[0minc_layer_grad\u001b[0m \u001b[0;34m=\u001b[0m \u001b[0mlayer\u001b[0m\u001b[0;34m.\u001b[0m\u001b[0mbegin_update\u001b[0m\u001b[0;34m(\u001b[0m\u001b[0mX\u001b[0m\u001b[0;34m,\u001b[0m \u001b[0mdrop\u001b[0m\u001b[0;34m=\u001b[0m\u001b[0mdrop\u001b[0m\u001b[0;34m)\u001b[0m\u001b[0;34m\u001b[0m\u001b[0;34m\u001b[0m\u001b[0m\n\u001b[0m\u001b[1;32m     47\u001b[0m             \u001b[0mcallbacks\u001b[0m\u001b[0;34m.\u001b[0m\u001b[0mappend\u001b[0m\u001b[0;34m(\u001b[0m\u001b[0minc_layer_grad\u001b[0m\u001b[0;34m)\u001b[0m\u001b[0;34m\u001b[0m\u001b[0;34m\u001b[0m\u001b[0m\n\u001b[1;32m     48\u001b[0m \u001b[0;34m\u001b[0m\u001b[0m\n",
      "\u001b[0;32m/opt/anaconda3/lib/python3.7/site-packages/spacy_transformers/model_registry.py\u001b[0m in \u001b[0;36mapply_model_to_batches\u001b[0;34m(inputs, drop)\u001b[0m\n\u001b[1;32m    335\u001b[0m     ) -> Tuple[Acts, Callable]:\n\u001b[1;32m    336\u001b[0m         \u001b[0;32mif\u001b[0m \u001b[0mmax_words\u001b[0m \u001b[0;34m==\u001b[0m \u001b[0;36m0\u001b[0m \u001b[0;32mor\u001b[0m \u001b[0minputs\u001b[0m\u001b[0;34m.\u001b[0m\u001b[0mdata\u001b[0m\u001b[0;34m.\u001b[0m\u001b[0mshape\u001b[0m\u001b[0;34m[\u001b[0m\u001b[0;36m0\u001b[0m\u001b[0;34m]\u001b[0m \u001b[0;34m<\u001b[0m \u001b[0mmax_words\u001b[0m\u001b[0;34m:\u001b[0m\u001b[0;34m\u001b[0m\u001b[0;34m\u001b[0m\u001b[0m\n\u001b[0;32m--> 337\u001b[0;31m             \u001b[0;32mreturn\u001b[0m \u001b[0mmodel\u001b[0m\u001b[0;34m.\u001b[0m\u001b[0mbegin_update\u001b[0m\u001b[0;34m(\u001b[0m\u001b[0minputs\u001b[0m\u001b[0;34m,\u001b[0m \u001b[0mdrop\u001b[0m\u001b[0;34m=\u001b[0m\u001b[0mdrop\u001b[0m\u001b[0;34m)\u001b[0m\u001b[0;34m\u001b[0m\u001b[0;34m\u001b[0m\u001b[0m\n\u001b[0m\u001b[1;32m    338\u001b[0m         \u001b[0mXs\u001b[0m\u001b[0;34m:\u001b[0m \u001b[0mList\u001b[0m\u001b[0;34m[\u001b[0m\u001b[0mArray\u001b[0m\u001b[0;34m]\u001b[0m \u001b[0;34m=\u001b[0m \u001b[0mops\u001b[0m\u001b[0;34m.\u001b[0m\u001b[0munflatten\u001b[0m\u001b[0;34m(\u001b[0m\u001b[0minputs\u001b[0m\u001b[0;34m.\u001b[0m\u001b[0mdata\u001b[0m\u001b[0;34m,\u001b[0m \u001b[0minputs\u001b[0m\u001b[0;34m.\u001b[0m\u001b[0mlengths\u001b[0m\u001b[0;34m)\u001b[0m\u001b[0;34m\u001b[0m\u001b[0;34m\u001b[0m\u001b[0m\n\u001b[1;32m    339\u001b[0m         \u001b[0moutputs\u001b[0m \u001b[0;34m=\u001b[0m \u001b[0;32mNone\u001b[0m\u001b[0;34m\u001b[0m\u001b[0;34m\u001b[0m\u001b[0m\n",
      "\u001b[0;32m/opt/anaconda3/lib/python3.7/site-packages/spacy_transformers/wrapper.py\u001b[0m in \u001b[0;36mbegin_update\u001b[0;34m(self, inputs, drop)\u001b[0m\n\u001b[1;32m     93\u001b[0m             \u001b[0;31m# \"drop is None\" indicates prediction. It's one of the parts of\u001b[0m\u001b[0;34m\u001b[0m\u001b[0;34m\u001b[0m\u001b[0;34m\u001b[0m\u001b[0m\n\u001b[1;32m     94\u001b[0m             \u001b[0;31m# Thinc's API I'm least happy with...\u001b[0m\u001b[0;34m\u001b[0m\u001b[0;34m\u001b[0m\u001b[0;34m\u001b[0m\u001b[0m\n\u001b[0;32m---> 95\u001b[0;31m             \u001b[0;32mreturn\u001b[0m \u001b[0mself\u001b[0m\u001b[0;34m.\u001b[0m\u001b[0mpredict\u001b[0m\u001b[0;34m(\u001b[0m\u001b[0minputs\u001b[0m\u001b[0;34m)\u001b[0m\u001b[0;34m,\u001b[0m \u001b[0;32mlambda\u001b[0m \u001b[0mdY\u001b[0m\u001b[0;34m,\u001b[0m \u001b[0msgd\u001b[0m\u001b[0;34m=\u001b[0m\u001b[0;32mNone\u001b[0m\u001b[0;34m:\u001b[0m \u001b[0;32mNone\u001b[0m\u001b[0;34m\u001b[0m\u001b[0;34m\u001b[0m\u001b[0m\n\u001b[0m\u001b[1;32m     96\u001b[0m         \u001b[0mmax_original\u001b[0m \u001b[0;34m=\u001b[0m \u001b[0mmax\u001b[0m\u001b[0;34m(\u001b[0m\u001b[0minputs\u001b[0m\u001b[0;34m.\u001b[0m\u001b[0mlengths\u001b[0m\u001b[0;34m,\u001b[0m \u001b[0mdefault\u001b[0m\u001b[0;34m=\u001b[0m\u001b[0;36m0\u001b[0m\u001b[0;34m)\u001b[0m\u001b[0;34m\u001b[0m\u001b[0;34m\u001b[0m\u001b[0m\n\u001b[1;32m     97\u001b[0m         \u001b[0mmodel_kwargs\u001b[0m \u001b[0;34m=\u001b[0m \u001b[0mself\u001b[0m\u001b[0;34m.\u001b[0m\u001b[0mget_model_kwargs\u001b[0m\u001b[0;34m(\u001b[0m\u001b[0minputs\u001b[0m\u001b[0;34m)\u001b[0m\u001b[0;34m\u001b[0m\u001b[0;34m\u001b[0m\u001b[0m\n",
      "\u001b[0;32m/opt/anaconda3/lib/python3.7/site-packages/spacy_transformers/wrapper.py\u001b[0m in \u001b[0;36mpredict\u001b[0;34m(self, inputs)\u001b[0m\n\u001b[1;32m     82\u001b[0m             \u001b[0;32mif\u001b[0m \u001b[0mhasattr\u001b[0m\u001b[0;34m(\u001b[0m\u001b[0mself\u001b[0m\u001b[0;34m.\u001b[0m\u001b[0m_optimizer\u001b[0m\u001b[0;34m,\u001b[0m \u001b[0;34m\"swap_swa_sgd\"\u001b[0m\u001b[0;34m)\u001b[0m\u001b[0;34m:\u001b[0m\u001b[0;34m\u001b[0m\u001b[0;34m\u001b[0m\u001b[0m\n\u001b[1;32m     83\u001b[0m                 \u001b[0mself\u001b[0m\u001b[0;34m.\u001b[0m\u001b[0m_optimizer\u001b[0m\u001b[0;34m.\u001b[0m\u001b[0mswap_swa_sgd\u001b[0m\u001b[0;34m(\u001b[0m\u001b[0;34m)\u001b[0m\u001b[0;34m\u001b[0m\u001b[0;34m\u001b[0m\u001b[0m\n\u001b[0;32m---> 84\u001b[0;31m             \u001b[0my_var\u001b[0m \u001b[0;34m=\u001b[0m \u001b[0mself\u001b[0m\u001b[0;34m.\u001b[0m\u001b[0m_model\u001b[0m\u001b[0;34m(\u001b[0m\u001b[0;34m**\u001b[0m\u001b[0mmodel_kwargs\u001b[0m\u001b[0;34m)\u001b[0m\u001b[0;34m\u001b[0m\u001b[0;34m\u001b[0m\u001b[0m\n\u001b[0m\u001b[1;32m     85\u001b[0m             \u001b[0;32mif\u001b[0m \u001b[0mhasattr\u001b[0m\u001b[0;34m(\u001b[0m\u001b[0mself\u001b[0m\u001b[0;34m.\u001b[0m\u001b[0m_optimizer\u001b[0m\u001b[0;34m,\u001b[0m \u001b[0;34m\"swap_swa_sgd\"\u001b[0m\u001b[0;34m)\u001b[0m\u001b[0;34m:\u001b[0m\u001b[0;34m\u001b[0m\u001b[0;34m\u001b[0m\u001b[0m\n\u001b[1;32m     86\u001b[0m                 \u001b[0mself\u001b[0m\u001b[0;34m.\u001b[0m\u001b[0m_optimizer\u001b[0m\u001b[0;34m.\u001b[0m\u001b[0mswap_swa_sgd\u001b[0m\u001b[0;34m(\u001b[0m\u001b[0;34m)\u001b[0m\u001b[0;34m\u001b[0m\u001b[0;34m\u001b[0m\u001b[0m\n",
      "\u001b[0;32m/opt/anaconda3/lib/python3.7/site-packages/torch/nn/modules/module.py\u001b[0m in \u001b[0;36m__call__\u001b[0;34m(self, *input, **kwargs)\u001b[0m\n\u001b[1;32m    530\u001b[0m             \u001b[0mresult\u001b[0m \u001b[0;34m=\u001b[0m \u001b[0mself\u001b[0m\u001b[0;34m.\u001b[0m\u001b[0m_slow_forward\u001b[0m\u001b[0;34m(\u001b[0m\u001b[0;34m*\u001b[0m\u001b[0minput\u001b[0m\u001b[0;34m,\u001b[0m \u001b[0;34m**\u001b[0m\u001b[0mkwargs\u001b[0m\u001b[0;34m)\u001b[0m\u001b[0;34m\u001b[0m\u001b[0;34m\u001b[0m\u001b[0m\n\u001b[1;32m    531\u001b[0m         \u001b[0;32melse\u001b[0m\u001b[0;34m:\u001b[0m\u001b[0;34m\u001b[0m\u001b[0;34m\u001b[0m\u001b[0m\n\u001b[0;32m--> 532\u001b[0;31m             \u001b[0mresult\u001b[0m \u001b[0;34m=\u001b[0m \u001b[0mself\u001b[0m\u001b[0;34m.\u001b[0m\u001b[0mforward\u001b[0m\u001b[0;34m(\u001b[0m\u001b[0;34m*\u001b[0m\u001b[0minput\u001b[0m\u001b[0;34m,\u001b[0m \u001b[0;34m**\u001b[0m\u001b[0mkwargs\u001b[0m\u001b[0;34m)\u001b[0m\u001b[0;34m\u001b[0m\u001b[0;34m\u001b[0m\u001b[0m\n\u001b[0m\u001b[1;32m    533\u001b[0m         \u001b[0;32mfor\u001b[0m \u001b[0mhook\u001b[0m \u001b[0;32min\u001b[0m \u001b[0mself\u001b[0m\u001b[0;34m.\u001b[0m\u001b[0m_forward_hooks\u001b[0m\u001b[0;34m.\u001b[0m\u001b[0mvalues\u001b[0m\u001b[0;34m(\u001b[0m\u001b[0;34m)\u001b[0m\u001b[0;34m:\u001b[0m\u001b[0;34m\u001b[0m\u001b[0;34m\u001b[0m\u001b[0m\n\u001b[1;32m    534\u001b[0m             \u001b[0mhook_result\u001b[0m \u001b[0;34m=\u001b[0m \u001b[0mhook\u001b[0m\u001b[0;34m(\u001b[0m\u001b[0mself\u001b[0m\u001b[0;34m,\u001b[0m \u001b[0minput\u001b[0m\u001b[0;34m,\u001b[0m \u001b[0mresult\u001b[0m\u001b[0;34m)\u001b[0m\u001b[0;34m\u001b[0m\u001b[0;34m\u001b[0m\u001b[0m\n",
      "\u001b[0;32m/opt/anaconda3/lib/python3.7/site-packages/transformers/modeling_bert.py\u001b[0m in \u001b[0;36mforward\u001b[0;34m(self, input_ids, attention_mask, token_type_ids, position_ids, head_mask)\u001b[0m\n\u001b[1;32m    623\u001b[0m         encoder_outputs = self.encoder(embedding_output,\n\u001b[1;32m    624\u001b[0m                                        \u001b[0mextended_attention_mask\u001b[0m\u001b[0;34m,\u001b[0m\u001b[0;34m\u001b[0m\u001b[0;34m\u001b[0m\u001b[0m\n\u001b[0;32m--> 625\u001b[0;31m                                        head_mask=head_mask)\n\u001b[0m\u001b[1;32m    626\u001b[0m         \u001b[0msequence_output\u001b[0m \u001b[0;34m=\u001b[0m \u001b[0mencoder_outputs\u001b[0m\u001b[0;34m[\u001b[0m\u001b[0;36m0\u001b[0m\u001b[0;34m]\u001b[0m\u001b[0;34m\u001b[0m\u001b[0;34m\u001b[0m\u001b[0m\n\u001b[1;32m    627\u001b[0m         \u001b[0mpooled_output\u001b[0m \u001b[0;34m=\u001b[0m \u001b[0mself\u001b[0m\u001b[0;34m.\u001b[0m\u001b[0mpooler\u001b[0m\u001b[0;34m(\u001b[0m\u001b[0msequence_output\u001b[0m\u001b[0;34m)\u001b[0m\u001b[0;34m\u001b[0m\u001b[0;34m\u001b[0m\u001b[0m\n",
      "\u001b[0;32m/opt/anaconda3/lib/python3.7/site-packages/torch/nn/modules/module.py\u001b[0m in \u001b[0;36m__call__\u001b[0;34m(self, *input, **kwargs)\u001b[0m\n\u001b[1;32m    530\u001b[0m             \u001b[0mresult\u001b[0m \u001b[0;34m=\u001b[0m \u001b[0mself\u001b[0m\u001b[0;34m.\u001b[0m\u001b[0m_slow_forward\u001b[0m\u001b[0;34m(\u001b[0m\u001b[0;34m*\u001b[0m\u001b[0minput\u001b[0m\u001b[0;34m,\u001b[0m \u001b[0;34m**\u001b[0m\u001b[0mkwargs\u001b[0m\u001b[0;34m)\u001b[0m\u001b[0;34m\u001b[0m\u001b[0;34m\u001b[0m\u001b[0m\n\u001b[1;32m    531\u001b[0m         \u001b[0;32melse\u001b[0m\u001b[0;34m:\u001b[0m\u001b[0;34m\u001b[0m\u001b[0;34m\u001b[0m\u001b[0m\n\u001b[0;32m--> 532\u001b[0;31m             \u001b[0mresult\u001b[0m \u001b[0;34m=\u001b[0m \u001b[0mself\u001b[0m\u001b[0;34m.\u001b[0m\u001b[0mforward\u001b[0m\u001b[0;34m(\u001b[0m\u001b[0;34m*\u001b[0m\u001b[0minput\u001b[0m\u001b[0;34m,\u001b[0m \u001b[0;34m**\u001b[0m\u001b[0mkwargs\u001b[0m\u001b[0;34m)\u001b[0m\u001b[0;34m\u001b[0m\u001b[0;34m\u001b[0m\u001b[0m\n\u001b[0m\u001b[1;32m    533\u001b[0m         \u001b[0;32mfor\u001b[0m \u001b[0mhook\u001b[0m \u001b[0;32min\u001b[0m \u001b[0mself\u001b[0m\u001b[0;34m.\u001b[0m\u001b[0m_forward_hooks\u001b[0m\u001b[0;34m.\u001b[0m\u001b[0mvalues\u001b[0m\u001b[0;34m(\u001b[0m\u001b[0;34m)\u001b[0m\u001b[0;34m:\u001b[0m\u001b[0;34m\u001b[0m\u001b[0;34m\u001b[0m\u001b[0m\n\u001b[1;32m    534\u001b[0m             \u001b[0mhook_result\u001b[0m \u001b[0;34m=\u001b[0m \u001b[0mhook\u001b[0m\u001b[0;34m(\u001b[0m\u001b[0mself\u001b[0m\u001b[0;34m,\u001b[0m \u001b[0minput\u001b[0m\u001b[0;34m,\u001b[0m \u001b[0mresult\u001b[0m\u001b[0;34m)\u001b[0m\u001b[0;34m\u001b[0m\u001b[0;34m\u001b[0m\u001b[0m\n",
      "\u001b[0;32m/opt/anaconda3/lib/python3.7/site-packages/transformers/modeling_bert.py\u001b[0m in \u001b[0;36mforward\u001b[0;34m(self, hidden_states, attention_mask, head_mask)\u001b[0m\n\u001b[1;32m    344\u001b[0m                 \u001b[0mall_hidden_states\u001b[0m \u001b[0;34m=\u001b[0m \u001b[0mall_hidden_states\u001b[0m \u001b[0;34m+\u001b[0m \u001b[0;34m(\u001b[0m\u001b[0mhidden_states\u001b[0m\u001b[0;34m,\u001b[0m\u001b[0;34m)\u001b[0m\u001b[0;34m\u001b[0m\u001b[0;34m\u001b[0m\u001b[0m\n\u001b[1;32m    345\u001b[0m \u001b[0;34m\u001b[0m\u001b[0m\n\u001b[0;32m--> 346\u001b[0;31m             \u001b[0mlayer_outputs\u001b[0m \u001b[0;34m=\u001b[0m \u001b[0mlayer_module\u001b[0m\u001b[0;34m(\u001b[0m\u001b[0mhidden_states\u001b[0m\u001b[0;34m,\u001b[0m \u001b[0mattention_mask\u001b[0m\u001b[0;34m,\u001b[0m \u001b[0mhead_mask\u001b[0m\u001b[0;34m[\u001b[0m\u001b[0mi\u001b[0m\u001b[0;34m]\u001b[0m\u001b[0;34m)\u001b[0m\u001b[0;34m\u001b[0m\u001b[0;34m\u001b[0m\u001b[0m\n\u001b[0m\u001b[1;32m    347\u001b[0m             \u001b[0mhidden_states\u001b[0m \u001b[0;34m=\u001b[0m \u001b[0mlayer_outputs\u001b[0m\u001b[0;34m[\u001b[0m\u001b[0;36m0\u001b[0m\u001b[0;34m]\u001b[0m\u001b[0;34m\u001b[0m\u001b[0;34m\u001b[0m\u001b[0m\n\u001b[1;32m    348\u001b[0m \u001b[0;34m\u001b[0m\u001b[0m\n",
      "\u001b[0;32m/opt/anaconda3/lib/python3.7/site-packages/torch/nn/modules/module.py\u001b[0m in \u001b[0;36m__call__\u001b[0;34m(self, *input, **kwargs)\u001b[0m\n\u001b[1;32m    530\u001b[0m             \u001b[0mresult\u001b[0m \u001b[0;34m=\u001b[0m \u001b[0mself\u001b[0m\u001b[0;34m.\u001b[0m\u001b[0m_slow_forward\u001b[0m\u001b[0;34m(\u001b[0m\u001b[0;34m*\u001b[0m\u001b[0minput\u001b[0m\u001b[0;34m,\u001b[0m \u001b[0;34m**\u001b[0m\u001b[0mkwargs\u001b[0m\u001b[0;34m)\u001b[0m\u001b[0;34m\u001b[0m\u001b[0;34m\u001b[0m\u001b[0m\n\u001b[1;32m    531\u001b[0m         \u001b[0;32melse\u001b[0m\u001b[0;34m:\u001b[0m\u001b[0;34m\u001b[0m\u001b[0;34m\u001b[0m\u001b[0m\n\u001b[0;32m--> 532\u001b[0;31m             \u001b[0mresult\u001b[0m \u001b[0;34m=\u001b[0m \u001b[0mself\u001b[0m\u001b[0;34m.\u001b[0m\u001b[0mforward\u001b[0m\u001b[0;34m(\u001b[0m\u001b[0;34m*\u001b[0m\u001b[0minput\u001b[0m\u001b[0;34m,\u001b[0m \u001b[0;34m**\u001b[0m\u001b[0mkwargs\u001b[0m\u001b[0;34m)\u001b[0m\u001b[0;34m\u001b[0m\u001b[0;34m\u001b[0m\u001b[0m\n\u001b[0m\u001b[1;32m    533\u001b[0m         \u001b[0;32mfor\u001b[0m \u001b[0mhook\u001b[0m \u001b[0;32min\u001b[0m \u001b[0mself\u001b[0m\u001b[0;34m.\u001b[0m\u001b[0m_forward_hooks\u001b[0m\u001b[0;34m.\u001b[0m\u001b[0mvalues\u001b[0m\u001b[0;34m(\u001b[0m\u001b[0;34m)\u001b[0m\u001b[0;34m:\u001b[0m\u001b[0;34m\u001b[0m\u001b[0;34m\u001b[0m\u001b[0m\n\u001b[1;32m    534\u001b[0m             \u001b[0mhook_result\u001b[0m \u001b[0;34m=\u001b[0m \u001b[0mhook\u001b[0m\u001b[0;34m(\u001b[0m\u001b[0mself\u001b[0m\u001b[0;34m,\u001b[0m \u001b[0minput\u001b[0m\u001b[0;34m,\u001b[0m \u001b[0mresult\u001b[0m\u001b[0;34m)\u001b[0m\u001b[0;34m\u001b[0m\u001b[0;34m\u001b[0m\u001b[0m\n",
      "\u001b[0;32m/opt/anaconda3/lib/python3.7/site-packages/transformers/modeling_bert.py\u001b[0m in \u001b[0;36mforward\u001b[0;34m(self, hidden_states, attention_mask, head_mask)\u001b[0m\n\u001b[1;32m    322\u001b[0m \u001b[0;34m\u001b[0m\u001b[0m\n\u001b[1;32m    323\u001b[0m     \u001b[0;32mdef\u001b[0m \u001b[0mforward\u001b[0m\u001b[0;34m(\u001b[0m\u001b[0mself\u001b[0m\u001b[0;34m,\u001b[0m \u001b[0mhidden_states\u001b[0m\u001b[0;34m,\u001b[0m \u001b[0mattention_mask\u001b[0m\u001b[0;34m=\u001b[0m\u001b[0;32mNone\u001b[0m\u001b[0;34m,\u001b[0m \u001b[0mhead_mask\u001b[0m\u001b[0;34m=\u001b[0m\u001b[0;32mNone\u001b[0m\u001b[0;34m)\u001b[0m\u001b[0;34m:\u001b[0m\u001b[0;34m\u001b[0m\u001b[0;34m\u001b[0m\u001b[0m\n\u001b[0;32m--> 324\u001b[0;31m         \u001b[0mattention_outputs\u001b[0m \u001b[0;34m=\u001b[0m \u001b[0mself\u001b[0m\u001b[0;34m.\u001b[0m\u001b[0mattention\u001b[0m\u001b[0;34m(\u001b[0m\u001b[0mhidden_states\u001b[0m\u001b[0;34m,\u001b[0m \u001b[0mattention_mask\u001b[0m\u001b[0;34m,\u001b[0m \u001b[0mhead_mask\u001b[0m\u001b[0;34m)\u001b[0m\u001b[0;34m\u001b[0m\u001b[0;34m\u001b[0m\u001b[0m\n\u001b[0m\u001b[1;32m    325\u001b[0m         \u001b[0mattention_output\u001b[0m \u001b[0;34m=\u001b[0m \u001b[0mattention_outputs\u001b[0m\u001b[0;34m[\u001b[0m\u001b[0;36m0\u001b[0m\u001b[0;34m]\u001b[0m\u001b[0;34m\u001b[0m\u001b[0;34m\u001b[0m\u001b[0m\n\u001b[1;32m    326\u001b[0m         \u001b[0mintermediate_output\u001b[0m \u001b[0;34m=\u001b[0m \u001b[0mself\u001b[0m\u001b[0;34m.\u001b[0m\u001b[0mintermediate\u001b[0m\u001b[0;34m(\u001b[0m\u001b[0mattention_output\u001b[0m\u001b[0;34m)\u001b[0m\u001b[0;34m\u001b[0m\u001b[0;34m\u001b[0m\u001b[0m\n",
      "\u001b[0;32m/opt/anaconda3/lib/python3.7/site-packages/torch/nn/modules/module.py\u001b[0m in \u001b[0;36m__call__\u001b[0;34m(self, *input, **kwargs)\u001b[0m\n\u001b[1;32m    530\u001b[0m             \u001b[0mresult\u001b[0m \u001b[0;34m=\u001b[0m \u001b[0mself\u001b[0m\u001b[0;34m.\u001b[0m\u001b[0m_slow_forward\u001b[0m\u001b[0;34m(\u001b[0m\u001b[0;34m*\u001b[0m\u001b[0minput\u001b[0m\u001b[0;34m,\u001b[0m \u001b[0;34m**\u001b[0m\u001b[0mkwargs\u001b[0m\u001b[0;34m)\u001b[0m\u001b[0;34m\u001b[0m\u001b[0;34m\u001b[0m\u001b[0m\n\u001b[1;32m    531\u001b[0m         \u001b[0;32melse\u001b[0m\u001b[0;34m:\u001b[0m\u001b[0;34m\u001b[0m\u001b[0;34m\u001b[0m\u001b[0m\n\u001b[0;32m--> 532\u001b[0;31m             \u001b[0mresult\u001b[0m \u001b[0;34m=\u001b[0m \u001b[0mself\u001b[0m\u001b[0;34m.\u001b[0m\u001b[0mforward\u001b[0m\u001b[0;34m(\u001b[0m\u001b[0;34m*\u001b[0m\u001b[0minput\u001b[0m\u001b[0;34m,\u001b[0m \u001b[0;34m**\u001b[0m\u001b[0mkwargs\u001b[0m\u001b[0;34m)\u001b[0m\u001b[0;34m\u001b[0m\u001b[0;34m\u001b[0m\u001b[0m\n\u001b[0m\u001b[1;32m    533\u001b[0m         \u001b[0;32mfor\u001b[0m \u001b[0mhook\u001b[0m \u001b[0;32min\u001b[0m \u001b[0mself\u001b[0m\u001b[0;34m.\u001b[0m\u001b[0m_forward_hooks\u001b[0m\u001b[0;34m.\u001b[0m\u001b[0mvalues\u001b[0m\u001b[0;34m(\u001b[0m\u001b[0;34m)\u001b[0m\u001b[0;34m:\u001b[0m\u001b[0;34m\u001b[0m\u001b[0;34m\u001b[0m\u001b[0m\n\u001b[1;32m    534\u001b[0m             \u001b[0mhook_result\u001b[0m \u001b[0;34m=\u001b[0m \u001b[0mhook\u001b[0m\u001b[0;34m(\u001b[0m\u001b[0mself\u001b[0m\u001b[0;34m,\u001b[0m \u001b[0minput\u001b[0m\u001b[0;34m,\u001b[0m \u001b[0mresult\u001b[0m\u001b[0;34m)\u001b[0m\u001b[0;34m\u001b[0m\u001b[0;34m\u001b[0m\u001b[0m\n",
      "\u001b[0;32m/opt/anaconda3/lib/python3.7/site-packages/transformers/modeling_bert.py\u001b[0m in \u001b[0;36mforward\u001b[0;34m(self, input_tensor, attention_mask, head_mask)\u001b[0m\n\u001b[1;32m    279\u001b[0m \u001b[0;34m\u001b[0m\u001b[0m\n\u001b[1;32m    280\u001b[0m     \u001b[0;32mdef\u001b[0m \u001b[0mforward\u001b[0m\u001b[0;34m(\u001b[0m\u001b[0mself\u001b[0m\u001b[0;34m,\u001b[0m \u001b[0minput_tensor\u001b[0m\u001b[0;34m,\u001b[0m \u001b[0mattention_mask\u001b[0m\u001b[0;34m=\u001b[0m\u001b[0;32mNone\u001b[0m\u001b[0;34m,\u001b[0m \u001b[0mhead_mask\u001b[0m\u001b[0;34m=\u001b[0m\u001b[0;32mNone\u001b[0m\u001b[0;34m)\u001b[0m\u001b[0;34m:\u001b[0m\u001b[0;34m\u001b[0m\u001b[0;34m\u001b[0m\u001b[0m\n\u001b[0;32m--> 281\u001b[0;31m         \u001b[0mself_outputs\u001b[0m \u001b[0;34m=\u001b[0m \u001b[0mself\u001b[0m\u001b[0;34m.\u001b[0m\u001b[0mself\u001b[0m\u001b[0;34m(\u001b[0m\u001b[0minput_tensor\u001b[0m\u001b[0;34m,\u001b[0m \u001b[0mattention_mask\u001b[0m\u001b[0;34m,\u001b[0m \u001b[0mhead_mask\u001b[0m\u001b[0;34m)\u001b[0m\u001b[0;34m\u001b[0m\u001b[0;34m\u001b[0m\u001b[0m\n\u001b[0m\u001b[1;32m    282\u001b[0m         \u001b[0mattention_output\u001b[0m \u001b[0;34m=\u001b[0m \u001b[0mself\u001b[0m\u001b[0;34m.\u001b[0m\u001b[0moutput\u001b[0m\u001b[0;34m(\u001b[0m\u001b[0mself_outputs\u001b[0m\u001b[0;34m[\u001b[0m\u001b[0;36m0\u001b[0m\u001b[0;34m]\u001b[0m\u001b[0;34m,\u001b[0m \u001b[0minput_tensor\u001b[0m\u001b[0;34m)\u001b[0m\u001b[0;34m\u001b[0m\u001b[0;34m\u001b[0m\u001b[0m\n\u001b[1;32m    283\u001b[0m         \u001b[0moutputs\u001b[0m \u001b[0;34m=\u001b[0m \u001b[0;34m(\u001b[0m\u001b[0mattention_output\u001b[0m\u001b[0;34m,\u001b[0m\u001b[0;34m)\u001b[0m \u001b[0;34m+\u001b[0m \u001b[0mself_outputs\u001b[0m\u001b[0;34m[\u001b[0m\u001b[0;36m1\u001b[0m\u001b[0;34m:\u001b[0m\u001b[0;34m]\u001b[0m  \u001b[0;31m# add attentions if we output them\u001b[0m\u001b[0;34m\u001b[0m\u001b[0;34m\u001b[0m\u001b[0m\n",
      "\u001b[0;32m/opt/anaconda3/lib/python3.7/site-packages/torch/nn/modules/module.py\u001b[0m in \u001b[0;36m__call__\u001b[0;34m(self, *input, **kwargs)\u001b[0m\n\u001b[1;32m    530\u001b[0m             \u001b[0mresult\u001b[0m \u001b[0;34m=\u001b[0m \u001b[0mself\u001b[0m\u001b[0;34m.\u001b[0m\u001b[0m_slow_forward\u001b[0m\u001b[0;34m(\u001b[0m\u001b[0;34m*\u001b[0m\u001b[0minput\u001b[0m\u001b[0;34m,\u001b[0m \u001b[0;34m**\u001b[0m\u001b[0mkwargs\u001b[0m\u001b[0;34m)\u001b[0m\u001b[0;34m\u001b[0m\u001b[0;34m\u001b[0m\u001b[0m\n\u001b[1;32m    531\u001b[0m         \u001b[0;32melse\u001b[0m\u001b[0;34m:\u001b[0m\u001b[0;34m\u001b[0m\u001b[0;34m\u001b[0m\u001b[0m\n\u001b[0;32m--> 532\u001b[0;31m             \u001b[0mresult\u001b[0m \u001b[0;34m=\u001b[0m \u001b[0mself\u001b[0m\u001b[0;34m.\u001b[0m\u001b[0mforward\u001b[0m\u001b[0;34m(\u001b[0m\u001b[0;34m*\u001b[0m\u001b[0minput\u001b[0m\u001b[0;34m,\u001b[0m \u001b[0;34m**\u001b[0m\u001b[0mkwargs\u001b[0m\u001b[0;34m)\u001b[0m\u001b[0;34m\u001b[0m\u001b[0;34m\u001b[0m\u001b[0m\n\u001b[0m\u001b[1;32m    533\u001b[0m         \u001b[0;32mfor\u001b[0m \u001b[0mhook\u001b[0m \u001b[0;32min\u001b[0m \u001b[0mself\u001b[0m\u001b[0;34m.\u001b[0m\u001b[0m_forward_hooks\u001b[0m\u001b[0;34m.\u001b[0m\u001b[0mvalues\u001b[0m\u001b[0;34m(\u001b[0m\u001b[0;34m)\u001b[0m\u001b[0;34m:\u001b[0m\u001b[0;34m\u001b[0m\u001b[0;34m\u001b[0m\u001b[0m\n\u001b[1;32m    534\u001b[0m             \u001b[0mhook_result\u001b[0m \u001b[0;34m=\u001b[0m \u001b[0mhook\u001b[0m\u001b[0;34m(\u001b[0m\u001b[0mself\u001b[0m\u001b[0;34m,\u001b[0m \u001b[0minput\u001b[0m\u001b[0;34m,\u001b[0m \u001b[0mresult\u001b[0m\u001b[0;34m)\u001b[0m\u001b[0;34m\u001b[0m\u001b[0;34m\u001b[0m\u001b[0m\n",
      "\u001b[0;32m/opt/anaconda3/lib/python3.7/site-packages/transformers/modeling_bert.py\u001b[0m in \u001b[0;36mforward\u001b[0;34m(self, hidden_states, attention_mask, head_mask)\u001b[0m\n\u001b[1;32m    199\u001b[0m     \u001b[0;32mdef\u001b[0m \u001b[0mforward\u001b[0m\u001b[0;34m(\u001b[0m\u001b[0mself\u001b[0m\u001b[0;34m,\u001b[0m \u001b[0mhidden_states\u001b[0m\u001b[0;34m,\u001b[0m \u001b[0mattention_mask\u001b[0m\u001b[0;34m=\u001b[0m\u001b[0;32mNone\u001b[0m\u001b[0;34m,\u001b[0m \u001b[0mhead_mask\u001b[0m\u001b[0;34m=\u001b[0m\u001b[0;32mNone\u001b[0m\u001b[0;34m)\u001b[0m\u001b[0;34m:\u001b[0m\u001b[0;34m\u001b[0m\u001b[0;34m\u001b[0m\u001b[0m\n\u001b[1;32m    200\u001b[0m         \u001b[0mmixed_query_layer\u001b[0m \u001b[0;34m=\u001b[0m \u001b[0mself\u001b[0m\u001b[0;34m.\u001b[0m\u001b[0mquery\u001b[0m\u001b[0;34m(\u001b[0m\u001b[0mhidden_states\u001b[0m\u001b[0;34m)\u001b[0m\u001b[0;34m\u001b[0m\u001b[0;34m\u001b[0m\u001b[0m\n\u001b[0;32m--> 201\u001b[0;31m         \u001b[0mmixed_key_layer\u001b[0m \u001b[0;34m=\u001b[0m \u001b[0mself\u001b[0m\u001b[0;34m.\u001b[0m\u001b[0mkey\u001b[0m\u001b[0;34m(\u001b[0m\u001b[0mhidden_states\u001b[0m\u001b[0;34m)\u001b[0m\u001b[0;34m\u001b[0m\u001b[0;34m\u001b[0m\u001b[0m\n\u001b[0m\u001b[1;32m    202\u001b[0m         \u001b[0mmixed_value_layer\u001b[0m \u001b[0;34m=\u001b[0m \u001b[0mself\u001b[0m\u001b[0;34m.\u001b[0m\u001b[0mvalue\u001b[0m\u001b[0;34m(\u001b[0m\u001b[0mhidden_states\u001b[0m\u001b[0;34m)\u001b[0m\u001b[0;34m\u001b[0m\u001b[0;34m\u001b[0m\u001b[0m\n\u001b[1;32m    203\u001b[0m \u001b[0;34m\u001b[0m\u001b[0m\n",
      "\u001b[0;32m/opt/anaconda3/lib/python3.7/site-packages/torch/nn/modules/module.py\u001b[0m in \u001b[0;36m__call__\u001b[0;34m(self, *input, **kwargs)\u001b[0m\n\u001b[1;32m    530\u001b[0m             \u001b[0mresult\u001b[0m \u001b[0;34m=\u001b[0m \u001b[0mself\u001b[0m\u001b[0;34m.\u001b[0m\u001b[0m_slow_forward\u001b[0m\u001b[0;34m(\u001b[0m\u001b[0;34m*\u001b[0m\u001b[0minput\u001b[0m\u001b[0;34m,\u001b[0m \u001b[0;34m**\u001b[0m\u001b[0mkwargs\u001b[0m\u001b[0;34m)\u001b[0m\u001b[0;34m\u001b[0m\u001b[0;34m\u001b[0m\u001b[0m\n\u001b[1;32m    531\u001b[0m         \u001b[0;32melse\u001b[0m\u001b[0;34m:\u001b[0m\u001b[0;34m\u001b[0m\u001b[0;34m\u001b[0m\u001b[0m\n\u001b[0;32m--> 532\u001b[0;31m             \u001b[0mresult\u001b[0m \u001b[0;34m=\u001b[0m \u001b[0mself\u001b[0m\u001b[0;34m.\u001b[0m\u001b[0mforward\u001b[0m\u001b[0;34m(\u001b[0m\u001b[0;34m*\u001b[0m\u001b[0minput\u001b[0m\u001b[0;34m,\u001b[0m \u001b[0;34m**\u001b[0m\u001b[0mkwargs\u001b[0m\u001b[0;34m)\u001b[0m\u001b[0;34m\u001b[0m\u001b[0;34m\u001b[0m\u001b[0m\n\u001b[0m\u001b[1;32m    533\u001b[0m         \u001b[0;32mfor\u001b[0m \u001b[0mhook\u001b[0m \u001b[0;32min\u001b[0m \u001b[0mself\u001b[0m\u001b[0;34m.\u001b[0m\u001b[0m_forward_hooks\u001b[0m\u001b[0;34m.\u001b[0m\u001b[0mvalues\u001b[0m\u001b[0;34m(\u001b[0m\u001b[0;34m)\u001b[0m\u001b[0;34m:\u001b[0m\u001b[0;34m\u001b[0m\u001b[0;34m\u001b[0m\u001b[0m\n\u001b[1;32m    534\u001b[0m             \u001b[0mhook_result\u001b[0m \u001b[0;34m=\u001b[0m \u001b[0mhook\u001b[0m\u001b[0;34m(\u001b[0m\u001b[0mself\u001b[0m\u001b[0;34m,\u001b[0m \u001b[0minput\u001b[0m\u001b[0;34m,\u001b[0m \u001b[0mresult\u001b[0m\u001b[0;34m)\u001b[0m\u001b[0;34m\u001b[0m\u001b[0;34m\u001b[0m\u001b[0m\n",
      "\u001b[0;32m/opt/anaconda3/lib/python3.7/site-packages/torch/nn/modules/linear.py\u001b[0m in \u001b[0;36mforward\u001b[0;34m(self, input)\u001b[0m\n\u001b[1;32m     85\u001b[0m \u001b[0;34m\u001b[0m\u001b[0m\n\u001b[1;32m     86\u001b[0m     \u001b[0;32mdef\u001b[0m \u001b[0mforward\u001b[0m\u001b[0;34m(\u001b[0m\u001b[0mself\u001b[0m\u001b[0;34m,\u001b[0m \u001b[0minput\u001b[0m\u001b[0;34m)\u001b[0m\u001b[0;34m:\u001b[0m\u001b[0;34m\u001b[0m\u001b[0;34m\u001b[0m\u001b[0m\n\u001b[0;32m---> 87\u001b[0;31m         \u001b[0;32mreturn\u001b[0m \u001b[0mF\u001b[0m\u001b[0;34m.\u001b[0m\u001b[0mlinear\u001b[0m\u001b[0;34m(\u001b[0m\u001b[0minput\u001b[0m\u001b[0;34m,\u001b[0m \u001b[0mself\u001b[0m\u001b[0;34m.\u001b[0m\u001b[0mweight\u001b[0m\u001b[0;34m,\u001b[0m \u001b[0mself\u001b[0m\u001b[0;34m.\u001b[0m\u001b[0mbias\u001b[0m\u001b[0;34m)\u001b[0m\u001b[0;34m\u001b[0m\u001b[0;34m\u001b[0m\u001b[0m\n\u001b[0m\u001b[1;32m     88\u001b[0m \u001b[0;34m\u001b[0m\u001b[0m\n\u001b[1;32m     89\u001b[0m     \u001b[0;32mdef\u001b[0m \u001b[0mextra_repr\u001b[0m\u001b[0;34m(\u001b[0m\u001b[0mself\u001b[0m\u001b[0;34m)\u001b[0m\u001b[0;34m:\u001b[0m\u001b[0;34m\u001b[0m\u001b[0;34m\u001b[0m\u001b[0m\n",
      "\u001b[0;32m/opt/anaconda3/lib/python3.7/site-packages/torch/nn/functional.py\u001b[0m in \u001b[0;36mlinear\u001b[0;34m(input, weight, bias)\u001b[0m\n\u001b[1;32m   1370\u001b[0m         \u001b[0mret\u001b[0m \u001b[0;34m=\u001b[0m \u001b[0mtorch\u001b[0m\u001b[0;34m.\u001b[0m\u001b[0maddmm\u001b[0m\u001b[0;34m(\u001b[0m\u001b[0mbias\u001b[0m\u001b[0;34m,\u001b[0m \u001b[0minput\u001b[0m\u001b[0;34m,\u001b[0m \u001b[0mweight\u001b[0m\u001b[0;34m.\u001b[0m\u001b[0mt\u001b[0m\u001b[0;34m(\u001b[0m\u001b[0;34m)\u001b[0m\u001b[0;34m)\u001b[0m\u001b[0;34m\u001b[0m\u001b[0;34m\u001b[0m\u001b[0m\n\u001b[1;32m   1371\u001b[0m     \u001b[0;32melse\u001b[0m\u001b[0;34m:\u001b[0m\u001b[0;34m\u001b[0m\u001b[0;34m\u001b[0m\u001b[0m\n\u001b[0;32m-> 1372\u001b[0;31m         \u001b[0moutput\u001b[0m \u001b[0;34m=\u001b[0m \u001b[0minput\u001b[0m\u001b[0;34m.\u001b[0m\u001b[0mmatmul\u001b[0m\u001b[0;34m(\u001b[0m\u001b[0mweight\u001b[0m\u001b[0;34m.\u001b[0m\u001b[0mt\u001b[0m\u001b[0;34m(\u001b[0m\u001b[0;34m)\u001b[0m\u001b[0;34m)\u001b[0m\u001b[0;34m\u001b[0m\u001b[0;34m\u001b[0m\u001b[0m\n\u001b[0m\u001b[1;32m   1373\u001b[0m         \u001b[0;32mif\u001b[0m \u001b[0mbias\u001b[0m \u001b[0;32mis\u001b[0m \u001b[0;32mnot\u001b[0m \u001b[0;32mNone\u001b[0m\u001b[0;34m:\u001b[0m\u001b[0;34m\u001b[0m\u001b[0;34m\u001b[0m\u001b[0m\n\u001b[1;32m   1374\u001b[0m             \u001b[0moutput\u001b[0m \u001b[0;34m+=\u001b[0m \u001b[0mbias\u001b[0m\u001b[0;34m\u001b[0m\u001b[0;34m\u001b[0m\u001b[0m\n",
      "\u001b[0;31mKeyboardInterrupt\u001b[0m: "
     ]
    }
   ],
   "source": [
    "gwords=pd.read_csv(\"./test_good_101_1_words.csv\")\n",
    "size=len(gwords)\n",
    "WSIML=0.5\n",
    "sentence=gwords['fullnopunc']\n",
    "lists=[]\n",
    "vals=[]\n",
    "for x in tqdm(range(len(sentence))):\n",
    "    arr=[]\n",
    "    s=sentence[x]\n",
    "    word = s.split()\n",
    "    length=len(word)\n",
    "    sl=0\n",
    "    for i in (range(length)):\n",
    "        sm=0\n",
    "        for j in (range(length)):\n",
    "            if(i!=j):\n",
    "                sm=sm+nlp(word[i]).similarity(nlp(word[j]))\n",
    "        sm=sm/length\n",
    "        arr.append(sm)\n",
    "        sm=abs(sm-WSIML)\n",
    "        sl=sl+sm\n",
    "    lists.append(arr)\n",
    "    vals.append(size/sl)\n",
    "\n",
    "len(gwords)/pd.Series(vals).sum()"
   ]
  },
  {
   "cell_type": "code",
   "execution_count": 4,
   "metadata": {},
   "outputs": [
    {
     "data": {
      "application/vnd.jupyter.widget-view+json": {
       "model_id": "de4ed18416e74167a98410c79387b5bb",
       "version_major": 2,
       "version_minor": 0
      },
      "text/plain": [
       "HBox(children=(IntProgress(value=0, max=9), HTML(value='')))"
      ]
     },
     "metadata": {},
     "output_type": "display_data"
    },
    {
     "data": {
      "application/vnd.jupyter.widget-view+json": {
       "model_id": "285753763f8247ca93492687d0a2acf0",
       "version_major": 2,
       "version_minor": 0
      },
      "text/plain": [
       "HBox(children=(IntProgress(value=0, max=101), HTML(value='')))"
      ]
     },
     "metadata": {},
     "output_type": "display_data"
    },
    {
     "name": "stdout",
     "output_type": "stream",
     "text": [
      "\n"
     ]
    },
    {
     "data": {
      "application/vnd.jupyter.widget-view+json": {
       "model_id": "23856b380017470f90779956af41fa95",
       "version_major": 2,
       "version_minor": 0
      },
      "text/plain": [
       "HBox(children=(IntProgress(value=0, max=101), HTML(value='')))"
      ]
     },
     "metadata": {},
     "output_type": "display_data"
    },
    {
     "name": "stdout",
     "output_type": "stream",
     "text": [
      "\n"
     ]
    },
    {
     "data": {
      "application/vnd.jupyter.widget-view+json": {
       "model_id": "12a5c3924bad492a99eceeec28024772",
       "version_major": 2,
       "version_minor": 0
      },
      "text/plain": [
       "HBox(children=(IntProgress(value=0, max=101), HTML(value='')))"
      ]
     },
     "metadata": {},
     "output_type": "display_data"
    },
    {
     "name": "stdout",
     "output_type": "stream",
     "text": [
      "\n"
     ]
    },
    {
     "data": {
      "application/vnd.jupyter.widget-view+json": {
       "model_id": "071fca38f539416ea0d1c5288f85fc02",
       "version_major": 2,
       "version_minor": 0
      },
      "text/plain": [
       "HBox(children=(IntProgress(value=0, max=101), HTML(value='')))"
      ]
     },
     "metadata": {},
     "output_type": "display_data"
    },
    {
     "name": "stdout",
     "output_type": "stream",
     "text": [
      "\n"
     ]
    },
    {
     "data": {
      "application/vnd.jupyter.widget-view+json": {
       "model_id": "156d9b9a8a544c1aa5bf124d84030822",
       "version_major": 2,
       "version_minor": 0
      },
      "text/plain": [
       "HBox(children=(IntProgress(value=0, max=101), HTML(value='')))"
      ]
     },
     "metadata": {},
     "output_type": "display_data"
    },
    {
     "name": "stdout",
     "output_type": "stream",
     "text": [
      "\n"
     ]
    },
    {
     "data": {
      "application/vnd.jupyter.widget-view+json": {
       "model_id": "4ffe8e5343b94f849870e6a267f7e7dd",
       "version_major": 2,
       "version_minor": 0
      },
      "text/plain": [
       "HBox(children=(IntProgress(value=0, max=101), HTML(value='')))"
      ]
     },
     "metadata": {},
     "output_type": "display_data"
    },
    {
     "name": "stdout",
     "output_type": "stream",
     "text": [
      "\n"
     ]
    },
    {
     "data": {
      "application/vnd.jupyter.widget-view+json": {
       "model_id": "ec13fb7becd3436580cea64ed4eb7209",
       "version_major": 2,
       "version_minor": 0
      },
      "text/plain": [
       "HBox(children=(IntProgress(value=0, max=101), HTML(value='')))"
      ]
     },
     "metadata": {},
     "output_type": "display_data"
    },
    {
     "name": "stdout",
     "output_type": "stream",
     "text": [
      "\n"
     ]
    },
    {
     "data": {
      "application/vnd.jupyter.widget-view+json": {
       "model_id": "cf8082cc69ff424181527e68e7e81d5f",
       "version_major": 2,
       "version_minor": 0
      },
      "text/plain": [
       "HBox(children=(IntProgress(value=0, max=101), HTML(value='')))"
      ]
     },
     "metadata": {},
     "output_type": "display_data"
    },
    {
     "name": "stdout",
     "output_type": "stream",
     "text": [
      "\n"
     ]
    },
    {
     "data": {
      "application/vnd.jupyter.widget-view+json": {
       "model_id": "d39d00abe24348e88db3082b8e07dac3",
       "version_major": 2,
       "version_minor": 0
      },
      "text/plain": [
       "HBox(children=(IntProgress(value=0, max=101), HTML(value='')))"
      ]
     },
     "metadata": {},
     "output_type": "display_data"
    },
    {
     "name": "stdout",
     "output_type": "stream",
     "text": [
      "\n",
      "\n",
      "[1.5078036884658743, 1.7755167605086704, 2.158818625811296, 2.75318032167654, 3.774922918891222, 5.759273105786393, 9.559867544343893, 11.618984979000448, 7.11004329237453]\n"
     ]
    },
    {
     "data": {
      "application/vnd.jupyter.widget-view+json": {
       "model_id": "72594968d52b4472b870c4eed73c0210",
       "version_major": 2,
       "version_minor": 0
      },
      "text/plain": [
       "HBox(children=(IntProgress(value=0, max=101), HTML(value='')))"
      ]
     },
     "metadata": {},
     "output_type": "display_data"
    },
    {
     "name": "stdout",
     "output_type": "stream",
     "text": [
      "\n",
      "[1, 9, 4, 6, 2, 6, 1, 8, 15, 4, 1, 7, 11, 1, 5, 4, 12, 3, 8, 11, 11, 11, 2, 3, 3, 4, 2, 19, 1, 7, 18, 6, 2, 8, 2, 0, 6, 5, 4, 6, 31, 38, 5, 16, 4, 2, 5, 33, 12, 16, 16, 4, 5, 10, 1, 2, 9, 8, 3, 5, 6, 1, 4, 0, 2, 1, 18, 9, 5, 2, 9, 1, 4, 6, 5, 0, 17, 6, 19, 16, 2, 2, 9, 7, 13, 7, 1, 4, 18, 3, 1, 2, 10, 6, 7, 1, 7, 8, 10, 7, 3]\n",
      "0.06756992585061462\n",
      "0.13950276243093923\n"
     ]
    },
    {
     "data": {
      "application/vnd.jupyter.widget-view+json": {
       "model_id": "12328691e4af491f9cb80df09f08f542",
       "version_major": 2,
       "version_minor": 0
      },
      "text/plain": [
       "HBox(children=(IntProgress(value=0, max=101), HTML(value='')))"
      ]
     },
     "metadata": {},
     "output_type": "display_data"
    },
    {
     "name": "stdout",
     "output_type": "stream",
     "text": [
      "\n",
      "[0.731594078373792, 0.7071323328916573, 0.6084232871713664, 0.83258588081206, 0.8659693743389781, 0.8373076248945541, 0.785089759464352, 0.711765019821002, 0.7204732725577601, 0.7578399374810542, 0.8200743273283415, 0.8207343656307879, 0.7751139141883853, 0.8816582624539723, 0.8842817887763237, 0.9313493167365009, 0.7348446484908576, 0.6534945662526068, 0.673514136586978, 0.6552793109798888, 0.8283842707943571, 0.8180516428091832, 0.7768818276487424, 0.6008899534498305, 0.6728583850337511, 0.726095322785707, 0.8581615607466013, 0.7653848492190759, 0.9160845289055501, 0.8116007957688067, 0.684753683096059, 0.7966191692278501, 0.8166835717099845, 0.8084913075183292, 0.7762492988386241, 0.6970762385609213, 0.5681490553821698, 0.8961349735801857, 0.8999271642928709, 0.5096694766383505, 0.7170249399407199, 0.7647675868650998, 0.8735501884536386, 0.7822725363055315, 0.6545521273466435, 0.7270936806490413, 0.8528961190603768, 0.6776162638926507, 0.5409919781502396, 0.6502575025945189, 0.624149915062531, 0.9257596439245793, 0.7388064269383022, 0.8198391570910845, 0.776633768023106, 0.7848145489065016, 0.8410949216664746, 0.7751658431423176, 0.7500764781926358, 0.5957781509824064, 0.6507006563895287, 0.7400036968410421, 0.6735214649455267, 0.9184318766002475, 0.912823817407538, 0.7849661811924393, 0.9184736148443483, 0.6411643641375037, 0.7781180599056785, 0.7401543592656478, 0.8776788908606344, 0.8024378133598878, 0.9721299529197684, 0.8884028707571245, 0.8286310229719765, 0.8321954877204928, 0.7384926056315341, 0.8771393275234044, 0.5581247498071651, 0.41466710434913023, 0.8029704691772008, 0.8364929895875641, 0.8488809407720317, 0.8193730411463753, 0.7572613188556216, 0.6738247196750649, 0.7185548510307104, 0.7829774385720393, 0.5384532709709288, 0.8307028056581782, 0.6843127390978571, 0.8037534280119638, 0.6595783820755181, 0.8281041584728596, 0.7459944472536992, 0.8840793189013623, 0.8715819700198101, 0.7299922867497267, 0.548122255351549, 0.7879105758948725, 0.8938540294399576]\n",
      "0.0010566950356027988\n"
     ]
    }
   ],
   "source": [
    "df_testgood=pd.read_csv(\"./test_good_101_1.csv\")\n",
    "\n",
    "SIML=[0.1,0.2,0.3,0.4,0.5,0.6,0.7,0.8,0.9]\n",
    "arr=[]\n",
    "df = pd.DataFrame(columns=['p', 'h'], data=df_testgood[['sentence1','sentence2']].values)\n",
    "df['p'] = df['p'].str.replace(\"'\", \"\")\n",
    "df['p'] = df['p'].str.replace(\".\", \"\")\n",
    "df['p'] = df['p'].str.replace(\",\", \"\")\n",
    "df['h'] = df['h'].str.replace(\"'\", \"\")\n",
    "df['h'] = df['h'].str.replace(\".\", \"\")\n",
    "df['h'] = df['h'].str.replace(\",\", \"\")\n",
    "\n",
    "for x in tqdm(range(len(SIML))):\n",
    "    dr=0\n",
    "    for i in tqdm(range(len(df_testgood))):        \n",
    "        dr=dr+abs(((nlp(df.loc[i,'p'])).similarity(nlp(df.loc[i,'h'])))-SIML[x])\n",
    "    arr.append(len(df_testgood)/dr)\n",
    "print(arr)\n",
    "    \n",
    "#-------------------------------------------------------------------------------------------------------\n",
    "\n",
    "garr=[]\n",
    "\n",
    "df = pd.DataFrame(columns=['p', 'h'], data=df_testgood[['sentence1','sentence2']].values)\n",
    "df['p'] = df['p'].str.replace(\"'\", \"\")\n",
    "df['p'] = df['p'].str.replace(\".\", \"\")\n",
    "df['p'] = df['p'].str.replace(\",\", \"\")\n",
    "df['h'] = df['h'].str.replace(\"'\", \"\")\n",
    "df['h'] = df['h'].str.replace(\".\", \"\")\n",
    "df['h'] = df['h'].str.replace(\",\", \"\")\n",
    "\n",
    "for i in tqdm(range(len(df_testgood))):         \n",
    "    garr.append(abs((len((df.iloc[i]['p']).split()))-(len((df.iloc[i]['h']).split()))))\n",
    "print(garr)\n",
    "print(pd.Series(garr).std()/len(df_testgood))    \n",
    "print(len(garr)/(pd.Series(garr).sum()+1))\n",
    "\n",
    "#-------------------------------------------------------------------------------------------------------\n",
    "\n",
    "gsarr=[]\n",
    "df = pd.DataFrame(columns=['p', 'h'], data=df_testgood[['sentence1','sentence2']].values)\n",
    "df['p'] = df['p'].str.replace(\"'\", \"\")\n",
    "df['p'] = df['p'].str.replace(\".\", \"\")\n",
    "df['p'] = df['p'].str.replace(\",\", \"\")\n",
    "df['h'] = df['h'].str.replace(\"'\", \"\")\n",
    "df['h'] = df['h'].str.replace(\".\", \"\")\n",
    "df['h'] = df['h'].str.replace(\",\", \"\")\n",
    "\n",
    "for i in tqdm(range(len(df_testgood))):        \n",
    "    gsarr.append(abs(((nlp(df.loc[i,'p'])).similarity(nlp(df.loc[i,'h'])))))\n",
    "print(gsarr)\n",
    "    \n",
    "print(pd.Series(gsarr).std()/len(df_testgood))\n",
    "\n",
    "\n",
    "\n",
    "\n",
    "\n",
    "\n",
    "\n",
    "\n",
    "\n",
    "\n",
    "\n",
    "\n",
    "\n",
    "\n",
    "\n"
   ]
  },
  {
   "cell_type": "code",
   "execution_count": 8,
   "metadata": {},
   "outputs": [
    {
     "data": {
      "text/html": [
       "<div>\n",
       "<style scoped>\n",
       "    .dataframe tbody tr th:only-of-type {\n",
       "        vertical-align: middle;\n",
       "    }\n",
       "\n",
       "    .dataframe tbody tr th {\n",
       "        vertical-align: top;\n",
       "    }\n",
       "\n",
       "    .dataframe thead th {\n",
       "        text-align: right;\n",
       "    }\n",
       "</style>\n",
       "<table border=\"1\" class=\"dataframe\">\n",
       "  <thead>\n",
       "    <tr style=\"text-align: right;\">\n",
       "      <th></th>\n",
       "      <th>p</th>\n",
       "      <th>h</th>\n",
       "    </tr>\n",
       "  </thead>\n",
       "  <tbody>\n",
       "    <tr>\n",
       "      <td>0</td>\n",
       "      <td>A woman in a green shirt preparing to run on a...</td>\n",
       "      <td>A woman is preparing to sleep on a treadmill</td>\n",
       "    </tr>\n",
       "    <tr>\n",
       "      <td>1</td>\n",
       "      <td>The dog is catching a treat</td>\n",
       "      <td>the cat is not catching a treat</td>\n",
       "    </tr>\n",
       "    <tr>\n",
       "      <td>2</td>\n",
       "      <td>Three young men are watching a tennis match on...</td>\n",
       "      <td>Three young men watching a tennis match on a s...</td>\n",
       "    </tr>\n",
       "    <tr>\n",
       "      <td>3</td>\n",
       "      <td>A girl dressed in a pink shirt jeans and flip-...</td>\n",
       "      <td>A funny person in a shirt</td>\n",
       "    </tr>\n",
       "    <tr>\n",
       "      <td>4</td>\n",
       "      <td>A man in a green apron smiles behind a food stand</td>\n",
       "      <td>A man smiles</td>\n",
       "    </tr>\n",
       "    <tr>\n",
       "      <td>5</td>\n",
       "      <td>A little girl with a hat sits between a womans...</td>\n",
       "      <td>The girl is wearing a hat</td>\n",
       "    </tr>\n",
       "    <tr>\n",
       "      <td>6</td>\n",
       "      <td>People are throwing tomatoes at each other</td>\n",
       "      <td>The people are having a food fight</td>\n",
       "    </tr>\n",
       "    <tr>\n",
       "      <td>7</td>\n",
       "      <td>A man poses for a photo in front of a Chinese ...</td>\n",
       "      <td>The man is prepared for his photo</td>\n",
       "    </tr>\n",
       "    <tr>\n",
       "      <td>8</td>\n",
       "      <td>An older gentleman speaking at a podium</td>\n",
       "      <td>A man giving a speech</td>\n",
       "    </tr>\n",
       "    <tr>\n",
       "      <td>9</td>\n",
       "      <td>A man poses for a photo in front of a Chinese ...</td>\n",
       "      <td>The man has experience in taking photos</td>\n",
       "    </tr>\n",
       "    <tr>\n",
       "      <td>10</td>\n",
       "      <td>People are waiting in line by a food vendor</td>\n",
       "      <td>People sit and wait for their orders at a nice...</td>\n",
       "    </tr>\n",
       "    <tr>\n",
       "      <td>11</td>\n",
       "      <td>Number 13 kicks a soccer ball towards the goal...</td>\n",
       "      <td>A player passing the ball in a soccer game</td>\n",
       "    </tr>\n",
       "  </tbody>\n",
       "</table>\n",
       "</div>"
      ],
      "text/plain": [
       "                                                    p  \\\n",
       "0   A woman in a green shirt preparing to run on a...   \n",
       "1                         The dog is catching a treat   \n",
       "2   Three young men are watching a tennis match on...   \n",
       "3   A girl dressed in a pink shirt jeans and flip-...   \n",
       "4   A man in a green apron smiles behind a food stand   \n",
       "5   A little girl with a hat sits between a womans...   \n",
       "6          People are throwing tomatoes at each other   \n",
       "7   A man poses for a photo in front of a Chinese ...   \n",
       "8             An older gentleman speaking at a podium   \n",
       "9   A man poses for a photo in front of a Chinese ...   \n",
       "10        People are waiting in line by a food vendor   \n",
       "11  Number 13 kicks a soccer ball towards the goal...   \n",
       "\n",
       "                                                    h  \n",
       "0        A woman is preparing to sleep on a treadmill  \n",
       "1                     the cat is not catching a treat  \n",
       "2   Three young men watching a tennis match on a s...  \n",
       "3                           A funny person in a shirt  \n",
       "4                                        A man smiles  \n",
       "5                           The girl is wearing a hat  \n",
       "6                  The people are having a food fight  \n",
       "7                   The man is prepared for his photo  \n",
       "8                               A man giving a speech  \n",
       "9             The man has experience in taking photos  \n",
       "10  People sit and wait for their orders at a nice...  \n",
       "11         A player passing the ball in a soccer game  "
      ]
     },
     "execution_count": 8,
     "metadata": {},
     "output_type": "execute_result"
    }
   ],
   "source": [
    "df_testgood=pd.read_csv(\"/Users/aarunku5/Desktop/Case_3/Sentences.csv\")\n",
    "\n",
    "SIML=[0.1,0.2,0.3,0.4,0.5,0.6,0.7,0.8,0.9]\n",
    "arr=[]\n",
    "df = pd.DataFrame(columns=['p', 'h'], data=df_testgood[['sentence1','sentence2']].values)\n",
    "df['p'] = df['p'].str.replace(\"'\", \"\")\n",
    "df['p'] = df['p'].str.replace(\".\", \"\")\n",
    "df['p'] = df['p'].str.replace(\",\", \"\")\n",
    "df['h'] = df['h'].str.replace(\"'\", \"\")\n",
    "df['h'] = df['h'].str.replace(\".\", \"\")\n",
    "df['h'] = df['h'].str.replace(\",\", \"\")\n",
    "df\n"
   ]
  },
  {
   "cell_type": "code",
   "execution_count": 9,
   "metadata": {},
   "outputs": [
    {
     "data": {
      "application/vnd.jupyter.widget-view+json": {
       "model_id": "e2173f6ee5334e5ab2afa2aef614082b",
       "version_major": 2,
       "version_minor": 0
      },
      "text/plain": [
       "HBox(children=(IntProgress(value=0, max=24), HTML(value='')))"
      ]
     },
     "metadata": {},
     "output_type": "display_data"
    },
    {
     "name": "stdout",
     "output_type": "stream",
     "text": [
      "\n"
     ]
    },
    {
     "data": {
      "text/html": [
       "<div>\n",
       "<style scoped>\n",
       "    .dataframe tbody tr th:only-of-type {\n",
       "        vertical-align: middle;\n",
       "    }\n",
       "\n",
       "    .dataframe tbody tr th {\n",
       "        vertical-align: top;\n",
       "    }\n",
       "\n",
       "    .dataframe thead th {\n",
       "        text-align: right;\n",
       "    }\n",
       "</style>\n",
       "<table border=\"1\" class=\"dataframe\">\n",
       "  <thead>\n",
       "    <tr style=\"text-align: right;\">\n",
       "      <th></th>\n",
       "      <th>index</th>\n",
       "      <th>full</th>\n",
       "      <th>casewords</th>\n",
       "      <th>wsw</th>\n",
       "      <th>nopunc</th>\n",
       "      <th>text_lemmatized</th>\n",
       "      <th>final</th>\n",
       "      <th>fullnopunc</th>\n",
       "    </tr>\n",
       "  </thead>\n",
       "  <tbody>\n",
       "    <tr>\n",
       "      <td>0</td>\n",
       "      <td>0</td>\n",
       "      <td>A woman, in a green shirt, preparing to run on...</td>\n",
       "      <td>a woman, in a green shirt, preparing to run on...</td>\n",
       "      <td>woman, green shirt, preparing run treadmill.</td>\n",
       "      <td>woman green shirt preparing run treadmill</td>\n",
       "      <td>[woman, green, shirt, preparing, run, treadmill]</td>\n",
       "      <td>woman green shirt preparing run treadmill</td>\n",
       "      <td>A woman in a green shirt preparing to run on a...</td>\n",
       "    </tr>\n",
       "    <tr>\n",
       "      <td>1</td>\n",
       "      <td>1</td>\n",
       "      <td>The dog is catching a treat.</td>\n",
       "      <td>the dog is catching a treat.</td>\n",
       "      <td>dog catching treat.</td>\n",
       "      <td>dog catching treat</td>\n",
       "      <td>[dog, catching, treat]</td>\n",
       "      <td>dog catching treat</td>\n",
       "      <td>The dog is catching a treat</td>\n",
       "    </tr>\n",
       "    <tr>\n",
       "      <td>2</td>\n",
       "      <td>2</td>\n",
       "      <td>Three young men are watching a tennis match on...</td>\n",
       "      <td>three young men are watching a tennis match on...</td>\n",
       "      <td>three young men watching tennis match large sc...</td>\n",
       "      <td>three young men watching tennis match large sc...</td>\n",
       "      <td>[three, young, men, watching, tennis, match, l...</td>\n",
       "      <td>three young men watching tennis match large sc...</td>\n",
       "      <td>Three young men are watching a tennis match on...</td>\n",
       "    </tr>\n",
       "    <tr>\n",
       "      <td>3</td>\n",
       "      <td>3</td>\n",
       "      <td>A girl dressed in a pink shirt, jeans, and fli...</td>\n",
       "      <td>a girl dressed in a pink shirt, jeans, and fli...</td>\n",
       "      <td>girl dressed pink shirt, jeans, flip-flops sit...</td>\n",
       "      <td>girl dressed pink shirt jeans flip-flops sitti...</td>\n",
       "      <td>[girl, dressed, pink, shirt, jean, flip-flop, ...</td>\n",
       "      <td>girl dressed pink shirt jean flip-flop sitting...</td>\n",
       "      <td>A girl dressed in a pink shirt jeans and flip-...</td>\n",
       "    </tr>\n",
       "    <tr>\n",
       "      <td>4</td>\n",
       "      <td>4</td>\n",
       "      <td>A man in a green apron smiles behind a food st...</td>\n",
       "      <td>a man in a green apron smiles behind a food st...</td>\n",
       "      <td>man green apron smiles behind food stand.</td>\n",
       "      <td>man green apron smiles behind food stand</td>\n",
       "      <td>[man, green, apron, smile, behind, food, stand]</td>\n",
       "      <td>man green apron smile behind food stand</td>\n",
       "      <td>A man in a green apron smiles behind a food stand</td>\n",
       "    </tr>\n",
       "    <tr>\n",
       "      <td>5</td>\n",
       "      <td>5</td>\n",
       "      <td>A little girl with a hat sits between a woman'...</td>\n",
       "      <td>a little girl with a hat sits between a woman'...</td>\n",
       "      <td>little girl hat sits woman's feet sand front p...</td>\n",
       "      <td>little girl hat sits womans feet sand front pa...</td>\n",
       "      <td>[little, girl, hat, sits, woman, foot, sand, f...</td>\n",
       "      <td>little girl hat sits woman foot sand front pai...</td>\n",
       "      <td>A little girl with a hat sits between a womans...</td>\n",
       "    </tr>\n",
       "    <tr>\n",
       "      <td>6</td>\n",
       "      <td>6</td>\n",
       "      <td>People are throwing tomatoes at each other.</td>\n",
       "      <td>people are throwing tomatoes at each other.</td>\n",
       "      <td>people throwing tomatoes other.</td>\n",
       "      <td>people throwing tomatoes other</td>\n",
       "      <td>[people, throwing, tomato, other]</td>\n",
       "      <td>people throwing tomato other</td>\n",
       "      <td>People are throwing tomatoes at each other</td>\n",
       "    </tr>\n",
       "    <tr>\n",
       "      <td>7</td>\n",
       "      <td>7</td>\n",
       "      <td>A man poses for a photo in front of a Chinese ...</td>\n",
       "      <td>a man poses for a photo in front of a chinese ...</td>\n",
       "      <td>man poses photo front chinese building jumping.</td>\n",
       "      <td>man poses photo front chinese building jumping</td>\n",
       "      <td>[man, pose, photo, front, chinese, building, j...</td>\n",
       "      <td>man pose photo front chinese building jumping</td>\n",
       "      <td>A man poses for a photo in front of a Chinese ...</td>\n",
       "    </tr>\n",
       "    <tr>\n",
       "      <td>8</td>\n",
       "      <td>8</td>\n",
       "      <td>An older gentleman speaking at a podium.</td>\n",
       "      <td>an older gentleman speaking at a podium.</td>\n",
       "      <td>older gentleman speaking podium.</td>\n",
       "      <td>older gentleman speaking podium</td>\n",
       "      <td>[older, gentleman, speaking, podium]</td>\n",
       "      <td>older gentleman speaking podium</td>\n",
       "      <td>An older gentleman speaking at a podium</td>\n",
       "    </tr>\n",
       "    <tr>\n",
       "      <td>9</td>\n",
       "      <td>9</td>\n",
       "      <td>A man poses for a photo in front of a Chinese ...</td>\n",
       "      <td>a man poses for a photo in front of a chinese ...</td>\n",
       "      <td>man poses photo front chinese building jumping.</td>\n",
       "      <td>man poses photo front chinese building jumping</td>\n",
       "      <td>[man, pose, photo, front, chinese, building, j...</td>\n",
       "      <td>man pose photo front chinese building jumping</td>\n",
       "      <td>A man poses for a photo in front of a Chinese ...</td>\n",
       "    </tr>\n",
       "    <tr>\n",
       "      <td>10</td>\n",
       "      <td>10</td>\n",
       "      <td>People are waiting in line by a food vendor.</td>\n",
       "      <td>people are waiting in line by a food vendor.</td>\n",
       "      <td>people waiting line food vendor.</td>\n",
       "      <td>people waiting line food vendor</td>\n",
       "      <td>[people, waiting, line, food, vendor]</td>\n",
       "      <td>people waiting line food vendor</td>\n",
       "      <td>People are waiting in line by a food vendor</td>\n",
       "    </tr>\n",
       "    <tr>\n",
       "      <td>11</td>\n",
       "      <td>11</td>\n",
       "      <td>Number 13 kicks a soccer ball towards the goal...</td>\n",
       "      <td>number 13 kicks a soccer ball towards the goal...</td>\n",
       "      <td>number 13 kicks soccer ball towards goal child...</td>\n",
       "      <td>number 13 kicks soccer ball towards goal child...</td>\n",
       "      <td>[number, 13, kick, soccer, ball, towards, goal...</td>\n",
       "      <td>number 13 kick soccer ball towards goal childr...</td>\n",
       "      <td>Number 13 kicks a soccer ball towards the goal...</td>\n",
       "    </tr>\n",
       "    <tr>\n",
       "      <td>12</td>\n",
       "      <td>0</td>\n",
       "      <td>A woman is preparing to sleep on a treadmill.</td>\n",
       "      <td>a woman is preparing to sleep on a treadmill.</td>\n",
       "      <td>woman preparing sleep treadmill.</td>\n",
       "      <td>woman preparing sleep treadmill</td>\n",
       "      <td>[woman, preparing, sleep, treadmill]</td>\n",
       "      <td>woman preparing sleep treadmill</td>\n",
       "      <td>A woman is preparing to sleep on a treadmill</td>\n",
       "    </tr>\n",
       "    <tr>\n",
       "      <td>13</td>\n",
       "      <td>1</td>\n",
       "      <td>the cat is not catching a treat</td>\n",
       "      <td>the cat is not catching a treat</td>\n",
       "      <td>cat catching treat</td>\n",
       "      <td>cat catching treat</td>\n",
       "      <td>[cat, catching, treat]</td>\n",
       "      <td>cat catching treat</td>\n",
       "      <td>the cat is not catching a treat</td>\n",
       "    </tr>\n",
       "    <tr>\n",
       "      <td>14</td>\n",
       "      <td>2</td>\n",
       "      <td>Three young men watching a tennis match on a s...</td>\n",
       "      <td>three young men watching a tennis match on a s...</td>\n",
       "      <td>three young men watching tennis match screen o...</td>\n",
       "      <td>three young men watching tennis match screen o...</td>\n",
       "      <td>[three, young, men, watching, tennis, match, s...</td>\n",
       "      <td>three young men watching tennis match screen o...</td>\n",
       "      <td>Three young men watching a tennis match on a s...</td>\n",
       "    </tr>\n",
       "    <tr>\n",
       "      <td>15</td>\n",
       "      <td>3</td>\n",
       "      <td>A funny person in a shirt</td>\n",
       "      <td>a funny person in a shirt</td>\n",
       "      <td>funny person shirt</td>\n",
       "      <td>funny person shirt</td>\n",
       "      <td>[funny, person, shirt]</td>\n",
       "      <td>funny person shirt</td>\n",
       "      <td>A funny person in a shirt</td>\n",
       "    </tr>\n",
       "    <tr>\n",
       "      <td>16</td>\n",
       "      <td>4</td>\n",
       "      <td>A man smiles.</td>\n",
       "      <td>a man smiles.</td>\n",
       "      <td>man smiles.</td>\n",
       "      <td>man smiles</td>\n",
       "      <td>[man, smile]</td>\n",
       "      <td>man smile</td>\n",
       "      <td>A man smiles</td>\n",
       "    </tr>\n",
       "    <tr>\n",
       "      <td>17</td>\n",
       "      <td>5</td>\n",
       "      <td>The girl is wearing a hat.</td>\n",
       "      <td>the girl is wearing a hat.</td>\n",
       "      <td>girl wearing hat.</td>\n",
       "      <td>girl wearing hat</td>\n",
       "      <td>[girl, wearing, hat]</td>\n",
       "      <td>girl wearing hat</td>\n",
       "      <td>The girl is wearing a hat</td>\n",
       "    </tr>\n",
       "    <tr>\n",
       "      <td>18</td>\n",
       "      <td>6</td>\n",
       "      <td>The people are having a food fight.</td>\n",
       "      <td>the people are having a food fight.</td>\n",
       "      <td>people food fight.</td>\n",
       "      <td>people food fight</td>\n",
       "      <td>[people, food, fight]</td>\n",
       "      <td>people food fight</td>\n",
       "      <td>The people are having a food fight</td>\n",
       "    </tr>\n",
       "    <tr>\n",
       "      <td>19</td>\n",
       "      <td>7</td>\n",
       "      <td>The man is prepared for his photo.</td>\n",
       "      <td>the man is prepared for his photo.</td>\n",
       "      <td>man prepared photo.</td>\n",
       "      <td>man prepared photo</td>\n",
       "      <td>[man, prepared, photo]</td>\n",
       "      <td>man prepared photo</td>\n",
       "      <td>The man is prepared for his photo</td>\n",
       "    </tr>\n",
       "    <tr>\n",
       "      <td>20</td>\n",
       "      <td>8</td>\n",
       "      <td>A man giving a speech</td>\n",
       "      <td>a man giving a speech</td>\n",
       "      <td>man giving speech</td>\n",
       "      <td>man giving speech</td>\n",
       "      <td>[man, giving, speech]</td>\n",
       "      <td>man giving speech</td>\n",
       "      <td>A man giving a speech</td>\n",
       "    </tr>\n",
       "    <tr>\n",
       "      <td>21</td>\n",
       "      <td>9</td>\n",
       "      <td>The man has experience in taking photos.</td>\n",
       "      <td>the man has experience in taking photos.</td>\n",
       "      <td>man experience taking photos.</td>\n",
       "      <td>man experience taking photos</td>\n",
       "      <td>[man, experience, taking, photo]</td>\n",
       "      <td>man experience taking photo</td>\n",
       "      <td>The man has experience in taking photos</td>\n",
       "    </tr>\n",
       "    <tr>\n",
       "      <td>22</td>\n",
       "      <td>10</td>\n",
       "      <td>People sit and wait for their orders at a nice...</td>\n",
       "      <td>people sit and wait for their orders at a nice...</td>\n",
       "      <td>people sit wait orders nice sit restaurant.</td>\n",
       "      <td>people sit wait orders nice sit restaurant</td>\n",
       "      <td>[people, sit, wait, order, nice, sit, restaurant]</td>\n",
       "      <td>people sit wait order nice sit restaurant</td>\n",
       "      <td>People sit and wait for their orders at a nice...</td>\n",
       "    </tr>\n",
       "    <tr>\n",
       "      <td>23</td>\n",
       "      <td>11</td>\n",
       "      <td>A player passing the ball in a soccer game.</td>\n",
       "      <td>a player passing the ball in a soccer game.</td>\n",
       "      <td>player passing ball soccer game.</td>\n",
       "      <td>player passing ball soccer game</td>\n",
       "      <td>[player, passing, ball, soccer, game]</td>\n",
       "      <td>player passing ball soccer game</td>\n",
       "      <td>A player passing the ball in a soccer game</td>\n",
       "    </tr>\n",
       "  </tbody>\n",
       "</table>\n",
       "</div>"
      ],
      "text/plain": [
       "    index                                               full  \\\n",
       "0       0  A woman, in a green shirt, preparing to run on...   \n",
       "1       1                       The dog is catching a treat.   \n",
       "2       2  Three young men are watching a tennis match on...   \n",
       "3       3  A girl dressed in a pink shirt, jeans, and fli...   \n",
       "4       4  A man in a green apron smiles behind a food st...   \n",
       "5       5  A little girl with a hat sits between a woman'...   \n",
       "6       6        People are throwing tomatoes at each other.   \n",
       "7       7  A man poses for a photo in front of a Chinese ...   \n",
       "8       8           An older gentleman speaking at a podium.   \n",
       "9       9  A man poses for a photo in front of a Chinese ...   \n",
       "10     10       People are waiting in line by a food vendor.   \n",
       "11     11  Number 13 kicks a soccer ball towards the goal...   \n",
       "12      0      A woman is preparing to sleep on a treadmill.   \n",
       "13      1                    the cat is not catching a treat   \n",
       "14      2  Three young men watching a tennis match on a s...   \n",
       "15      3                          A funny person in a shirt   \n",
       "16      4                                      A man smiles.   \n",
       "17      5                         The girl is wearing a hat.   \n",
       "18      6                The people are having a food fight.   \n",
       "19      7                 The man is prepared for his photo.   \n",
       "20      8                              A man giving a speech   \n",
       "21      9           The man has experience in taking photos.   \n",
       "22     10  People sit and wait for their orders at a nice...   \n",
       "23     11        A player passing the ball in a soccer game.   \n",
       "\n",
       "                                            casewords  \\\n",
       "0   a woman, in a green shirt, preparing to run on...   \n",
       "1                        the dog is catching a treat.   \n",
       "2   three young men are watching a tennis match on...   \n",
       "3   a girl dressed in a pink shirt, jeans, and fli...   \n",
       "4   a man in a green apron smiles behind a food st...   \n",
       "5   a little girl with a hat sits between a woman'...   \n",
       "6         people are throwing tomatoes at each other.   \n",
       "7   a man poses for a photo in front of a chinese ...   \n",
       "8            an older gentleman speaking at a podium.   \n",
       "9   a man poses for a photo in front of a chinese ...   \n",
       "10       people are waiting in line by a food vendor.   \n",
       "11  number 13 kicks a soccer ball towards the goal...   \n",
       "12      a woman is preparing to sleep on a treadmill.   \n",
       "13                    the cat is not catching a treat   \n",
       "14  three young men watching a tennis match on a s...   \n",
       "15                          a funny person in a shirt   \n",
       "16                                      a man smiles.   \n",
       "17                         the girl is wearing a hat.   \n",
       "18                the people are having a food fight.   \n",
       "19                 the man is prepared for his photo.   \n",
       "20                              a man giving a speech   \n",
       "21           the man has experience in taking photos.   \n",
       "22  people sit and wait for their orders at a nice...   \n",
       "23        a player passing the ball in a soccer game.   \n",
       "\n",
       "                                                  wsw  \\\n",
       "0        woman, green shirt, preparing run treadmill.   \n",
       "1                                 dog catching treat.   \n",
       "2   three young men watching tennis match large sc...   \n",
       "3   girl dressed pink shirt, jeans, flip-flops sit...   \n",
       "4           man green apron smiles behind food stand.   \n",
       "5   little girl hat sits woman's feet sand front p...   \n",
       "6                     people throwing tomatoes other.   \n",
       "7     man poses photo front chinese building jumping.   \n",
       "8                    older gentleman speaking podium.   \n",
       "9     man poses photo front chinese building jumping.   \n",
       "10                   people waiting line food vendor.   \n",
       "11  number 13 kicks soccer ball towards goal child...   \n",
       "12                   woman preparing sleep treadmill.   \n",
       "13                                 cat catching treat   \n",
       "14  three young men watching tennis match screen o...   \n",
       "15                                 funny person shirt   \n",
       "16                                        man smiles.   \n",
       "17                                  girl wearing hat.   \n",
       "18                                 people food fight.   \n",
       "19                                man prepared photo.   \n",
       "20                                  man giving speech   \n",
       "21                      man experience taking photos.   \n",
       "22        people sit wait orders nice sit restaurant.   \n",
       "23                   player passing ball soccer game.   \n",
       "\n",
       "                                               nopunc  \\\n",
       "0           woman green shirt preparing run treadmill   \n",
       "1                                  dog catching treat   \n",
       "2   three young men watching tennis match large sc...   \n",
       "3   girl dressed pink shirt jeans flip-flops sitti...   \n",
       "4            man green apron smiles behind food stand   \n",
       "5   little girl hat sits womans feet sand front pa...   \n",
       "6                      people throwing tomatoes other   \n",
       "7      man poses photo front chinese building jumping   \n",
       "8                     older gentleman speaking podium   \n",
       "9      man poses photo front chinese building jumping   \n",
       "10                    people waiting line food vendor   \n",
       "11  number 13 kicks soccer ball towards goal child...   \n",
       "12                    woman preparing sleep treadmill   \n",
       "13                                 cat catching treat   \n",
       "14  three young men watching tennis match screen o...   \n",
       "15                                 funny person shirt   \n",
       "16                                         man smiles   \n",
       "17                                   girl wearing hat   \n",
       "18                                  people food fight   \n",
       "19                                 man prepared photo   \n",
       "20                                  man giving speech   \n",
       "21                       man experience taking photos   \n",
       "22         people sit wait orders nice sit restaurant   \n",
       "23                    player passing ball soccer game   \n",
       "\n",
       "                                      text_lemmatized  \\\n",
       "0    [woman, green, shirt, preparing, run, treadmill]   \n",
       "1                              [dog, catching, treat]   \n",
       "2   [three, young, men, watching, tennis, match, l...   \n",
       "3   [girl, dressed, pink, shirt, jean, flip-flop, ...   \n",
       "4     [man, green, apron, smile, behind, food, stand]   \n",
       "5   [little, girl, hat, sits, woman, foot, sand, f...   \n",
       "6                   [people, throwing, tomato, other]   \n",
       "7   [man, pose, photo, front, chinese, building, j...   \n",
       "8                [older, gentleman, speaking, podium]   \n",
       "9   [man, pose, photo, front, chinese, building, j...   \n",
       "10              [people, waiting, line, food, vendor]   \n",
       "11  [number, 13, kick, soccer, ball, towards, goal...   \n",
       "12               [woman, preparing, sleep, treadmill]   \n",
       "13                             [cat, catching, treat]   \n",
       "14  [three, young, men, watching, tennis, match, s...   \n",
       "15                             [funny, person, shirt]   \n",
       "16                                       [man, smile]   \n",
       "17                               [girl, wearing, hat]   \n",
       "18                              [people, food, fight]   \n",
       "19                             [man, prepared, photo]   \n",
       "20                              [man, giving, speech]   \n",
       "21                   [man, experience, taking, photo]   \n",
       "22  [people, sit, wait, order, nice, sit, restaurant]   \n",
       "23              [player, passing, ball, soccer, game]   \n",
       "\n",
       "                                                final  \\\n",
       "0           woman green shirt preparing run treadmill   \n",
       "1                                  dog catching treat   \n",
       "2   three young men watching tennis match large sc...   \n",
       "3   girl dressed pink shirt jean flip-flop sitting...   \n",
       "4             man green apron smile behind food stand   \n",
       "5   little girl hat sits woman foot sand front pai...   \n",
       "6                        people throwing tomato other   \n",
       "7       man pose photo front chinese building jumping   \n",
       "8                     older gentleman speaking podium   \n",
       "9       man pose photo front chinese building jumping   \n",
       "10                    people waiting line food vendor   \n",
       "11  number 13 kick soccer ball towards goal childr...   \n",
       "12                    woman preparing sleep treadmill   \n",
       "13                                 cat catching treat   \n",
       "14  three young men watching tennis match screen o...   \n",
       "15                                 funny person shirt   \n",
       "16                                          man smile   \n",
       "17                                   girl wearing hat   \n",
       "18                                  people food fight   \n",
       "19                                 man prepared photo   \n",
       "20                                  man giving speech   \n",
       "21                        man experience taking photo   \n",
       "22          people sit wait order nice sit restaurant   \n",
       "23                    player passing ball soccer game   \n",
       "\n",
       "                                           fullnopunc  \n",
       "0   A woman in a green shirt preparing to run on a...  \n",
       "1                         The dog is catching a treat  \n",
       "2   Three young men are watching a tennis match on...  \n",
       "3   A girl dressed in a pink shirt jeans and flip-...  \n",
       "4   A man in a green apron smiles behind a food stand  \n",
       "5   A little girl with a hat sits between a womans...  \n",
       "6          People are throwing tomatoes at each other  \n",
       "7   A man poses for a photo in front of a Chinese ...  \n",
       "8             An older gentleman speaking at a podium  \n",
       "9   A man poses for a photo in front of a Chinese ...  \n",
       "10        People are waiting in line by a food vendor  \n",
       "11  Number 13 kicks a soccer ball towards the goal...  \n",
       "12       A woman is preparing to sleep on a treadmill  \n",
       "13                    the cat is not catching a treat  \n",
       "14  Three young men watching a tennis match on a s...  \n",
       "15                          A funny person in a shirt  \n",
       "16                                       A man smiles  \n",
       "17                          The girl is wearing a hat  \n",
       "18                 The people are having a food fight  \n",
       "19                  The man is prepared for his photo  \n",
       "20                              A man giving a speech  \n",
       "21            The man has experience in taking photos  \n",
       "22  People sit and wait for their orders at a nice...  \n",
       "23         A player passing the ball in a soccer game  "
      ]
     },
     "execution_count": 9,
     "metadata": {},
     "output_type": "execute_result"
    }
   ],
   "source": [
    "df_wino = pd.read_csv('/Users/aarunku5/Desktop/Case_3/Sentences.csv')\n",
    "nlp = spacy.load(\"en_trf_bertbaseuncased_lg\")\n",
    "words=pd.DataFrame()\n",
    "frames=[df_wino['sentence1'],df_wino['sentence2']]\n",
    "words['full'] = pd.concat(frames)\n",
    "words.reset_index(inplace = True) \n",
    "words['casewords'] = words['full'].str.lower()\n",
    "words['wsw'] = words['casewords'].apply(lambda x: ' '.join([word for word in x.split() if word not in (stop_words)]))\n",
    "words['nopunc'] = words['wsw'].str.replace(\"'\", \"\")\n",
    "words['nopunc'] = words['nopunc'].str.replace(\".\", \"\")\n",
    "words['nopunc'] = words['nopunc'].str.replace(\",\", \"\")\n",
    "w_tokenizer = nltk.tokenize.WhitespaceTokenizer()\n",
    "lemmatizer = nltk.stem.WordNetLemmatizer()\n",
    "def lemmatize_text(text):\n",
    "    return [lemmatizer.lemmatize(w) for w in w_tokenizer.tokenize(text)]\n",
    "words['text_lemmatized'] = words.nopunc.apply(lemmatize_text)\n",
    "words['final']=\"NaN\"\n",
    "def final(x):\n",
    "    makeitastring = ' '.join(map(str, x))\n",
    "    makeitastring=makeitastring.replace(\",\",\"\")\n",
    "    makeitastring=makeitastring.replace(\"'\",\"\")\n",
    "    makeitastring=makeitastring.replace(\"[\",\"\")\n",
    "    makeitastring=makeitastring.replace(\"]\",\"\")\n",
    "    return makeitastring\n",
    "for i in tqdm(range(len(words))):    \n",
    "    column=['text_lemmatized']\n",
    "    row=[i]\n",
    "    words.loc[i,'final']=final(words.loc[i,'text_lemmatized'])\n",
    "words['fullnopunc'] = words['full'].str.replace(\"'\", \"\")\n",
    "words['fullnopunc'] = words['fullnopunc'].str.replace(\".\", \"\")\n",
    "words['fullnopunc'] = words['fullnopunc'].str.replace(\",\", \"\")\n",
    "\n",
    "words"
   ]
  },
  {
   "cell_type": "code",
   "execution_count": 10,
   "metadata": {},
   "outputs": [
    {
     "data": {
      "application/vnd.jupyter.widget-view+json": {
       "model_id": "e3a4278420f345059557eea26458d220",
       "version_major": 2,
       "version_minor": 0
      },
      "text/plain": [
       "HBox(children=(IntProgress(value=0, max=24), HTML(value='')))"
      ]
     },
     "metadata": {},
     "output_type": "display_data"
    },
    {
     "name": "stdout",
     "output_type": "stream",
     "text": [
      "\n"
     ]
    },
    {
     "data": {
      "application/vnd.jupyter.widget-view+json": {
       "model_id": "33d61a9020c74ae882ecdb549cc168a6",
       "version_major": 2,
       "version_minor": 0
      },
      "text/plain": [
       "HBox(children=(IntProgress(value=0, max=12), HTML(value='')))"
      ]
     },
     "metadata": {},
     "output_type": "display_data"
    },
    {
     "name": "stdout",
     "output_type": "stream",
     "text": [
      "woman green shirt preparing run treadmill\n",
      "woman preparing sleep treadmill\n",
      "dog catching treat\n",
      "cat catching treat\n",
      "three young men watching tennis match large screen outdoors\n",
      "three young men watching tennis match screen outdoors brother playing\n",
      "girl dressed pink shirt jean flip-flop sitting playing lollipop machine\n",
      "funny person shirt\n",
      "man green apron smile behind food stand\n",
      "man smile\n",
      "little girl hat sits woman foot sand front pair colorful tent\n",
      "girl wearing hat\n",
      "people throwing tomato other\n",
      "people food fight\n",
      "man pose photo front chinese building jumping\n",
      "man prepared photo\n",
      "older gentleman speaking podium\n",
      "man giving speech\n",
      "man pose photo front chinese building jumping\n",
      "man experience taking photo\n",
      "people waiting line food vendor\n",
      "people sit wait order nice restaurant\n",
      "number 13 kick soccer ball towards goal childrens game\n",
      "player passing ball soccer game\n",
      "\n",
      "[3, 2, 8, 1, 2, 2, 1, 2, 0, 2, 1, 3]\n"
     ]
    }
   ],
   "source": [
    "def final(x):\n",
    "    makeitastring = ' '.join(map(str, x))\n",
    "    makeitastring=makeitastring.replace(\",\",\"\")\n",
    "    makeitastring=makeitastring.replace(\"'\",\"\")\n",
    "    makeitastring=makeitastring.replace(\"[\",\"\")\n",
    "    makeitastring=makeitastring.replace(\"]\",\"\")\n",
    "    return makeitastring\n",
    "\n",
    "for i in tqdm(range(len(words))):    \n",
    "    column=['text_lemmatized']\n",
    "    row=[i]\n",
    "    words.loc[i,'final']=final(words.loc[i,'text_lemmatized'])\n",
    "\n",
    "\n",
    "arr=[]\n",
    "for i in tqdm(range(len(df))):\n",
    "    s=words.iloc[i]['final']\n",
    "    s=s.lower()\n",
    "    slist=s.split()\n",
    "    slist = list(dict.fromkeys(slist))\n",
    "    ss=words.iloc[i+12]['final']\n",
    "    sslist=ss.split()\n",
    "    sslist = list(dict.fromkeys(sslist))\n",
    "    s=final(slist)\n",
    "    ss=final(sslist)\n",
    "    slist=s.split()\n",
    "    print(s)\n",
    "    print(ss)\n",
    "    c=0\n",
    "    for j in range(len(slist)):\n",
    "         if(slist[j] in ss):\n",
    "                c=c+1\n",
    "    arr.append(c)\n",
    "\n",
    "print(arr)\n"
   ]
  },
  {
   "cell_type": "code",
   "execution_count": 11,
   "metadata": {},
   "outputs": [
    {
     "data": {
      "application/vnd.jupyter.widget-view+json": {
       "model_id": "23e4a830812947abbb1fcc7d71802ca1",
       "version_major": 2,
       "version_minor": 0
      },
      "text/plain": [
       "HBox(children=(IntProgress(value=0, max=12), HTML(value='')))"
      ]
     },
     "metadata": {},
     "output_type": "display_data"
    },
    {
     "name": "stdout",
     "output_type": "stream",
     "text": [
      "\n",
      "[3, 2, 8, 1, 2, 2, 1, 2, 0.1, 2, 1, 3]\n",
      "[2.0, 1.5, 1.125, 10.0, 3.5, 5.5, 4.0, 3.5, 40.0, 3.5, 5.0, 3.0]\n",
      "[1.3333333333333333, 1.5, 1.25, 3.0, 1.0, 1.5, 3.0, 1.5, 30.0, 2.0, 6.0, 1.6666666666666667]\n",
      "[3.3333333333333335, 3.0, 2.375, 13.0, 4.5, 7.0, 7.0, 5.0, 70.0, 5.5, 11.0, 4.666666666666667]\n"
     ]
    }
   ],
   "source": [
    "def final(x):\n",
    "    makeitastring = ' '.join(map(str, x))\n",
    "    makeitastring=makeitastring.replace(\",\",\"\")\n",
    "    makeitastring=makeitastring.replace(\"'\",\"\")\n",
    "    makeitastring=makeitastring.replace(\"[\",\"\")\n",
    "    makeitastring=makeitastring.replace(\"]\",\"\")\n",
    "    return makeitastring\n",
    "\n",
    "\n",
    "\n",
    "arr=[]\n",
    "arr1=[]\n",
    "arr2=[]\n",
    "arr3=[]\n",
    "for i in tqdm(range(len(df))):\n",
    "    s=words.iloc[i]['final']\n",
    "    s=s.lower()\n",
    "    slist=s.split()\n",
    "    sxlist = list(dict.fromkeys(slist))\n",
    "    ss=words.iloc[i+12]['final']\n",
    "    sslist=ss.split()\n",
    "    ssxlist = list(dict.fromkeys(sslist))\n",
    "    sx=final(sxlist)\n",
    "    ssx=final(ssxlist)\n",
    "    sxlist=sx.split()\n",
    "    hl=len(sxlist)\n",
    "    pl=len(ssxlist)\n",
    "    c=0\n",
    "    for j in range(len(sxlist)):\n",
    "         if(sxlist[j] in ssx):\n",
    "                c=c+1\n",
    "    if(c==0):\n",
    "        c=c+0.1\n",
    "    arr.append(c)\n",
    "    arr1.append(hl/c)\n",
    "    arr2.append(pl/c)\n",
    "    arr3.append((hl+pl)/c)\n",
    "\n",
    "print(arr)\n",
    "print(arr1)\n",
    "print(arr2)\n",
    "print(arr3)\n",
    "\n",
    "\n",
    "\n",
    "\n"
   ]
  },
  {
   "cell_type": "code",
   "execution_count": 12,
   "metadata": {},
   "outputs": [
    {
     "name": "stdout",
     "output_type": "stream",
     "text": [
      "[3, 2, 8, 1, 2, 2]\n",
      "3.0\n",
      "[1, 2, 0.1, 2, 1, 3]\n",
      "1.5166666666666666\n"
     ]
    }
   ],
   "source": [
    "fcount = arr[:6]\n",
    "lcount= arr[6:]\n",
    "print(fcount)\n",
    "print(pd.Series(fcount).mean())\n",
    "print(lcount)\n",
    "print(pd.Series(lcount).mean())"
   ]
  },
  {
   "cell_type": "code",
   "execution_count": 13,
   "metadata": {},
   "outputs": [
    {
     "name": "stdout",
     "output_type": "stream",
     "text": [
      "[2.0, 1.5, 1.125, 10.0, 3.5, 5.5]\n",
      "3.9375\n",
      "[4.0, 3.5, 40.0, 3.5, 5.0, 3.0]\n",
      "9.833333333333334\n"
     ]
    }
   ],
   "source": [
    "fcount = arr1[:6]\n",
    "lcount= arr1[6:]\n",
    "print(fcount)\n",
    "print(pd.Series(fcount).mean())\n",
    "print(lcount)\n",
    "print(pd.Series(lcount).mean())"
   ]
  },
  {
   "cell_type": "code",
   "execution_count": 14,
   "metadata": {},
   "outputs": [
    {
     "name": "stdout",
     "output_type": "stream",
     "text": [
      "[1.3333333333333333, 1.5, 1.25, 3.0, 1.0, 1.5]\n",
      "1.597222222222222\n",
      "[3.0, 1.5, 30.0, 2.0, 6.0, 1.6666666666666667]\n",
      "7.361111111111111\n"
     ]
    }
   ],
   "source": [
    "fcount = arr2[:6]\n",
    "lcount= arr2[6:]\n",
    "print(fcount)\n",
    "print(pd.Series(fcount).mean())\n",
    "print(lcount)\n",
    "print(pd.Series(lcount).mean())"
   ]
  },
  {
   "cell_type": "code",
   "execution_count": 15,
   "metadata": {},
   "outputs": [
    {
     "name": "stdout",
     "output_type": "stream",
     "text": [
      "[3.3333333333333335, 3.0, 2.375, 13.0, 4.5, 7.0]\n",
      "5.534722222222222\n",
      "[7.0, 5.0, 70.0, 5.5, 11.0, 4.666666666666667]\n",
      "17.194444444444446\n"
     ]
    }
   ],
   "source": [
    "fcount = arr3[:6]\n",
    "lcount= arr3[6:]\n",
    "print(fcount)\n",
    "print(pd.Series(fcount).mean())\n",
    "print(lcount)\n",
    "print(pd.Series(lcount).mean())"
   ]
  },
  {
   "cell_type": "code",
   "execution_count": 16,
   "metadata": {
    "scrolled": false
   },
   "outputs": [
    {
     "data": {
      "application/vnd.jupyter.widget-view+json": {
       "model_id": "32a330746eda4259a08939b4a7af198a",
       "version_major": 2,
       "version_minor": 0
      },
      "text/plain": [
       "HBox(children=(IntProgress(value=0, max=6), HTML(value='')))"
      ]
     },
     "metadata": {},
     "output_type": "display_data"
    },
    {
     "name": "stdout",
     "output_type": "stream",
     "text": [
      "A woman is preparing to sleep on a treadmill\n",
      "a woman in green shirt preparing to run on treadmill\n"
     ]
    },
    {
     "data": {
      "application/vnd.jupyter.widget-view+json": {
       "model_id": "593a5f4b023844a4bcde297788344818",
       "version_major": 2,
       "version_minor": 0
      },
      "text/plain": [
       "HBox(children=(IntProgress(value=0, max=10), HTML(value='')))"
      ]
     },
     "metadata": {},
     "output_type": "display_data"
    },
    {
     "name": "stdout",
     "output_type": "stream",
     "text": [
      "\n",
      "the cat is not catching a treat\n",
      "the dog is catching a treat\n"
     ]
    },
    {
     "data": {
      "application/vnd.jupyter.widget-view+json": {
       "model_id": "4e32847587194e4b931f852c97f12b78",
       "version_major": 2,
       "version_minor": 0
      },
      "text/plain": [
       "HBox(children=(IntProgress(value=0, max=6), HTML(value='')))"
      ]
     },
     "metadata": {},
     "output_type": "display_data"
    },
    {
     "name": "stdout",
     "output_type": "stream",
     "text": [
      "\n",
      "Three young men watching a tennis match on screen outdoors because their brother is playing\n",
      "three young men are watching a tennis match on large screen outdoors\n"
     ]
    },
    {
     "data": {
      "application/vnd.jupyter.widget-view+json": {
       "model_id": "89956db329a147588c2a1f3b75e6d035",
       "version_major": 2,
       "version_minor": 0
      },
      "text/plain": [
       "HBox(children=(IntProgress(value=0, max=12), HTML(value='')))"
      ]
     },
     "metadata": {},
     "output_type": "display_data"
    },
    {
     "name": "stdout",
     "output_type": "stream",
     "text": [
      "\n",
      "A funny person in a shirt\n",
      "a girl dressed in pink shirt jeans and flip-flops sitting down playing with lollipop machine\n"
     ]
    },
    {
     "data": {
      "application/vnd.jupyter.widget-view+json": {
       "model_id": "6ad9d28842534774b74db55e9f883cfe",
       "version_major": 2,
       "version_minor": 0
      },
      "text/plain": [
       "HBox(children=(IntProgress(value=0, max=15), HTML(value='')))"
      ]
     },
     "metadata": {},
     "output_type": "display_data"
    },
    {
     "name": "stdout",
     "output_type": "stream",
     "text": [
      "\n",
      "A man smiles\n",
      "a man in green apron smiles behind food stand\n"
     ]
    },
    {
     "data": {
      "application/vnd.jupyter.widget-view+json": {
       "model_id": "a23eec722eff4c29a262f7470a22958b",
       "version_major": 2,
       "version_minor": 0
      },
      "text/plain": [
       "HBox(children=(IntProgress(value=0, max=9), HTML(value='')))"
      ]
     },
     "metadata": {},
     "output_type": "display_data"
    },
    {
     "name": "stdout",
     "output_type": "stream",
     "text": [
      "\n",
      "The girl is wearing a hat\n",
      "a little girl with hat sits between womans feet in the sand front of pair colorful tents\n"
     ]
    },
    {
     "data": {
      "application/vnd.jupyter.widget-view+json": {
       "model_id": "eb7cd9e2d82b474cae34a82ae69166b4",
       "version_major": 2,
       "version_minor": 0
      },
      "text/plain": [
       "HBox(children=(IntProgress(value=0, max=17), HTML(value='')))"
      ]
     },
     "metadata": {},
     "output_type": "display_data"
    },
    {
     "name": "stdout",
     "output_type": "stream",
     "text": [
      "\n",
      "\n"
     ]
    }
   ],
   "source": [
    "def final(x):\n",
    "    makeitastring = ' '.join(map(str, x))\n",
    "    makeitastring=makeitastring.replace(\",\",\"\")\n",
    "    makeitastring=makeitastring.replace(\"'\",\"\")\n",
    "    makeitastring=makeitastring.replace(\"[\",\"\")\n",
    "    makeitastring=makeitastring.replace(\"]\",\"\")\n",
    "    return makeitastring\n",
    "\n",
    "\n",
    "\n",
    "arr1=[]\n",
    "for i in tqdm(range(6)):\n",
    "    s=words.iloc[i]['fullnopunc']\n",
    "    s=s.lower()\n",
    "    slist=s.split()\n",
    "    sxlist = list(dict.fromkeys(slist))\n",
    "    ss=words.iloc[i+12]['fullnopunc']\n",
    "    sslist=ss.split()\n",
    "    ssxlist = list(dict.fromkeys(sslist))\n",
    "    sx=final(sxlist)\n",
    "    ssx=final(ssxlist)\n",
    "    sxlist=sx.split()\n",
    "    hl=len(sxlist)\n",
    "    pl=len(ssxlist)\n",
    "    print(ssx)\n",
    "    print(sx)\n",
    "    c=0\n",
    "    for j in tqdm(range(len(sxlist))):\n",
    "        arr=[]\n",
    "        for k in range(len(ssxlist)):\n",
    "            arr.append(nlp(sxlist[j]).similarity(nlp(ssxlist[k])))\n",
    "        arr1.append(pd.Series(arr).max())\n",
    "\n",
    "\n",
    "\n",
    "\n",
    "\n"
   ]
  },
  {
   "cell_type": "code",
   "execution_count": 17,
   "metadata": {},
   "outputs": [
    {
     "data": {
      "text/plain": [
       "69"
      ]
     },
     "execution_count": 17,
     "metadata": {},
     "output_type": "execute_result"
    }
   ],
   "source": [
    "len(arr1)"
   ]
  },
  {
   "cell_type": "code",
   "execution_count": 18,
   "metadata": {},
   "outputs": [
    {
     "name": "stdout",
     "output_type": "stream",
     "text": [
      "6\n",
      "3\n",
      "9\n",
      "10\n",
      "7\n",
      "34\n"
     ]
    }
   ],
   "source": [
    "s1=arr1[:6]\n",
    "s2=arr1[6:9]\n",
    "s3=arr1[9:18]\n",
    "s4=arr1[18:28]\n",
    "s5=arr1[28:35]\n",
    "s6=arr1[35:]\n",
    "print(len(s1))\n",
    "print(len(s2))\n",
    "print(len(s3))\n",
    "print(len(s4))\n",
    "print(len(s5))\n",
    "print(len(s6))\n",
    "\n"
   ]
  },
  {
   "cell_type": "code",
   "execution_count": 19,
   "metadata": {},
   "outputs": [
    {
     "name": "stdout",
     "output_type": "stream",
     "text": [
      "5.475317951563026\n",
      "2.7865678392603814\n",
      "8.900851224481983\n",
      "9.871537398759761\n",
      "6.520272632857348\n",
      "29.03587710788107\n"
     ]
    },
    {
     "data": {
      "text/plain": [
       "10.431737359133928"
      ]
     },
     "execution_count": 19,
     "metadata": {},
     "output_type": "execute_result"
    }
   ],
   "source": [
    "print(pd.Series(s1).sum())\n",
    "print(pd.Series(s2).sum())\n",
    "print(pd.Series(s3).sum())\n",
    "print(pd.Series(s4).sum())\n",
    "print(pd.Series(s5).sum())\n",
    "print(pd.Series(s6).sum())\n",
    "\n",
    "pd.Series(arr1).sum()/6"
   ]
  },
  {
   "cell_type": "code",
   "execution_count": 241,
   "metadata": {},
   "outputs": [
    {
     "data": {
      "application/vnd.jupyter.widget-view+json": {
       "model_id": "21de3b3199d14f1994907a080c20b69b",
       "version_major": 2,
       "version_minor": 0
      },
      "text/plain": [
       "HBox(children=(IntProgress(value=0, max=6), HTML(value='')))"
      ]
     },
     "metadata": {},
     "output_type": "display_data"
    },
    {
     "name": "stdout",
     "output_type": "stream",
     "text": [
      "people are throwing tomatoes at each other\n",
      "The people are having a food fight\n"
     ]
    },
    {
     "data": {
      "application/vnd.jupyter.widget-view+json": {
       "model_id": "158c57ba64324ed58462af9e419c122a",
       "version_major": 2,
       "version_minor": 0
      },
      "text/plain": [
       "HBox(children=(IntProgress(value=0, max=7), HTML(value='')))"
      ]
     },
     "metadata": {},
     "output_type": "display_data"
    },
    {
     "name": "stdout",
     "output_type": "stream",
     "text": [
      "\n",
      "a man poses for photo in front of chinese building by jumping\n",
      "The man is prepared for his photo\n"
     ]
    },
    {
     "data": {
      "application/vnd.jupyter.widget-view+json": {
       "model_id": "cb62fdff9e2c4e4b8310e499c091c165",
       "version_major": 2,
       "version_minor": 0
      },
      "text/plain": [
       "HBox(children=(IntProgress(value=0, max=12), HTML(value='')))"
      ]
     },
     "metadata": {},
     "output_type": "display_data"
    },
    {
     "name": "stdout",
     "output_type": "stream",
     "text": [
      "\n",
      "an older gentleman speaking at a podium\n",
      "A man giving a speech\n"
     ]
    },
    {
     "data": {
      "application/vnd.jupyter.widget-view+json": {
       "model_id": "f49be7a51650476ea03a27c5eb7df361",
       "version_major": 2,
       "version_minor": 0
      },
      "text/plain": [
       "HBox(children=(IntProgress(value=0, max=7), HTML(value='')))"
      ]
     },
     "metadata": {},
     "output_type": "display_data"
    },
    {
     "name": "stdout",
     "output_type": "stream",
     "text": [
      "\n",
      "a man poses for photo in front of chinese building by jumping\n",
      "The man has experience in taking photos\n"
     ]
    },
    {
     "data": {
      "application/vnd.jupyter.widget-view+json": {
       "model_id": "ed9bca93f9284267a5989c1b6c5495d8",
       "version_major": 2,
       "version_minor": 0
      },
      "text/plain": [
       "HBox(children=(IntProgress(value=0, max=12), HTML(value='')))"
      ]
     },
     "metadata": {},
     "output_type": "display_data"
    },
    {
     "name": "stdout",
     "output_type": "stream",
     "text": [
      "\n",
      "people are waiting in line by a food vendor\n",
      "People sit and wait for their orders at a nice down restaurant\n"
     ]
    },
    {
     "data": {
      "application/vnd.jupyter.widget-view+json": {
       "model_id": "8321f02b221a44ccbbf0e37018b15658",
       "version_major": 2,
       "version_minor": 0
      },
      "text/plain": [
       "HBox(children=(IntProgress(value=0, max=9), HTML(value='')))"
      ]
     },
     "metadata": {},
     "output_type": "display_data"
    },
    {
     "name": "stdout",
     "output_type": "stream",
     "text": [
      "\n",
      "number 13 kicks a soccer ball towards the goal during childrens game\n",
      "A player passing the ball in a soccer game\n"
     ]
    },
    {
     "data": {
      "application/vnd.jupyter.widget-view+json": {
       "model_id": "64b31daad120421eb603043163a6cd35",
       "version_major": 2,
       "version_minor": 0
      },
      "text/plain": [
       "HBox(children=(IntProgress(value=0, max=12), HTML(value='')))"
      ]
     },
     "metadata": {},
     "output_type": "display_data"
    },
    {
     "name": "stdout",
     "output_type": "stream",
     "text": [
      "\n",
      "\n"
     ]
    }
   ],
   "source": [
    "def final(x):\n",
    "    makeitastring = ' '.join(map(str, x))\n",
    "    makeitastring=makeitastring.replace(\",\",\"\")\n",
    "    makeitastring=makeitastring.replace(\"'\",\"\")\n",
    "    makeitastring=makeitastring.replace(\"[\",\"\")\n",
    "    makeitastring=makeitastring.replace(\"]\",\"\")\n",
    "    return makeitastring\n",
    "\n",
    "\n",
    "\n",
    "arr1=[]\n",
    "for i in tqdm(range(6,12)):\n",
    "    s=words.iloc[i]['fullnopunc']\n",
    "    s=s.lower()\n",
    "    slist=s.split()\n",
    "    sxlist = list(dict.fromkeys(slist))\n",
    "    ss=words.iloc[i+12]['fullnopunc']\n",
    "    sslist=ss.split()\n",
    "    ssxlist = list(dict.fromkeys(sslist))\n",
    "    sx=final(sxlist)\n",
    "    ssx=final(ssxlist)\n",
    "    sxlist=sx.split()\n",
    "    hl=len(sxlist)\n",
    "    pl=len(ssxlist)\n",
    "    print(sx)\n",
    "    print(ssx)\n",
    "    c=0\n",
    "    for j in tqdm(range(len(sxlist))):\n",
    "        arr=[]\n",
    "        for k in range(len(ssxlist)):\n",
    "            arr.append(nlp(sxlist[j]).similarity(nlp(ssxlist[k])))\n",
    "        arr1.append(pd.Series(arr).max())\n",
    "\n",
    "\n",
    "\n",
    "\n",
    "\n",
    "\n"
   ]
  },
  {
   "cell_type": "code",
   "execution_count": 242,
   "metadata": {},
   "outputs": [
    {
     "data": {
      "text/plain": [
       "59"
      ]
     },
     "execution_count": 242,
     "metadata": {},
     "output_type": "execute_result"
    }
   ],
   "source": [
    "len(arr1)"
   ]
  },
  {
   "cell_type": "code",
   "execution_count": 243,
   "metadata": {},
   "outputs": [
    {
     "name": "stdout",
     "output_type": "stream",
     "text": [
      "4\n",
      "7\n",
      "4\n",
      "7\n",
      "5\n",
      "32\n"
     ]
    }
   ],
   "source": [
    "s1=arr1[:4]\n",
    "s2=arr1[4:11]\n",
    "s3=arr1[11:15]\n",
    "s4=arr1[15:22]\n",
    "s5=arr1[22:27]\n",
    "s6=arr1[27:]\n",
    "print(len(s1))\n",
    "print(len(s2))\n",
    "print(len(s3))\n",
    "print(len(s4))\n",
    "print(len(s5))\n",
    "print(len(s6))\n",
    "\n",
    "\n"
   ]
  },
  {
   "cell_type": "code",
   "execution_count": 244,
   "metadata": {},
   "outputs": [
    {
     "name": "stdout",
     "output_type": "stream",
     "text": [
      "3.6143740579938752\n",
      "6.533509352985964\n",
      "3.6679523270315877\n",
      "6.058359412793398\n",
      "4.355809793918845\n",
      "28.580663467190597\n"
     ]
    },
    {
     "data": {
      "text/plain": [
       "8.801778068652379"
      ]
     },
     "execution_count": 244,
     "metadata": {},
     "output_type": "execute_result"
    }
   ],
   "source": [
    "print(pd.Series(s1).sum())\n",
    "print(pd.Series(s2).sum())\n",
    "print(pd.Series(s3).sum())\n",
    "print(pd.Series(s4).sum())\n",
    "print(pd.Series(s5).sum())\n",
    "print(pd.Series(s6).sum())\n",
    "\n",
    "pd.Series(arr1).sum()/6"
   ]
  },
  {
   "cell_type": "code",
   "execution_count": 20,
   "metadata": {},
   "outputs": [
    {
     "data": {
      "text/plain": [
       "0             woman green shirt preparing run treadmill\n",
       "1                                    dog catching treat\n",
       "2     three young men watching tennis match large sc...\n",
       "3     girl dressed pink shirt jean flip-flop sitting...\n",
       "4               man green apron smile behind food stand\n",
       "5     little girl hat sits woman foot sand front pai...\n",
       "6                          people throwing tomato other\n",
       "7         man pose photo front chinese building jumping\n",
       "8                       older gentleman speaking podium\n",
       "9         man pose photo front chinese building jumping\n",
       "10                      people waiting line food vendor\n",
       "11    number 13 kick soccer ball towards goal childr...\n",
       "12                      woman preparing sleep treadmill\n",
       "13                                   cat catching treat\n",
       "14    three young men watching tennis match screen o...\n",
       "15                                   funny person shirt\n",
       "16                                            man smile\n",
       "17                                     girl wearing hat\n",
       "18                                    people food fight\n",
       "19                                   man prepared photo\n",
       "20                                    man giving speech\n",
       "21                          man experience taking photo\n",
       "22            people sit wait order nice sit restaurant\n",
       "23                      player passing ball soccer game\n",
       "Name: final, dtype: object"
      ]
     },
     "execution_count": 20,
     "metadata": {},
     "output_type": "execute_result"
    }
   ],
   "source": []
  },
  {
   "cell_type": "code",
   "execution_count": null,
   "metadata": {},
   "outputs": [],
   "source": []
  }
 ],
 "metadata": {
  "kernelspec": {
   "display_name": "Python 3",
   "language": "python",
   "name": "python3"
  },
  "language_info": {
   "codemirror_mode": {
    "name": "ipython",
    "version": 3
   },
   "file_extension": ".py",
   "mimetype": "text/x-python",
   "name": "python",
   "nbconvert_exporter": "python",
   "pygments_lexer": "ipython3",
   "version": "3.8.8"
  }
 },
 "nbformat": 4,
 "nbformat_minor": 2
}
