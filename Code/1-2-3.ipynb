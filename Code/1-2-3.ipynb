{
 "cells": [
  {
   "cell_type": "code",
   "execution_count": 1,
   "metadata": {},
   "outputs": [
    {
     "name": "stderr",
     "output_type": "stream",
     "text": [
      "[nltk_data] Downloading package averaged_perceptron_tagger to\n",
      "[nltk_data]     /Users/aarunku5/nltk_data...\n",
      "[nltk_data]   Package averaged_perceptron_tagger is already up-to-\n",
      "[nltk_data]       date!\n"
     ]
    },
    {
     "name": "stdout",
     "output_type": "stream",
     "text": [
      "Requirement already satisfied: spacy-transformers in /Users/aarunku5/opt/anaconda3/lib/python3.8/site-packages (1.0.4)\n",
      "Requirement already satisfied: spacy-alignments<1.0.0,>=0.7.2 in /Users/aarunku5/opt/anaconda3/lib/python3.8/site-packages (from spacy-transformers) (0.8.3)\n",
      "Requirement already satisfied: srsly<3.0.0,>=2.4.0 in /Users/aarunku5/opt/anaconda3/lib/python3.8/site-packages (from spacy-transformers) (2.4.1)\n",
      "Requirement already satisfied: spacy<4.0.0,>=3.0.0 in /Users/aarunku5/opt/anaconda3/lib/python3.8/site-packages (from spacy-transformers) (3.1.2)\n",
      "Requirement already satisfied: torch>=1.5.0 in /Users/aarunku5/opt/anaconda3/lib/python3.8/site-packages (from spacy-transformers) (1.9.0)\n",
      "Requirement already satisfied: transformers<4.10.0,>=3.4.0 in /Users/aarunku5/opt/anaconda3/lib/python3.8/site-packages (from spacy-transformers) (4.9.2)\n",
      "Requirement already satisfied: jinja2 in /Users/aarunku5/opt/anaconda3/lib/python3.8/site-packages (from spacy<4.0.0,>=3.0.0->spacy-transformers) (2.11.3)\n",
      "Requirement already satisfied: catalogue<2.1.0,>=2.0.4 in /Users/aarunku5/opt/anaconda3/lib/python3.8/site-packages (from spacy<4.0.0,>=3.0.0->spacy-transformers) (2.0.5)\n",
      "Requirement already satisfied: thinc<8.1.0,>=8.0.8 in /Users/aarunku5/opt/anaconda3/lib/python3.8/site-packages (from spacy<4.0.0,>=3.0.0->spacy-transformers) (8.0.8)\n",
      "Requirement already satisfied: tqdm<5.0.0,>=4.38.0 in /Users/aarunku5/opt/anaconda3/lib/python3.8/site-packages (from spacy<4.0.0,>=3.0.0->spacy-transformers) (4.59.0)\n",
      "Requirement already satisfied: requests<3.0.0,>=2.13.0 in /Users/aarunku5/opt/anaconda3/lib/python3.8/site-packages (from spacy<4.0.0,>=3.0.0->spacy-transformers) (2.25.1)\n",
      "Requirement already satisfied: packaging>=20.0 in /Users/aarunku5/opt/anaconda3/lib/python3.8/site-packages (from spacy<4.0.0,>=3.0.0->spacy-transformers) (20.9)\n",
      "Requirement already satisfied: cymem<2.1.0,>=2.0.2 in /Users/aarunku5/opt/anaconda3/lib/python3.8/site-packages (from spacy<4.0.0,>=3.0.0->spacy-transformers) (2.0.5)\n",
      "Requirement already satisfied: typer<0.4.0,>=0.3.0 in /Users/aarunku5/opt/anaconda3/lib/python3.8/site-packages (from spacy<4.0.0,>=3.0.0->spacy-transformers) (0.3.2)\n",
      "Requirement already satisfied: blis<0.8.0,>=0.4.0 in /Users/aarunku5/opt/anaconda3/lib/python3.8/site-packages (from spacy<4.0.0,>=3.0.0->spacy-transformers) (0.7.4)\n",
      "Requirement already satisfied: spacy-legacy<3.1.0,>=3.0.7 in /Users/aarunku5/opt/anaconda3/lib/python3.8/site-packages (from spacy<4.0.0,>=3.0.0->spacy-transformers) (3.0.8)\n",
      "Requirement already satisfied: pathy>=0.3.5 in /Users/aarunku5/opt/anaconda3/lib/python3.8/site-packages (from spacy<4.0.0,>=3.0.0->spacy-transformers) (0.6.0)\n",
      "Requirement already satisfied: murmurhash<1.1.0,>=0.28.0 in /Users/aarunku5/opt/anaconda3/lib/python3.8/site-packages (from spacy<4.0.0,>=3.0.0->spacy-transformers) (1.0.5)\n",
      "Requirement already satisfied: numpy>=1.15.0 in /Users/aarunku5/opt/anaconda3/lib/python3.8/site-packages (from spacy<4.0.0,>=3.0.0->spacy-transformers) (1.20.1)\n",
      "Requirement already satisfied: setuptools in /Users/aarunku5/opt/anaconda3/lib/python3.8/site-packages (from spacy<4.0.0,>=3.0.0->spacy-transformers) (52.0.0.post20210125)\n",
      "Requirement already satisfied: preshed<3.1.0,>=3.0.2 in /Users/aarunku5/opt/anaconda3/lib/python3.8/site-packages (from spacy<4.0.0,>=3.0.0->spacy-transformers) (3.0.5)\n",
      "Requirement already satisfied: pydantic!=1.8,!=1.8.1,<1.9.0,>=1.7.4 in /Users/aarunku5/opt/anaconda3/lib/python3.8/site-packages (from spacy<4.0.0,>=3.0.0->spacy-transformers) (1.8.2)\n",
      "Requirement already satisfied: wasabi<1.1.0,>=0.8.1 in /Users/aarunku5/opt/anaconda3/lib/python3.8/site-packages (from spacy<4.0.0,>=3.0.0->spacy-transformers) (0.8.2)\n",
      "Requirement already satisfied: typing_extensions in /Users/aarunku5/opt/anaconda3/lib/python3.8/site-packages (from torch>=1.5.0->spacy-transformers) (3.7.4.3)\n",
      "Requirement already satisfied: tokenizers<0.11,>=0.10.1 in /Users/aarunku5/opt/anaconda3/lib/python3.8/site-packages (from transformers<4.10.0,>=3.4.0->spacy-transformers) (0.10.3)\n",
      "Requirement already satisfied: filelock in /Users/aarunku5/opt/anaconda3/lib/python3.8/site-packages (from transformers<4.10.0,>=3.4.0->spacy-transformers) (3.0.12)\n",
      "Requirement already satisfied: huggingface-hub==0.0.12 in /Users/aarunku5/opt/anaconda3/lib/python3.8/site-packages (from transformers<4.10.0,>=3.4.0->spacy-transformers) (0.0.12)\n",
      "Requirement already satisfied: sacremoses in /Users/aarunku5/opt/anaconda3/lib/python3.8/site-packages (from transformers<4.10.0,>=3.4.0->spacy-transformers) (0.0.45)\n",
      "Requirement already satisfied: regex!=2019.12.17 in /Users/aarunku5/opt/anaconda3/lib/python3.8/site-packages (from transformers<4.10.0,>=3.4.0->spacy-transformers) (2021.4.4)\n",
      "Requirement already satisfied: pyyaml>=5.1 in /Users/aarunku5/opt/anaconda3/lib/python3.8/site-packages (from transformers<4.10.0,>=3.4.0->spacy-transformers) (5.4.1)\n",
      "Requirement already satisfied: pyparsing>=2.0.2 in /Users/aarunku5/opt/anaconda3/lib/python3.8/site-packages (from packaging>=20.0->spacy<4.0.0,>=3.0.0->spacy-transformers) (2.4.7)\n",
      "Requirement already satisfied: smart-open<6.0.0,>=5.0.0 in /Users/aarunku5/opt/anaconda3/lib/python3.8/site-packages (from pathy>=0.3.5->spacy<4.0.0,>=3.0.0->spacy-transformers) (5.2.0)\n",
      "Requirement already satisfied: certifi>=2017.4.17 in /Users/aarunku5/opt/anaconda3/lib/python3.8/site-packages (from requests<3.0.0,>=2.13.0->spacy<4.0.0,>=3.0.0->spacy-transformers) (2020.12.5)\n",
      "Requirement already satisfied: idna<3,>=2.5 in /Users/aarunku5/opt/anaconda3/lib/python3.8/site-packages (from requests<3.0.0,>=2.13.0->spacy<4.0.0,>=3.0.0->spacy-transformers) (2.10)\n",
      "Requirement already satisfied: chardet<5,>=3.0.2 in /Users/aarunku5/opt/anaconda3/lib/python3.8/site-packages (from requests<3.0.0,>=2.13.0->spacy<4.0.0,>=3.0.0->spacy-transformers) (4.0.0)\n",
      "Requirement already satisfied: urllib3<1.27,>=1.21.1 in /Users/aarunku5/opt/anaconda3/lib/python3.8/site-packages (from requests<3.0.0,>=2.13.0->spacy<4.0.0,>=3.0.0->spacy-transformers) (1.26.4)\n",
      "Requirement already satisfied: click<7.2.0,>=7.1.1 in /Users/aarunku5/opt/anaconda3/lib/python3.8/site-packages (from typer<0.4.0,>=0.3.0->spacy<4.0.0,>=3.0.0->spacy-transformers) (7.1.2)\n",
      "Requirement already satisfied: MarkupSafe>=0.23 in /Users/aarunku5/opt/anaconda3/lib/python3.8/site-packages (from jinja2->spacy<4.0.0,>=3.0.0->spacy-transformers) (1.1.1)\n",
      "Requirement already satisfied: joblib in /Users/aarunku5/opt/anaconda3/lib/python3.8/site-packages (from sacremoses->transformers<4.10.0,>=3.4.0->spacy-transformers) (1.0.1)\n",
      "Requirement already satisfied: six in /Users/aarunku5/opt/anaconda3/lib/python3.8/site-packages (from sacremoses->transformers<4.10.0,>=3.4.0->spacy-transformers) (1.15.0)\n",
      "Collecting en-core-web-trf==3.1.0\n",
      "  Downloading https://github.com/explosion/spacy-models/releases/download/en_core_web_trf-3.1.0/en_core_web_trf-3.1.0-py3-none-any.whl (460.2 MB)\n",
      "     |████████████████████████████████| 460.2 MB 24 kB/s              \n",
      "\u001b[?25hRequirement already satisfied: spacy<3.2.0,>=3.1.0 in /Users/aarunku5/opt/anaconda3/lib/python3.8/site-packages (from en-core-web-trf==3.1.0) (3.1.2)\n",
      "Requirement already satisfied: spacy-transformers<1.1.0,>=1.0.3 in /Users/aarunku5/opt/anaconda3/lib/python3.8/site-packages (from en-core-web-trf==3.1.0) (1.0.4)\n",
      "Requirement already satisfied: setuptools in /Users/aarunku5/opt/anaconda3/lib/python3.8/site-packages (from spacy<3.2.0,>=3.1.0->en-core-web-trf==3.1.0) (52.0.0.post20210125)\n",
      "Requirement already satisfied: wasabi<1.1.0,>=0.8.1 in /Users/aarunku5/opt/anaconda3/lib/python3.8/site-packages (from spacy<3.2.0,>=3.1.0->en-core-web-trf==3.1.0) (0.8.2)\n",
      "Requirement already satisfied: spacy-legacy<3.1.0,>=3.0.7 in /Users/aarunku5/opt/anaconda3/lib/python3.8/site-packages (from spacy<3.2.0,>=3.1.0->en-core-web-trf==3.1.0) (3.0.8)\n",
      "Requirement already satisfied: pathy>=0.3.5 in /Users/aarunku5/opt/anaconda3/lib/python3.8/site-packages (from spacy<3.2.0,>=3.1.0->en-core-web-trf==3.1.0) (0.6.0)\n",
      "Requirement already satisfied: tqdm<5.0.0,>=4.38.0 in /Users/aarunku5/opt/anaconda3/lib/python3.8/site-packages (from spacy<3.2.0,>=3.1.0->en-core-web-trf==3.1.0) (4.59.0)\n",
      "Requirement already satisfied: requests<3.0.0,>=2.13.0 in /Users/aarunku5/opt/anaconda3/lib/python3.8/site-packages (from spacy<3.2.0,>=3.1.0->en-core-web-trf==3.1.0) (2.25.1)\n",
      "Requirement already satisfied: preshed<3.1.0,>=3.0.2 in /Users/aarunku5/opt/anaconda3/lib/python3.8/site-packages (from spacy<3.2.0,>=3.1.0->en-core-web-trf==3.1.0) (3.0.5)\n",
      "Requirement already satisfied: typer<0.4.0,>=0.3.0 in /Users/aarunku5/opt/anaconda3/lib/python3.8/site-packages (from spacy<3.2.0,>=3.1.0->en-core-web-trf==3.1.0) (0.3.2)\n",
      "Requirement already satisfied: srsly<3.0.0,>=2.4.1 in /Users/aarunku5/opt/anaconda3/lib/python3.8/site-packages (from spacy<3.2.0,>=3.1.0->en-core-web-trf==3.1.0) (2.4.1)\n",
      "Requirement already satisfied: thinc<8.1.0,>=8.0.8 in /Users/aarunku5/opt/anaconda3/lib/python3.8/site-packages (from spacy<3.2.0,>=3.1.0->en-core-web-trf==3.1.0) (8.0.8)\n",
      "Requirement already satisfied: numpy>=1.15.0 in /Users/aarunku5/opt/anaconda3/lib/python3.8/site-packages (from spacy<3.2.0,>=3.1.0->en-core-web-trf==3.1.0) (1.20.1)\n",
      "Requirement already satisfied: catalogue<2.1.0,>=2.0.4 in /Users/aarunku5/opt/anaconda3/lib/python3.8/site-packages (from spacy<3.2.0,>=3.1.0->en-core-web-trf==3.1.0) (2.0.5)\n",
      "Requirement already satisfied: blis<0.8.0,>=0.4.0 in /Users/aarunku5/opt/anaconda3/lib/python3.8/site-packages (from spacy<3.2.0,>=3.1.0->en-core-web-trf==3.1.0) (0.7.4)\n",
      "Requirement already satisfied: cymem<2.1.0,>=2.0.2 in /Users/aarunku5/opt/anaconda3/lib/python3.8/site-packages (from spacy<3.2.0,>=3.1.0->en-core-web-trf==3.1.0) (2.0.5)\n",
      "Requirement already satisfied: packaging>=20.0 in /Users/aarunku5/opt/anaconda3/lib/python3.8/site-packages (from spacy<3.2.0,>=3.1.0->en-core-web-trf==3.1.0) (20.9)\n",
      "Requirement already satisfied: jinja2 in /Users/aarunku5/opt/anaconda3/lib/python3.8/site-packages (from spacy<3.2.0,>=3.1.0->en-core-web-trf==3.1.0) (2.11.3)\n",
      "Requirement already satisfied: murmurhash<1.1.0,>=0.28.0 in /Users/aarunku5/opt/anaconda3/lib/python3.8/site-packages (from spacy<3.2.0,>=3.1.0->en-core-web-trf==3.1.0) (1.0.5)\n",
      "Requirement already satisfied: pydantic!=1.8,!=1.8.1,<1.9.0,>=1.7.4 in /Users/aarunku5/opt/anaconda3/lib/python3.8/site-packages (from spacy<3.2.0,>=3.1.0->en-core-web-trf==3.1.0) (1.8.2)\n"
     ]
    },
    {
     "name": "stdout",
     "output_type": "stream",
     "text": [
      "Requirement already satisfied: spacy-alignments<1.0.0,>=0.7.2 in /Users/aarunku5/opt/anaconda3/lib/python3.8/site-packages (from spacy-transformers<1.1.0,>=1.0.3->en-core-web-trf==3.1.0) (0.8.3)\n",
      "Requirement already satisfied: torch>=1.5.0 in /Users/aarunku5/opt/anaconda3/lib/python3.8/site-packages (from spacy-transformers<1.1.0,>=1.0.3->en-core-web-trf==3.1.0) (1.9.0)\n",
      "Requirement already satisfied: transformers<4.10.0,>=3.4.0 in /Users/aarunku5/opt/anaconda3/lib/python3.8/site-packages (from spacy-transformers<1.1.0,>=1.0.3->en-core-web-trf==3.1.0) (4.9.2)\n",
      "Requirement already satisfied: pyparsing>=2.0.2 in /Users/aarunku5/opt/anaconda3/lib/python3.8/site-packages (from packaging>=20.0->spacy<3.2.0,>=3.1.0->en-core-web-trf==3.1.0) (2.4.7)\n",
      "Requirement already satisfied: smart-open<6.0.0,>=5.0.0 in /Users/aarunku5/opt/anaconda3/lib/python3.8/site-packages (from pathy>=0.3.5->spacy<3.2.0,>=3.1.0->en-core-web-trf==3.1.0) (5.2.0)\n",
      "Requirement already satisfied: typing-extensions>=3.7.4.3 in /Users/aarunku5/opt/anaconda3/lib/python3.8/site-packages (from pydantic!=1.8,!=1.8.1,<1.9.0,>=1.7.4->spacy<3.2.0,>=3.1.0->en-core-web-trf==3.1.0) (3.7.4.3)\n",
      "Requirement already satisfied: certifi>=2017.4.17 in /Users/aarunku5/opt/anaconda3/lib/python3.8/site-packages (from requests<3.0.0,>=2.13.0->spacy<3.2.0,>=3.1.0->en-core-web-trf==3.1.0) (2020.12.5)\n",
      "Requirement already satisfied: urllib3<1.27,>=1.21.1 in /Users/aarunku5/opt/anaconda3/lib/python3.8/site-packages (from requests<3.0.0,>=2.13.0->spacy<3.2.0,>=3.1.0->en-core-web-trf==3.1.0) (1.26.4)\n",
      "Requirement already satisfied: chardet<5,>=3.0.2 in /Users/aarunku5/opt/anaconda3/lib/python3.8/site-packages (from requests<3.0.0,>=2.13.0->spacy<3.2.0,>=3.1.0->en-core-web-trf==3.1.0) (4.0.0)\n",
      "Requirement already satisfied: idna<3,>=2.5 in /Users/aarunku5/opt/anaconda3/lib/python3.8/site-packages (from requests<3.0.0,>=2.13.0->spacy<3.2.0,>=3.1.0->en-core-web-trf==3.1.0) (2.10)\n",
      "Requirement already satisfied: huggingface-hub==0.0.12 in /Users/aarunku5/opt/anaconda3/lib/python3.8/site-packages (from transformers<4.10.0,>=3.4.0->spacy-transformers<1.1.0,>=1.0.3->en-core-web-trf==3.1.0) (0.0.12)\n",
      "Requirement already satisfied: pyyaml>=5.1 in /Users/aarunku5/opt/anaconda3/lib/python3.8/site-packages (from transformers<4.10.0,>=3.4.0->spacy-transformers<1.1.0,>=1.0.3->en-core-web-trf==3.1.0) (5.4.1)\n",
      "Requirement already satisfied: tokenizers<0.11,>=0.10.1 in /Users/aarunku5/opt/anaconda3/lib/python3.8/site-packages (from transformers<4.10.0,>=3.4.0->spacy-transformers<1.1.0,>=1.0.3->en-core-web-trf==3.1.0) (0.10.3)\n",
      "Requirement already satisfied: filelock in /Users/aarunku5/opt/anaconda3/lib/python3.8/site-packages (from transformers<4.10.0,>=3.4.0->spacy-transformers<1.1.0,>=1.0.3->en-core-web-trf==3.1.0) (3.0.12)\n",
      "Requirement already satisfied: regex!=2019.12.17 in /Users/aarunku5/opt/anaconda3/lib/python3.8/site-packages (from transformers<4.10.0,>=3.4.0->spacy-transformers<1.1.0,>=1.0.3->en-core-web-trf==3.1.0) (2021.4.4)\n",
      "Requirement already satisfied: sacremoses in /Users/aarunku5/opt/anaconda3/lib/python3.8/site-packages (from transformers<4.10.0,>=3.4.0->spacy-transformers<1.1.0,>=1.0.3->en-core-web-trf==3.1.0) (0.0.45)\n",
      "Requirement already satisfied: click<7.2.0,>=7.1.1 in /Users/aarunku5/opt/anaconda3/lib/python3.8/site-packages (from typer<0.4.0,>=0.3.0->spacy<3.2.0,>=3.1.0->en-core-web-trf==3.1.0) (7.1.2)\n",
      "Requirement already satisfied: MarkupSafe>=0.23 in /Users/aarunku5/opt/anaconda3/lib/python3.8/site-packages (from jinja2->spacy<3.2.0,>=3.1.0->en-core-web-trf==3.1.0) (1.1.1)\n",
      "Requirement already satisfied: joblib in /Users/aarunku5/opt/anaconda3/lib/python3.8/site-packages (from sacremoses->transformers<4.10.0,>=3.4.0->spacy-transformers<1.1.0,>=1.0.3->en-core-web-trf==3.1.0) (1.0.1)\n",
      "Requirement already satisfied: six in /Users/aarunku5/opt/anaconda3/lib/python3.8/site-packages (from sacremoses->transformers<4.10.0,>=3.4.0->spacy-transformers<1.1.0,>=1.0.3->en-core-web-trf==3.1.0) (1.15.0)\n",
      "\u001b[38;5;2m✔ Download and installation successful\u001b[0m\n",
      "You can now load the package via spacy.load('en_core_web_trf')\n"
     ]
    }
   ],
   "source": [
    "import pandas as pd\n",
    "import numpy as np \n",
    "import json\n",
    "import csv\n",
    "\n",
    "\n",
    "import matplotlib.pyplot as plt\n",
    "import seaborn as sns\n",
    "\n",
    "from tqdm import tqdm_notebook as tqdm\n",
    "\n",
    "from nltk.corpus import stopwords\n",
    "from nltk.tokenize import word_tokenize\n",
    "from nltk.tokenize import sent_tokenize\n",
    "from nltk.stem import WordNetLemmatizer \n",
    "import nltk\n",
    "nltk.download('averaged_perceptron_tagger')\n",
    "\n",
    "import spacy\n",
    "import math\n",
    "\n",
    "import string\n",
    "import sys\n",
    "import random\n",
    "\n",
    "from collections import Counter\n",
    "from itertools import chain\n",
    "\n",
    "stop_words = set(stopwords.words('english'))\n",
    "lemmatizer = WordNetLemmatizer()\n",
    "\n",
    "!pip install spacy-transformers\n",
    "!python -m spacy download en_core_web_trf"
   ]
  },
  {
   "cell_type": "code",
   "execution_count": 2,
   "metadata": {},
   "outputs": [
    {
     "name": "stderr",
     "output_type": "stream",
     "text": [
      "<ipython-input-2-1a21ee61156b>:10: FutureWarning: The default value of regex will change from True to False in a future version. In addition, single character regular expressions will*not* be treated as literal strings when regex=True.\n",
      "  words['nopunc'] = words['nopunc'].str.replace(\".\", \"\")\n",
      "<ipython-input-2-1a21ee61156b>:25: TqdmDeprecationWarning: This function will be removed in tqdm==5.0.0\n",
      "Please use `tqdm.notebook.tqdm` instead of `tqdm.tqdm_notebook`\n",
      "  for i in tqdm(range(len(words))):\n"
     ]
    },
    {
     "data": {
      "application/vnd.jupyter.widget-view+json": {
       "model_id": "2347e0436683482399ec9495eea11b98",
       "version_major": 2,
       "version_minor": 0
      },
      "text/plain": [
       "  0%|          | 0/138 [00:00<?, ?it/s]"
      ]
     },
     "metadata": {},
     "output_type": "display_data"
    },
    {
     "name": "stderr",
     "output_type": "stream",
     "text": [
      "<ipython-input-2-1a21ee61156b>:30: FutureWarning: The default value of regex will change from True to False in a future version. In addition, single character regular expressions will*not* be treated as literal strings when regex=True.\n",
      "  words['fullnopunc'] = words['fullnopunc'].str.replace(\".\", \"\")\n",
      "<ipython-input-2-1a21ee61156b>:33: TqdmDeprecationWarning: This function will be removed in tqdm==5.0.0\n",
      "Please use `tqdm.notebook.tqdm` instead of `tqdm.tqdm_notebook`\n",
      "  for i in tqdm(range(len(df_wino))):\n"
     ]
    },
    {
     "data": {
      "application/vnd.jupyter.widget-view+json": {
       "model_id": "4562c7537a254bc28699786c1808ce87",
       "version_major": 2,
       "version_minor": 0
      },
      "text/plain": [
       "  0%|          | 0/69 [00:00<?, ?it/s]"
      ]
     },
     "metadata": {},
     "output_type": "display_data"
    },
    {
     "name": "stderr",
     "output_type": "stream",
     "text": [
      "<ipython-input-2-1a21ee61156b>:41: TqdmDeprecationWarning: This function will be removed in tqdm==5.0.0\n",
      "Please use `tqdm.notebook.tqdm` instead of `tqdm.tqdm_notebook`\n",
      "  for i in tqdm(range(len(words))):\n"
     ]
    },
    {
     "data": {
      "application/vnd.jupyter.widget-view+json": {
       "model_id": "8b973de67f574c26a0128122ecb9b9ba",
       "version_major": 2,
       "version_minor": 0
      },
      "text/plain": [
       "  0%|          | 0/138 [00:00<?, ?it/s]"
      ]
     },
     "metadata": {},
     "output_type": "display_data"
    }
   ],
   "source": [
    "df_wino = pd.read_csv('./Data/TF_Old.csv')\n",
    "nlp = spacy.load(\"en_core_web_trf\")\n",
    "words=pd.DataFrame()\n",
    "frames=[df_wino['sentence1'],df_wino['sentence2']]\n",
    "words['full'] = pd.concat(frames)\n",
    "words.reset_index(inplace = True) \n",
    "words['casewords'] = words['full'].str.lower()\n",
    "words['wsw'] = words['casewords'].apply(lambda x: ' '.join([word for word in x.split() if word not in (stop_words)]))\n",
    "words['nopunc'] = words['wsw'].str.replace(\"'\", \"\")\n",
    "words['nopunc'] = words['nopunc'].str.replace(\".\", \"\")\n",
    "words['nopunc'] = words['nopunc'].str.replace(\",\", \"\")\n",
    "w_tokenizer = nltk.tokenize.WhitespaceTokenizer()\n",
    "lemmatizer = nltk.stem.WordNetLemmatizer()\n",
    "def lemmatize_text(text):\n",
    "    return [lemmatizer.lemmatize(w) for w in w_tokenizer.tokenize(text)]\n",
    "words['text_lemmatized'] = words.nopunc.apply(lemmatize_text)\n",
    "words['final']=\"NaN\"\n",
    "def final(x):\n",
    "    makeitastring = ' '.join(map(str, x))\n",
    "    makeitastring=makeitastring.replace(\",\",\"\")\n",
    "    makeitastring=makeitastring.replace(\"'\",\"\")\n",
    "    makeitastring=makeitastring.replace(\"[\",\"\")\n",
    "    makeitastring=makeitastring.replace(\"]\",\"\")\n",
    "    return makeitastring\n",
    "for i in tqdm(range(len(words))):    \n",
    "    column=['text_lemmatized']\n",
    "    row=[i]\n",
    "    words.loc[i,'final']=final(words.loc[i,'text_lemmatized'])\n",
    "words['fullnopunc'] = words['full'].str.replace(\"'\", \"\")\n",
    "words['fullnopunc'] = words['fullnopunc'].str.replace(\".\", \"\")\n",
    "words['fullnopunc'] = words['fullnopunc'].str.replace(\",\", \"\")\n",
    "words['label']='NaN'\n",
    "for i in tqdm(range(len(df_wino))):\n",
    "    words.loc[i,'label']=df_wino.loc[i,'label']\n",
    "    words.loc[(i+len(df_wino)),'label']=df_wino.loc[i,'label']\n",
    "words.to_csv('./test_good_101_1_words.csv', index = False)\n",
    "e=pd.DataFrame(columns=['label','final','fullnopunc'])\n",
    "n=pd.DataFrame(columns=['label','final','fullnopunc'])\n",
    "c=pd.DataFrame(columns=['label','final','fullnopunc'])\n",
    "#split test labels\n",
    "for i in tqdm(range(len(words))):\n",
    "    l=words.loc[i,'label']\n",
    "    new_row={'label':words.loc[i,'label'],'final':words.loc[i,'final'],'fullnopunc':words.loc[i,'fullnopunc']}\n",
    "    if(l==1):\n",
    "        e=e.append(new_row, ignore_index=True)\n",
    "    elif(l==2):\n",
    "        n=n.append(new_row, ignore_index=True)\n",
    "    else:\n",
    "        c=c.append(new_row,ignore_index=True)\n",
    "e.to_csv('./test_good_101_1_wordse.csv', index = False)\n",
    "n.to_csv('./test_good_101_1_wordsn.csv', index = False)\n",
    "c.to_csv('./test_good_101_1_wordsc.csv', index = False)\n",
    "\n",
    "\n",
    "\n",
    "\n",
    "\n",
    "\n",
    "\n",
    "\n",
    "\n"
   ]
  },
  {
   "cell_type": "code",
   "execution_count": 3,
   "metadata": {},
   "outputs": [
    {
     "name": "stdout",
     "output_type": "stream",
     "text": [
      "46\n",
      "46\n",
      "46\n",
      "69\n",
      "138\n"
     ]
    }
   ],
   "source": [
    "print(len(e))\n",
    "print(len(n))\n",
    "print(len(c))\n",
    "print(len(df_wino))\n",
    "print(len(words))"
   ]
  },
  {
   "cell_type": "code",
   "execution_count": 4,
   "metadata": {},
   "outputs": [
    {
     "data": {
      "image/png": "[encoded data removed]",
      "text/plain": [
       "<Figure size 1152x576 with 1 Axes>"
      ]
     },
     "metadata": {
      "needs_background": "light"
     },
     "output_type": "display_data"
    },
    {
     "data": {
      "image/png": "[encoded data removed]",
      "text/plain": [
       "<Figure size 432x288 with 1 Axes>"
      ]
     },
     "metadata": {
      "needs_background": "light"
     },
     "output_type": "display_data"
    },
    {
     "name": "stdout",
     "output_type": "stream",
     "text": [
      "5.898550724637682\n",
      "5.240967001474721\n",
      "138\n",
      "136\n",
      "0.9855072463768116\n",
      "11.063561682612768\n"
     ]
    }
   ],
   "source": [
    "magwords=words.final.str.split(expand=True).stack().value_counts()\n",
    "t1g=magwords.size/len(df_wino)\n",
    "#--------------------------------------------------------------------\n",
    "g=[]\n",
    "for i in range(len(words)):\n",
    "    x=words.iloc[i]['fullnopunc']\n",
    "    g.append(len(x.split()))\n",
    "gstd=pd.Series(g).std()\n",
    "#--------------------------------------------------------------------\n",
    "z=[]\n",
    "for i in range(len(pd.Series(g))):\n",
    "    if(g[i]<3 or g[i]>23):\n",
    "        z.append(0)\n",
    "    elif(g[i]>5 and g[i]<13):\n",
    "        z.append(2)\n",
    "    else:\n",
    "        z.append(1)\n",
    "def col(z):\n",
    "    arr=[]\n",
    "    for i in range(len(z)):\n",
    "        if(z[i]==0):\n",
    "            arr.append('#f85c4d')\n",
    "        elif(z[i]==1):\n",
    "            arr.append('#f5bc5e')\n",
    "        else:\n",
    "            arr.append('#90ee90')\n",
    "    return arr\n",
    "fig, ax = plt.subplots(figsize=(16,8))\n",
    "ax.scatter(range(len(g)),pd.Series(g),c=col(z))\n",
    "ax.grid(color='grey', linestyle='-', linewidth=0.25, alpha=0.5)\n",
    "ax.spines['top'].set_visible(False)\n",
    "ax.spines['right'].set_visible(False)\n",
    "ax.set_xlabel('Sentence')\n",
    "ax.set_ylabel('Frequency')\n",
    "plt.show()\n",
    "plt.clf()\n",
    "gcount=Counter(g)\n",
    "gcount=pd.Series(gcount).sort_index()\n",
    "gcount=gcount/len(g)\n",
    "a=len(gcount)\n",
    "x = np.linspace(0,a-1, num=a)\n",
    "y = gcount\n",
    "x0 = 3\n",
    "x1 = 6\n",
    "x2 = 10\n",
    "x3 = 23\n",
    "plt.grid(color='grey', linestyle='-', linewidth=0.25, alpha=0.5)\n",
    "plt.plot(x[:x0+1], y[:x0+1],marker='.', markerfacecolor='blue', markersize=5,color=\"#f85c4d\")\n",
    "plt.plot(x[x0:x1+1], y[x0:x1+1],marker='.', markerfacecolor='blue', markersize=5,color=\"#f5bc5e\")\n",
    "plt.plot(x[x1:x2+1], y[x1:x2+1],marker='.', markerfacecolor='blue', markersize=5,color=\"#90ee90\")\n",
    "plt.plot(x[x2:x3+1], y[x2:x3+1],marker='.', markerfacecolor='blue', markersize=5,color=\"#f5bc5e\")\n",
    "plt.plot(x[x3:], y[x3:],marker='.', markerfacecolor='blue', markersize=5,color=\"#f85c4d\")\n",
    "plt.show()\n",
    "#--------------------------------------------------------------------\n",
    "nrg=len(words)\n",
    "drg=0\n",
    "for i in range(len(g)):\n",
    "    xg=g[i]\n",
    "    xg=(xg-3)*(30-xg)\n",
    "    if(xg>0):\n",
    "        drg=drg+1\n",
    "    else:\n",
    "        drg=drg-1\n",
    "#--------------------------------------------------------------------\n",
    "print(t1g)\n",
    "print(gstd)\n",
    "print(nrg)\n",
    "print(drg)\n",
    "t3g=drg/nrg\n",
    "print(t3g)\n",
    "dqic1g=t1g+(gstd*t3g)\n",
    "print(dqic1g)"
   ]
  },
  {
   "cell_type": "code",
   "execution_count": 7,
   "metadata": {
    "scrolled": false
   },
   "outputs": [
    {
     "name": "stdout",
     "output_type": "stream",
     "text": [
      "SENTENCE\n"
     ]
    },
    {
     "data": {
      "image/png": "[encoded data removed]",
      "text/plain": [
       "<Figure size 1152x576 with 1 Axes>"
      ]
     },
     "metadata": {
      "needs_background": "light"
     },
     "output_type": "display_data"
    },
    {
     "data": {
      "text/plain": [
       "<Figure size 432x288 with 0 Axes>"
      ]
     },
     "metadata": {},
     "output_type": "display_data"
    },
    {
     "data": {
      "image/png": "[encoded data removed]",
      "text/plain": [
       "<Figure size 1152x576 with 1 Axes>"
      ]
     },
     "metadata": {
      "needs_background": "light"
     },
     "output_type": "display_data"
    },
    {
     "name": "stdout",
     "output_type": "stream",
     "text": [
      "0.04469897088298526\n",
      "0.0\n",
      "0.0019979979979979643\n",
      "0.0\n",
      "1    1.0\n",
      "Name: sentence, dtype: float64\n",
      "1/T1\n",
      "9.575736898258447e-18\n",
      "T1\n",
      "1.0443060525001178e+17\n",
      "138\n",
      "138\n",
      "T2\n",
      "1.0\n",
      "WORDS\n",
      "407\n",
      "4.6880532435677916e-05\n",
      "1/T1\n",
      "0.006846935988869614\n",
      "T1\n",
      "146.0507300821274\n",
      "521\n",
      "821\n",
      "T2\n",
      "0.6345919610231425\n",
      "man        0.037759\n",
      "woman      0.031669\n",
      "two        0.028015\n",
      "people     0.021924\n",
      "wearing    0.017052\n",
      "black      0.012180\n",
      "dtype: float64\n",
      "ADJ\n",
      "1/T1\n",
      "0.02076862613913101\n",
      "T1\n",
      "48.149549869158626\n",
      "167.0\n",
      "41.0\n",
      "T2\n",
      "0.24550898203592814\n",
      "69    10.0\n",
      "71    10.0\n",
      "8      7.0\n",
      "54     6.0\n",
      "49     5.0\n",
      "43     5.0\n",
      "3      4.0\n",
      "59     4.0\n",
      "34     4.0\n",
      "62     4.0\n",
      "77     4.0\n",
      "36     3.0\n",
      "68     3.0\n",
      "23     3.0\n",
      "0      3.0\n",
      "83     3.0\n",
      "14     3.0\n",
      "12     3.0\n",
      "10     2.0\n",
      "65     2.0\n",
      "dtype: float64\n",
      "85\n",
      "ADV\n",
      "1/T1\n",
      "0.10282927335492763\n",
      "T1\n",
      "9.724857206258568\n",
      "19.0\n",
      "3.0\n",
      "T2\n",
      "0.15789473684210525\n",
      "0     0.315789\n",
      "10    0.105263\n",
      "1     0.052632\n",
      "2     0.052632\n",
      "3     0.052632\n",
      "4     0.052632\n",
      "5     0.052632\n",
      "6     0.052632\n",
      "7     0.052632\n",
      "8     0.052632\n",
      "9     0.052632\n",
      "11    0.052632\n",
      "12    0.052632\n",
      "dtype: float64\n",
      "VERB\n",
      "1/T1\n",
      "0.023279766625829548\n",
      "T1\n",
      "42.95575707749889\n",
      "160.0\n",
      "-46.0\n",
      "T2\n",
      "-0.2875\n",
      "9     0.08750\n",
      "15    0.05000\n",
      "8     0.05000\n",
      "46    0.03750\n",
      "59    0.03750\n",
      "34    0.03125\n",
      "80    0.02500\n",
      "29    0.02500\n",
      "24    0.02500\n",
      "17    0.02500\n",
      "53    0.01875\n",
      "68    0.01875\n",
      "36    0.01875\n",
      "41    0.01875\n",
      "28    0.01250\n",
      "72    0.01250\n",
      "66    0.01250\n",
      "67    0.01250\n",
      "25    0.01250\n",
      "1     0.01250\n",
      "dtype: float64\n",
      "NOUN\n",
      "1/T1\n",
      "0.016152170082088083\n",
      "T1\n",
      "61.911185612696585\n",
      "418.0\n",
      "124.0\n",
      "T2\n",
      "0.2966507177033493\n",
      "128    0.074163\n",
      "16     0.062201\n",
      "102    0.043062\n",
      "139    0.021531\n",
      "39     0.021531\n",
      "76     0.016746\n",
      "38     0.014354\n",
      "186    0.014354\n",
      "53     0.011962\n",
      "138    0.011962\n",
      "162    0.011962\n",
      "92     0.011962\n",
      "85     0.011962\n",
      "179    0.011962\n",
      "71     0.011962\n",
      "171    0.009569\n",
      "18     0.009569\n",
      "180    0.009569\n",
      "56     0.009569\n",
      "112    0.009569\n",
      "dtype: float64\n",
      "BI\n",
      "1/T1\n",
      "0.0015662263535874486\n",
      "T1\n",
      "638.4773169660282\n",
      "1299\n",
      "923\n",
      "1185\n",
      "T2\n",
      "0.9122401847575058\n",
      "in       a         0.024919\n",
      "a        man       0.020585\n",
      "on       a         0.016251\n",
      "man      in        0.010834\n",
      "wearing  a         0.009751\n",
      "group    of        0.009751\n",
      "at       the       0.009751\n",
      "a        group     0.009751\n",
      "at       a         0.008667\n",
      "a        woman     0.007584\n",
      "in       the       0.007584\n",
      "with     a         0.007584\n",
      "in       front     0.007584\n",
      "front    of        0.007584\n",
      "of       a         0.006501\n",
      "a        black     0.006501\n",
      "and      a         0.006501\n",
      "the      water     0.005417\n",
      "of       people    0.005417\n",
      "a        red       0.005417\n",
      "dtype: float64\n",
      "TRI\n",
      "1/T1\n",
      "0.00047103233586858216\n",
      "T1\n",
      "2122.996499074746\n",
      "1161\n",
      "1057\n",
      "1047\n",
      "T2\n",
      "0.9018087855297158\n",
      "a        group      of          0.008515\n",
      "man      in         a           0.006623\n",
      "in       front      of          0.006623\n",
      "a        man        in          0.005676\n",
      "woman    wearing    a           0.003784\n",
      "a        man        wearing     0.003784\n",
      "group    of         people      0.003784\n",
      "front    of         a           0.003784\n",
      "at       the        camera      0.002838\n",
      "looking  at         the         0.002838\n",
      "man      wearing    a           0.002838\n",
      "shirt    about      to          0.002838\n",
      "display  identical  tattoos     0.001892\n",
      "a        woman      wearing     0.001892\n",
      "         dark       coat        0.001892\n",
      "         marble     building    0.001892\n",
      "         garbage    can         0.001892\n",
      "         child      is          0.001892\n",
      "on       a          couch       0.001892\n",
      "how      to         knit        0.001892\n",
      "dtype: float64\n"
     ]
    },
    {
     "data": {
      "text/plain": [
       "<Figure size 432x288 with 0 Axes>"
      ]
     },
     "metadata": {},
     "output_type": "display_data"
    }
   ],
   "source": [
    "print(\"SENTENCE\")\n",
    "gwords=pd.read_csv(\"./test_good_101_1_words.csv\")\n",
    "df_traingood = pd.read_csv('./Data/TF_Old.csv')\n",
    "nlp = spacy.load(\"en_core_web_trf\")\n",
    "data = gwords['fullnopunc'].to_list()\n",
    "dff = pd.DataFrame(data,columns=['sentence'])\n",
    "dff = dff.dropna(thresh=1)\n",
    "m1=[]\n",
    "m2=[]\n",
    "xx=[]\n",
    "\n",
    "for i in range(1000):\n",
    "    df=dff.sample(frac=random.random())\n",
    "    count = df['sentence'].value_counts() \n",
    "    x=count.value_counts(normalize=True)\n",
    "    x.sort_index()\n",
    "    z=x.index\n",
    "    y=[]\n",
    "    for j in range(1,3):\n",
    "        if j in z:\n",
    "            y.append(x[j])\n",
    "        else:\n",
    "            y.append(0)       \n",
    "    m1.append(y[0])\n",
    "    m2.append(y[1])\n",
    "    xx.append(len(count))    \n",
    "fig, ax = plt.subplots(figsize=(16,8))\n",
    "ax.scatter(xx,m1,c='green')\n",
    "ax.grid(color='grey', linestyle='-', linewidth=0.25, alpha=0.5)\n",
    "ax.spines['top'].set_visible(False)\n",
    "ax.spines['right'].set_visible(False)\n",
    "plt.show()\n",
    "plt.clf()\n",
    "fig, ax = plt.subplots(figsize=(16,8))\n",
    "ax.scatter(xx,m2,c='blue')\n",
    "ax.grid(color='grey', linestyle='-', linewidth=0.25, alpha=0.5)\n",
    "ax.spines['top'].set_visible(False)\n",
    "ax.spines['right'].set_visible(False)\n",
    "plt.show()\n",
    "plt.clf()\n",
    "\n",
    "print(pd.Series(m1).std())\n",
    "print(pd.Series(m2).std())\n",
    "print(pd.Series(m1).var())\n",
    "print(pd.Series(m2).var())\n",
    "\n",
    "count = dff['sentence'].value_counts() \n",
    "count.sort_values(ascending=False)\n",
    "print(count.value_counts(normalize=True))\n",
    "\n",
    "sentencestd=(count/len(count)).std()\n",
    "\n",
    "print(\"1/T1\")\n",
    "print(sentencestd)\n",
    "print(\"T1\")\n",
    "print(1/sentencestd)\n",
    "\n",
    "nr=len(gwords)\n",
    "dr=0\n",
    "for i in range(len(count)):\n",
    "    xdr=(2-count[i])\n",
    "    if(xdr>0):\n",
    "        dr=dr+count[i]\n",
    "    else:\n",
    "        dr=dr-count[i]\n",
    "print(dr)\n",
    "print(nr)\n",
    "print(\"T2\")\n",
    "print(dr/nr)\n",
    "#------------------------------------------------------\n",
    "print(\"WORDS\")\n",
    "magwordsg=gwords.final.str.split(expand=True).stack().value_counts()\n",
    "gnw=(magwordsg/len(magwordsg))\n",
    "print(len(magwordsg))\n",
    "print(gnw.var())\n",
    "print(\"1/T1\")\n",
    "print(gnw.std())\n",
    "print(\"T1\")\n",
    "print(1/gnw.std())\n",
    "\n",
    "nr=magwordsg.sum() \n",
    "dr=0\n",
    "for i in range(len(magwordsg)):\n",
    "    xdr=((0.01*nr)-magwordsg[i])*(magwordsg[i]-1)\n",
    "    if(xdr>=0):\n",
    "        dr=dr+magwordsg[i]\n",
    "    else:\n",
    "        dr=dr-magwordsg[i]\n",
    "print(dr)\n",
    "print(nr)\n",
    "print(\"T2\")\n",
    "print(dr/nr)\n",
    "print((magwordsg/nr).head(6))\n",
    "#------------------------------------------------------\n",
    "tagged=nltk.pos_tag(magwordsg.index)\n",
    "tagged\n",
    "tagged_reduced_adjective = set()\n",
    "tagged_reduced_verbs = set()\n",
    "tagged_reduced_adverbs = set()\n",
    "tagged_reduced_nouns = set()\n",
    "for speech_tag in tagged:\n",
    "    if speech_tag[1] in ['JJ','JJR','JJS']:\n",
    "        tagged_reduced_adjective.add(speech_tag[0])\n",
    "    elif speech_tag[1] in ['RB','RBR','RBS']:\n",
    "        tagged_reduced_adverbs.add(speech_tag[0])\n",
    "    elif speech_tag[1] in ['VB','VBD','VBG','VBN','VBP','VBZ']:\n",
    "        tagged_reduced_verbs.add(speech_tag[0])\n",
    "    elif speech_tag[1] in ['NN','NNS','NNP','NNPS']:\n",
    "        tagged_reduced_nouns.add(speech_tag[0])\n",
    "print(\"ADJ\")\n",
    "arr=np.zeros(shape=(len(tagged_reduced_adjective)))\n",
    "j=0\n",
    "for w in (tagged_reduced_adjective):\n",
    "    for i in range(len(magwordsg)):\n",
    "        if(magwordsg.index[i]==w):\n",
    "            arr[j]=magwordsg[i]\n",
    "            j=j+1\n",
    "narr=(arr/len(arr))\n",
    "adjvar=narr.std()\n",
    "print(\"1/T1\")\n",
    "print(adjvar)\n",
    "print(\"T1\")\n",
    "print(1/adjvar)\n",
    "\n",
    "\n",
    "nr=arr.sum() \n",
    "print(nr)\n",
    "dr=0\n",
    "for i in range(len(arr)):\n",
    "    xdr=((0.02*nr)-arr[i])*(arr[i]-1)\n",
    "    if(xdr>=0):\n",
    "        dr=dr+arr[i]\n",
    "    else:\n",
    "        dr=dr-arr[i]\n",
    "print(dr)\n",
    "print(\"T2\")\n",
    "print(dr/nr)\n",
    "\n",
    "print(pd.Series(arr).sort_values(ascending=False).head(20))\n",
    "print(len(arr))\n",
    "#------------------------------------------------------\n",
    "print(\"ADV\")\n",
    "arr=np.zeros(shape=(len(tagged_reduced_adverbs)))\n",
    "j=0\n",
    "for w in (tagged_reduced_adverbs):\n",
    "    for i in range(len(magwordsg)):\n",
    "        if(magwordsg.index[i]==w):\n",
    "            arr[j]=magwordsg[i]\n",
    "            j=j+1\n",
    "narr=(arr/len(arr))\n",
    "advvar=narr.std()\n",
    "print(\"1/T1\")\n",
    "print(advvar)\n",
    "print(\"T1\")\n",
    "print(1/advvar)\n",
    "\n",
    "nr=arr.sum() \n",
    "print(nr)\n",
    "dr=0\n",
    "for i in range(len(arr)):\n",
    "    xdr=((0.03*nr)-arr[i])*(arr[i]-1)\n",
    "    if(xdr>=0):\n",
    "        dr=dr+arr[i]\n",
    "    else:\n",
    "        dr=dr-arr[i]\n",
    "print(dr)\n",
    "print(\"T2\")\n",
    "print(dr/nr)\n",
    "\n",
    "print(pd.Series(arr/nr).sort_values(ascending=False).head(20))\n",
    "#------------------------------------------------------\n",
    "print(\"VERB\")\n",
    "arr=np.zeros(shape=(len(tagged_reduced_verbs)))\n",
    "j=0\n",
    "for w in (tagged_reduced_verbs):\n",
    "    for i in range(len(magwordsg)):\n",
    "        if(magwordsg.index[i]==w):\n",
    "            arr[j]=magwordsg[i]\n",
    "            j=j+1\n",
    "narr=(arr/len(arr))\n",
    "verbvar=narr.std()\n",
    "print(\"1/T1\")\n",
    "print(verbvar)\n",
    "print(\"T1\")\n",
    "print(1/verbvar)\n",
    "\n",
    "\n",
    "\n",
    "nr=arr.sum() \n",
    "print(nr)\n",
    "dr=0\n",
    "for i in range(len(arr)):\n",
    "    xdr=((0.01*nr)-arr[i])*(arr[i]-1)\n",
    "    if(xdr>=0):\n",
    "        dr=dr+arr[i]\n",
    "    else:\n",
    "        dr=dr-arr[i]\n",
    "print(dr)\n",
    "print(\"T2\")\n",
    "print(dr/nr)\n",
    "print(pd.Series(arr/nr).sort_values(ascending=False).head(20))\n",
    "#------------------------------------------------------\n",
    "print(\"NOUN\")\n",
    "arr=np.zeros(shape=(len(tagged_reduced_nouns)))\n",
    "j=0\n",
    "for w in (tagged_reduced_nouns):\n",
    "    for i in range(len(magwordsg)):\n",
    "        if(magwordsg.index[i]==w):\n",
    "            arr[j]=magwordsg[i]\n",
    "            j=j+1\n",
    "narr=(arr/len(arr))\n",
    "nounvar=narr.std()\n",
    "print(\"1/T1\")\n",
    "print(nounvar)\n",
    "print(\"T1\")\n",
    "print(1/nounvar)\n",
    "\n",
    "\n",
    "nr=arr.sum() \n",
    "print(nr)\n",
    "dr=0\n",
    "for i in range(len(arr)):\n",
    "    xdr=((0.01*nr)-arr[i])*(arr[i]-1)\n",
    "    if(xdr>=0):\n",
    "        dr=dr+arr[i]\n",
    "    else:\n",
    "        dr=dr-arr[i]\n",
    "print(dr)\n",
    "print(\"T2\")\n",
    "print(dr/nr)\n",
    "print(pd.Series(arr/nr).sort_values(ascending=False).head(20))\n",
    "#------------------------------------------------------\n",
    "print(\"BI\")\n",
    "data = gwords['fullnopunc'].to_list()\n",
    "def find_ngrams(input_list, n):\n",
    "    return list(zip(*[input_list[i:] for i in range(n)]))\n",
    "df = pd.DataFrame(data,columns=['sentence'])\n",
    "df = df.dropna(thresh=1)\n",
    "df['bigrams'] = df['sentence'].map(lambda x: find_ngrams(x.split(\" \"), 2))\n",
    "bigrams = df['bigrams'].tolist()\n",
    "bigrams = list(chain(*bigrams))\n",
    "bigrams = [(x.lower(), y.lower()) for x,y in bigrams]\n",
    "bigram_counts = Counter(bigrams)\n",
    "bi=pd.Series(bigram_counts)\n",
    "nbi=(bi/len(bi))\n",
    "bivar=nbi.std()\n",
    "print(\"1/T1\")\n",
    "print(bivar)\n",
    "print(\"T1\")\n",
    "print(1/bivar)\n",
    "\n",
    "\n",
    "nr=bi.sum() \n",
    "print(nr)\n",
    "print(len(bi))\n",
    "dr=0\n",
    "for i in range(len(bi)):\n",
    "    xdr=((0.01*nr)-bi[i])*(bi[i]-1)\n",
    "    if(xdr>=0):\n",
    "        dr=dr+bi[i]\n",
    "    else:\n",
    "        dr=dr-bi[i]\n",
    "print(dr)\n",
    "print(\"T2\")\n",
    "print(dr/nr)\n",
    "bi=bi.sort_values(ascending=False)\n",
    "print((bi/len(bi)).head(20))\n",
    "#------------------------------------------------------\n",
    "print(\"TRI\")\n",
    "df['trigrams'] = df['sentence'].map(lambda x: find_ngrams(x.split(\" \"), 3))\n",
    "trigrams = df['trigrams'].tolist()\n",
    "trigrams = list(chain(*trigrams))\n",
    "trigrams = [(x.lower(), y.lower(),z.lower()) for x,y,z in trigrams]\n",
    "trigram_counts = Counter(trigrams)\n",
    "tri=pd.Series(trigram_counts)\n",
    "ntri=(tri/len(tri))\n",
    "trivar=ntri.std()\n",
    "print(\"1/T1\")\n",
    "print(trivar)\n",
    "print(\"T1\")\n",
    "print(1/trivar)\n",
    "\n",
    "\n",
    "nr=tri.sum() \n",
    "print(nr)\n",
    "print(len(tri))\n",
    "dr=0\n",
    "for i in range(len(tri)):\n",
    "    xdr=((0.002*nr)-tri[i])*(tri[i]-1)\n",
    "    if(xdr>=0):\n",
    "        dr=dr+tri[i]\n",
    "    else:\n",
    "        dr=dr-tri[i]\n",
    "print(dr)\n",
    "print(\"T2\")\n",
    "print(dr/nr)\n",
    "tri=tri.sort_values(ascending=False)\n",
    "print((tri/len(tri)).head(20))\n",
    "\n",
    "\n",
    "\n",
    "\n",
    "\n",
    "\n",
    "\n",
    "\n"
   ]
  },
  {
   "cell_type": "code",
   "execution_count": null,
   "metadata": {},
   "outputs": [
    {
     "name": "stderr",
     "output_type": "stream",
     "text": [
      "<ipython-input-8-801a85adcc0d>:9: TqdmDeprecationWarning: This function will be removed in tqdm==5.0.0\n",
      "Please use `tqdm.notebook.tqdm` instead of `tqdm.tqdm_notebook`\n",
      "  for l in tqdm(range(len(gwords))):\n"
     ]
    },
    {
     "data": {
      "application/vnd.jupyter.widget-view+json": {
       "model_id": "a58cf1ef140447069a27111495415be6",
       "version_major": 2,
       "version_minor": 0
      },
      "text/plain": [
       "  0%|          | 0/138 [00:00<?, ?it/s]"
      ]
     },
     "metadata": {},
     "output_type": "display_data"
    },
    {
     "name": "stderr",
     "output_type": "stream",
     "text": [
      "<ipython-input-8-801a85adcc0d>:13: TqdmDeprecationWarning: This function will be removed in tqdm==5.0.0\n",
      "Please use `tqdm.notebook.tqdm` instead of `tqdm.tqdm_notebook`\n",
      "  for m in tqdm(range(len(gwords))):\n"
     ]
    },
    {
     "data": {
      "application/vnd.jupyter.widget-view+json": {
       "model_id": "6f69af04e3314764923780ba2f01d3e1",
       "version_major": 2,
       "version_minor": 0
      },
      "text/plain": [
       "  0%|          | 0/138 [00:00<?, ?it/s]"
      ]
     },
     "metadata": {},
     "output_type": "display_data"
    },
    {
     "name": "stderr",
     "output_type": "stream",
     "text": [
      "<ipython-input-8-801a85adcc0d>:15: UserWarning: [W007] The model you're using has no word vectors loaded, so the result of the Doc.similarity method will be based on the tagger, parser and NER, which may not give useful similarity judgements. This may happen if you're using one of the small models, e.g. `en_core_web_sm`, which don't ship with word vectors and only use context-sensitive tensors. You can always add your own word vectors, or use one of the larger models instead if available.\n",
      "  df.iloc[l][m]=nlp(gwords.loc[l,'fullnopunc']).similarity(nlp(gwords.loc[m,'fullnopunc']))\n",
      "<ipython-input-8-801a85adcc0d>:15: UserWarning: [W008] Evaluating Doc.similarity based on empty vectors.\n",
      "  df.iloc[l][m]=nlp(gwords.loc[l,'fullnopunc']).similarity(nlp(gwords.loc[m,'fullnopunc']))\n"
     ]
    },
    {
     "data": {
      "application/vnd.jupyter.widget-view+json": {
       "model_id": "ec06396384814c15bf1e106c8a3ccafe",
       "version_major": 2,
       "version_minor": 0
      },
      "text/plain": [
       "  0%|          | 0/138 [00:00<?, ?it/s]"
      ]
     },
     "metadata": {},
     "output_type": "display_data"
    },
    {
     "data": {
      "application/vnd.jupyter.widget-view+json": {
       "model_id": "c22fe1b08bc44c348dfdecf09fdc3aed",
       "version_major": 2,
       "version_minor": 0
      },
      "text/plain": [
       "  0%|          | 0/138 [00:00<?, ?it/s]"
      ]
     },
     "metadata": {},
     "output_type": "display_data"
    },
    {
     "data": {
      "application/vnd.jupyter.widget-view+json": {
       "model_id": "8aa0a2df5ec644d295cb717f761297e4",
       "version_major": 2,
       "version_minor": 0
      },
      "text/plain": [
       "  0%|          | 0/138 [00:00<?, ?it/s]"
      ]
     },
     "metadata": {},
     "output_type": "display_data"
    },
    {
     "data": {
      "application/vnd.jupyter.widget-view+json": {
       "model_id": "345de882007a49a3b22500aa1352d73b",
       "version_major": 2,
       "version_minor": 0
      },
      "text/plain": [
       "  0%|          | 0/138 [00:00<?, ?it/s]"
      ]
     },
     "metadata": {},
     "output_type": "display_data"
    },
    {
     "data": {
      "application/vnd.jupyter.widget-view+json": {
       "model_id": "d6548cb6b2354201a1e5123fa14dfbe3",
       "version_major": 2,
       "version_minor": 0
      },
      "text/plain": [
       "  0%|          | 0/138 [00:00<?, ?it/s]"
      ]
     },
     "metadata": {},
     "output_type": "display_data"
    },
    {
     "data": {
      "application/vnd.jupyter.widget-view+json": {
       "model_id": "c6b35281d09f40b88bcd1caa06cf7998",
       "version_major": 2,
       "version_minor": 0
      },
      "text/plain": [
       "  0%|          | 0/138 [00:00<?, ?it/s]"
      ]
     },
     "metadata": {},
     "output_type": "display_data"
    },
    {
     "data": {
      "application/vnd.jupyter.widget-view+json": {
       "model_id": "0d8cf22e5fea4506a719cfcceef83c67",
       "version_major": 2,
       "version_minor": 0
      },
      "text/plain": [
       "  0%|          | 0/138 [00:00<?, ?it/s]"
      ]
     },
     "metadata": {},
     "output_type": "display_data"
    },
    {
     "data": {
      "application/vnd.jupyter.widget-view+json": {
       "model_id": "d59a12ca21914d818b6426f821062bfa",
       "version_major": 2,
       "version_minor": 0
      },
      "text/plain": [
       "  0%|          | 0/138 [00:00<?, ?it/s]"
      ]
     },
     "metadata": {},
     "output_type": "display_data"
    },
    {
     "data": {
      "application/vnd.jupyter.widget-view+json": {
       "model_id": "80b7cf2d2a3e4989bedbb76b9ee2b66d",
       "version_major": 2,
       "version_minor": 0
      },
      "text/plain": [
       "  0%|          | 0/138 [00:00<?, ?it/s]"
      ]
     },
     "metadata": {},
     "output_type": "display_data"
    },
    {
     "data": {
      "application/vnd.jupyter.widget-view+json": {
       "model_id": "a73a80ff84954a4d87c84543eea7f9a9",
       "version_major": 2,
       "version_minor": 0
      },
      "text/plain": [
       "  0%|          | 0/138 [00:00<?, ?it/s]"
      ]
     },
     "metadata": {},
     "output_type": "display_data"
    },
    {
     "data": {
      "application/vnd.jupyter.widget-view+json": {
       "model_id": "21ccb5c684254474bed4a186b557507a",
       "version_major": 2,
       "version_minor": 0
      },
      "text/plain": [
       "  0%|          | 0/138 [00:00<?, ?it/s]"
      ]
     },
     "metadata": {},
     "output_type": "display_data"
    },
    {
     "data": {
      "application/vnd.jupyter.widget-view+json": {
       "model_id": "00f63825da3941d0ac682f0d6f91add5",
       "version_major": 2,
       "version_minor": 0
      },
      "text/plain": [
       "  0%|          | 0/138 [00:00<?, ?it/s]"
      ]
     },
     "metadata": {},
     "output_type": "display_data"
    }
   ],
   "source": [
    "testgood=pd.read_csv(\"./Data/TF_Old.csv\")\n",
    "gwords=pd.read_csv(\"./test_good_101_1_words.csv\")\n",
    "\n",
    "x=[]\n",
    "t1x=[]\n",
    "t2x=[]\n",
    "t3x=[]\n",
    "df = pd.DataFrame(np.ones((202, 202)))\n",
    "for l in tqdm(range(len(gwords))):\n",
    "    f1=0\n",
    "    f2=0\n",
    "    f3=0\n",
    "    for m in tqdm(range(len(gwords))):\n",
    "        if(m!=l):\n",
    "            df.iloc[l][m]=nlp(gwords.loc[l,'fullnopunc']).similarity(nlp(gwords.loc[m,'fullnopunc']))\n",
    "            if(0.5>df.iloc[l][m]):\n",
    "                f1=f1+1\n",
    "                f2=f2+1\n",
    "                f3=f3+1\n",
    "            elif(0.6>df.iloc[l][m]):\n",
    "                f2=f2+1\n",
    "                f3=f3+1\n",
    "            elif(0.7>df.iloc[l][m]):\n",
    "                f3=f3+1\n",
    "    t1x.append(f1)\n",
    "    t2x.append(f2)\n",
    "    t3x.append(f3)\n",
    "x.append(pd.Series(t1x).std())\n",
    "x.append(pd.Series(t2x).std())\n",
    "x.append(pd.Series(t3x).std())\n",
    "print(x)\n",
    "print(len(gwords)/(x[0]+1))\n",
    "print(len(gwords)/(x[1]+1))\n",
    "print(len(gwords)/(x[2]+1))\n",
    "df\n",
    "\n",
    "\n",
    "\n",
    "\n",
    "\n"
   ]
  },
  {
   "cell_type": "code",
   "execution_count": 4,
   "metadata": {},
   "outputs": [
    {
     "name": "stdout",
     "output_type": "stream",
     "text": [
      "     0         1         2         3         4         5         6    \\\n",
      "0    1.0  0.841631  0.811271  0.811088  0.810548  0.809120  0.808563   \n",
      "1    1.0  0.847376  0.840724  0.839129  0.819429  0.816006  0.813445   \n",
      "2    1.0  0.864076  0.806754  0.802106  0.791063  0.786970  0.774636   \n",
      "3    1.0  0.877176  0.873892  0.862039  0.854112  0.853558  0.846699   \n",
      "4    1.0  0.871560  0.865969  0.852889  0.839335  0.838351  0.828037   \n",
      "..   ...       ...       ...       ...       ...       ...       ...   \n",
      "197  1.0  0.871582  0.860405  0.821593  0.816187  0.812881  0.797601   \n",
      "198  1.0  0.799408  0.790968  0.789190  0.788508  0.779902  0.776647   \n",
      "199  1.0  0.794545  0.779617  0.743071  0.736219  0.716704  0.706165   \n",
      "200  1.0  0.800950  0.787911  0.787531  0.763701  0.761909  0.752492   \n",
      "201  1.0  0.893854  0.840266  0.837109  0.837026  0.830127  0.826560   \n",
      "\n",
      "          7         8         9    ...       192       193       194  \\\n",
      "0    0.805794  0.805288  0.805226  ...  0.596282  0.592059  0.576282   \n",
      "1    0.812887  0.801587  0.799002  ...  0.597197  0.593528  0.584127   \n",
      "2    0.773971  0.769101  0.766833  ...  0.559416  0.540193  0.539152   \n",
      "3    0.846632  0.845893  0.845832  ...  0.567660  0.556622  0.548198   \n",
      "4    0.828037  0.826087  0.825472  ...  0.541107  0.534059  0.532454   \n",
      "..        ...       ...       ...  ...       ...       ...       ...   \n",
      "197  0.796902  0.796806  0.791968  ...  0.563938  0.557176  0.530434   \n",
      "198  0.774689  0.774375  0.773484  ...  0.581297  0.577485  0.553347   \n",
      "199  0.703525  0.703034  0.695476  ...  0.490603  0.490428  0.488668   \n",
      "200  0.750332  0.740953  0.723289  ...  0.542332  0.540287  0.538369   \n",
      "201  0.822252  0.818700  0.813588  ...  0.582212  0.575690  0.563006   \n",
      "\n",
      "          195       196       197       198       199       200       201  \n",
      "0    0.550084  0.549631  0.542180  0.532076  0.527108  0.500602  0.493235  \n",
      "1    0.562159  0.550845  0.539781  0.522253  0.515248  0.513170  0.511473  \n",
      "2    0.534791  0.532122  0.527230  0.524299  0.516759  0.504084  0.487994  \n",
      "3    0.532187  0.529304  0.523422  0.511758  0.490020  0.435357  0.425643  \n",
      "4    0.521594  0.507390  0.502548  0.502535  0.499220  0.456091  0.440800  \n",
      "..        ...       ...       ...       ...       ...       ...       ...  \n",
      "197  0.519342  0.508569  0.504923  0.499520  0.490842  0.481868  0.463619  \n",
      "198  0.551490  0.542154  0.528031  0.521397  0.515040  0.507232  0.504621  \n",
      "199  0.480737  0.479927  0.474848  0.472684  0.469016  0.467000  0.461635  \n",
      "200  0.538358  0.538308  0.524806  0.522699  0.518791  0.516276  0.512784  \n",
      "201  0.562564  0.537200  0.530400  0.494642  0.493518  0.488038  0.467530  \n",
      "\n",
      "[202 rows x 202 columns]\n"
     ]
    },
    {
     "data": {
      "application/vnd.jupyter.widget-view+json": {
       "model_id": "b1789a13ad2f4a78b3a3979070103908",
       "version_major": 2,
       "version_minor": 0
      },
      "text/plain": [
       "HBox(children=(IntProgress(value=0, max=202), HTML(value='')))"
      ]
     },
     "metadata": {},
     "output_type": "display_data"
    },
    {
     "name": "stdout",
     "output_type": "stream",
     "text": [
      "\n",
      "202.0\n"
     ]
    },
    {
     "data": {
      "application/vnd.jupyter.widget-view+json": {
       "model_id": "7640842f8b624671a79f6975cdfe88ae",
       "version_major": 2,
       "version_minor": 0
      },
      "text/plain": [
       "HBox(children=(IntProgress(value=0, max=202), HTML(value='')))"
      ]
     },
     "metadata": {},
     "output_type": "display_data"
    },
    {
     "name": "stdout",
     "output_type": "stream",
     "text": [
      "\n",
      "202.0\n"
     ]
    },
    {
     "data": {
      "application/vnd.jupyter.widget-view+json": {
       "model_id": "438d76e29b23494e8a79364368993d62",
       "version_major": 2,
       "version_minor": 0
      },
      "text/plain": [
       "HBox(children=(IntProgress(value=0, max=202), HTML(value='')))"
      ]
     },
     "metadata": {},
     "output_type": "display_data"
    },
    {
     "name": "stdout",
     "output_type": "stream",
     "text": [
      "\n",
      "199.90659285817534\n"
     ]
    }
   ],
   "source": [
    "t2xx=df.values\n",
    "t2xx.sort(axis=1)\n",
    "t2xx = t2xx[:, ::-1]\n",
    "dfsort=pd.DataFrame(t2xx, df.index, df.columns)\n",
    "print(dfsort)\n",
    "\n",
    "t2xx=[]\n",
    "a=math.floor(0.25*len(dfsort))\n",
    "for i in tqdm(range(len(dfsort))):\n",
    "    for j in (range((a))):\n",
    "        if(dfsort.iloc[i][j]<0.5):            \n",
    "            t2xx.append(abs(dfsort.iloc[i][j]-0.5))\n",
    "print(len(dfsort)/(pd.Series(t2xx).sum()+1))\n",
    "\n",
    "t2x=[]\n",
    "a=math.floor(0.33*len(dfsort))\n",
    "for i in tqdm(range(len(dfsort))):\n",
    "    for j in (range((a))):\n",
    "        if(dfsort.iloc[i][j]<0.5):            \n",
    "            t2xx.append(abs(dfsort.iloc[i][j]-0.5))\n",
    "print(len(dfsort)/(pd.Series(t2xx).sum()+1))\n",
    "\n",
    "t2xx=[]\n",
    "a=math.floor(0.5*len(dfsort))\n",
    "for i in tqdm(range(len(dfsort))):\n",
    "    for j in (range((a))):\n",
    "        if(dfsort.iloc[i][j]<0.5):            \n",
    "            t2xx.append(abs(dfsort.iloc[i][j]-0.5))\n",
    "print(len(dfsort)/(pd.Series(t2xx).sum()+1))\n",
    "\n",
    "\n",
    "\n"
   ]
  },
  {
   "cell_type": "code",
   "execution_count": null,
   "metadata": {},
   "outputs": [],
   "source": []
  }
 ],
 "metadata": {
  "kernelspec": {
   "display_name": "Python 3",
   "language": "python",
   "name": "python3"
  },
  "language_info": {
   "codemirror_mode": {
    "name": "ipython",
    "version": 3
   },
   "file_extension": ".py",
   "mimetype": "text/x-python",
   "name": "python",
   "nbconvert_exporter": "python",
   "pygments_lexer": "ipython3",
   "version": "3.8.8"
  }
 },
 "nbformat": 4,
 "nbformat_minor": 2
}
